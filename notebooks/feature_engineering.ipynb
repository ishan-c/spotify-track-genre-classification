{
 "cells": [
  {
   "cell_type": "markdown",
   "source": [
    "## Feature Engineering"
   ],
   "metadata": {
    "collapsed": false
   },
   "id": "32b99e17f94f8ae4"
  },
  {
   "cell_type": "code",
   "execution_count": 1,
   "outputs": [],
   "source": [
    "import os\n",
    "from pathlib import Path\n",
    "\n",
    "import pandas as pd\n",
    "from dotenv import load_dotenv\n",
    "\n",
    "SEED = 42"
   ],
   "metadata": {
    "collapsed": false,
    "ExecuteTime": {
     "end_time": "2024-03-01T22:46:18.186693400Z",
     "start_time": "2024-03-01T22:46:18.176983500Z"
    }
   },
   "id": "a8c5df18c1dc4309"
  },
  {
   "cell_type": "code",
   "execution_count": 2,
   "outputs": [],
   "source": [
    "# Data import\n",
    "load_dotenv()\n",
    "\n",
    "DATA_PATH = Path(os.getenv('PROJECT_ROOT'), '.') / 'data'\n",
    "TRACKS_FILE = DATA_PATH / 'spotify_track_genres_preprocessed.csv'\n",
    "\n",
    "tracks = pd.read_csv(TRACKS_FILE)"
   ],
   "metadata": {
    "collapsed": false,
    "ExecuteTime": {
     "end_time": "2024-03-01T22:46:18.234429600Z",
     "start_time": "2024-03-01T22:46:18.186693400Z"
    }
   },
   "id": "3e7363a85b7652d0"
  },
  {
   "cell_type": "code",
   "execution_count": 4,
   "outputs": [
    {
     "name": "stdout",
     "output_type": "stream",
     "text": [
      "<class 'pandas.core.frame.DataFrame'>\n",
      "RangeIndex: 10416 entries, 0 to 10415\n",
      "Data columns (total 20 columns):\n",
      " #   Column            Non-Null Count  Dtype  \n",
      "---  ------            --------------  -----  \n",
      " 0   track_id          10416 non-null  object \n",
      " 1   duration_ms       10416 non-null  int64  \n",
      " 2   track_name        10416 non-null  object \n",
      " 3   track_popularity  10416 non-null  int64  \n",
      " 4   acousticness      10416 non-null  float64\n",
      " 5   danceability      10416 non-null  float64\n",
      " 6   energy            10416 non-null  float64\n",
      " 7   instrumentalness  10416 non-null  float64\n",
      " 8   key               10416 non-null  int64  \n",
      " 9   liveness          10416 non-null  float64\n",
      " 10  loudness          10416 non-null  float64\n",
      " 11  mode              10416 non-null  int64  \n",
      " 12  speechiness       10416 non-null  float64\n",
      " 13  tempo             10416 non-null  float64\n",
      " 14  time_signature    10416 non-null  int64  \n",
      " 15  valence           10416 non-null  float64\n",
      " 16  artist_ids        10416 non-null  object \n",
      " 17  n_artists         10416 non-null  int64  \n",
      " 18  artist_genres     10416 non-null  object \n",
      " 19  n_genres          10416 non-null  int64  \n",
      "dtypes: float64(9), int64(7), object(4)\n",
      "memory usage: 1.6+ MB\n"
     ]
    },
    {
     "data": {
      "text/plain": "        duration_ms  track_popularity  acousticness  danceability  \\\ncount  1.041600e+04      10416.000000  10416.000000  10416.000000   \nmean   2.286264e+05         52.253744      0.360780      0.577236   \nstd    1.056449e+05         24.445176      0.353521      0.194247   \nmin    2.560000e+04          0.000000      0.000002      0.000000   \n25%    1.736338e+05         40.000000      0.036650      0.452000   \n50%    2.135395e+05         56.000000      0.216000      0.596000   \n75%    2.584020e+05         71.000000      0.699000      0.726000   \nmax    2.668693e+06        100.000000      0.996000      0.979000   \n\n             energy  instrumentalness           key      liveness  \\\ncount  10416.000000      10416.000000  10416.000000  10416.000000   \nmean       0.564434          0.205984      5.245776      0.174369   \nstd        0.275336          0.349380      3.554538      0.139941   \nmin        0.001100          0.000000      0.000000      0.015700   \n25%        0.364000          0.000000      2.000000      0.093100   \n50%        0.603000          0.000190      5.000000      0.119000   \n75%        0.791000          0.266250      8.000000      0.206000   \nmax        0.999000          0.994000     11.000000      1.000000   \n\n           loudness          mode   speechiness         tempo  time_signature  \\\ncount  10416.000000  10416.000000  10416.000000  10416.000000    10416.000000   \nmean      -9.679182      0.612903      0.086908    117.952822        3.886425   \nstd        6.641682      0.487109      0.088110     30.271137        0.439159   \nmin      -47.903000      0.000000      0.000000      0.000000        0.000000   \n25%      -11.953000      0.000000      0.036800     94.195500        4.000000   \n50%       -7.617500      1.000000      0.049000    118.005000        4.000000   \n75%       -5.264750      1.000000      0.091000    137.644500        4.000000   \nmax        2.015000      1.000000      0.937000    217.969000        5.000000   \n\n            valence     n_artists      n_genres  \ncount  10416.000000  10416.000000  10416.000000  \nmean       0.473638      1.384121      4.404570  \nstd        0.264467      0.787452      3.528924  \nmin        0.000000      1.000000      1.000000  \n25%        0.249000      1.000000      2.000000  \n50%        0.472000      1.000000      4.000000  \n75%        0.688000      2.000000      6.000000  \nmax        0.988000     16.000000     91.000000  ",
      "text/html": "<div>\n<style scoped>\n    .dataframe tbody tr th:only-of-type {\n        vertical-align: middle;\n    }\n\n    .dataframe tbody tr th {\n        vertical-align: top;\n    }\n\n    .dataframe thead th {\n        text-align: right;\n    }\n</style>\n<table border=\"1\" class=\"dataframe\">\n  <thead>\n    <tr style=\"text-align: right;\">\n      <th></th>\n      <th>duration_ms</th>\n      <th>track_popularity</th>\n      <th>acousticness</th>\n      <th>danceability</th>\n      <th>energy</th>\n      <th>instrumentalness</th>\n      <th>key</th>\n      <th>liveness</th>\n      <th>loudness</th>\n      <th>mode</th>\n      <th>speechiness</th>\n      <th>tempo</th>\n      <th>time_signature</th>\n      <th>valence</th>\n      <th>n_artists</th>\n      <th>n_genres</th>\n    </tr>\n  </thead>\n  <tbody>\n    <tr>\n      <th>count</th>\n      <td>1.041600e+04</td>\n      <td>10416.000000</td>\n      <td>10416.000000</td>\n      <td>10416.000000</td>\n      <td>10416.000000</td>\n      <td>10416.000000</td>\n      <td>10416.000000</td>\n      <td>10416.000000</td>\n      <td>10416.000000</td>\n      <td>10416.000000</td>\n      <td>10416.000000</td>\n      <td>10416.000000</td>\n      <td>10416.000000</td>\n      <td>10416.000000</td>\n      <td>10416.000000</td>\n      <td>10416.000000</td>\n    </tr>\n    <tr>\n      <th>mean</th>\n      <td>2.286264e+05</td>\n      <td>52.253744</td>\n      <td>0.360780</td>\n      <td>0.577236</td>\n      <td>0.564434</td>\n      <td>0.205984</td>\n      <td>5.245776</td>\n      <td>0.174369</td>\n      <td>-9.679182</td>\n      <td>0.612903</td>\n      <td>0.086908</td>\n      <td>117.952822</td>\n      <td>3.886425</td>\n      <td>0.473638</td>\n      <td>1.384121</td>\n      <td>4.404570</td>\n    </tr>\n    <tr>\n      <th>std</th>\n      <td>1.056449e+05</td>\n      <td>24.445176</td>\n      <td>0.353521</td>\n      <td>0.194247</td>\n      <td>0.275336</td>\n      <td>0.349380</td>\n      <td>3.554538</td>\n      <td>0.139941</td>\n      <td>6.641682</td>\n      <td>0.487109</td>\n      <td>0.088110</td>\n      <td>30.271137</td>\n      <td>0.439159</td>\n      <td>0.264467</td>\n      <td>0.787452</td>\n      <td>3.528924</td>\n    </tr>\n    <tr>\n      <th>min</th>\n      <td>2.560000e+04</td>\n      <td>0.000000</td>\n      <td>0.000002</td>\n      <td>0.000000</td>\n      <td>0.001100</td>\n      <td>0.000000</td>\n      <td>0.000000</td>\n      <td>0.015700</td>\n      <td>-47.903000</td>\n      <td>0.000000</td>\n      <td>0.000000</td>\n      <td>0.000000</td>\n      <td>0.000000</td>\n      <td>0.000000</td>\n      <td>1.000000</td>\n      <td>1.000000</td>\n    </tr>\n    <tr>\n      <th>25%</th>\n      <td>1.736338e+05</td>\n      <td>40.000000</td>\n      <td>0.036650</td>\n      <td>0.452000</td>\n      <td>0.364000</td>\n      <td>0.000000</td>\n      <td>2.000000</td>\n      <td>0.093100</td>\n      <td>-11.953000</td>\n      <td>0.000000</td>\n      <td>0.036800</td>\n      <td>94.195500</td>\n      <td>4.000000</td>\n      <td>0.249000</td>\n      <td>1.000000</td>\n      <td>2.000000</td>\n    </tr>\n    <tr>\n      <th>50%</th>\n      <td>2.135395e+05</td>\n      <td>56.000000</td>\n      <td>0.216000</td>\n      <td>0.596000</td>\n      <td>0.603000</td>\n      <td>0.000190</td>\n      <td>5.000000</td>\n      <td>0.119000</td>\n      <td>-7.617500</td>\n      <td>1.000000</td>\n      <td>0.049000</td>\n      <td>118.005000</td>\n      <td>4.000000</td>\n      <td>0.472000</td>\n      <td>1.000000</td>\n      <td>4.000000</td>\n    </tr>\n    <tr>\n      <th>75%</th>\n      <td>2.584020e+05</td>\n      <td>71.000000</td>\n      <td>0.699000</td>\n      <td>0.726000</td>\n      <td>0.791000</td>\n      <td>0.266250</td>\n      <td>8.000000</td>\n      <td>0.206000</td>\n      <td>-5.264750</td>\n      <td>1.000000</td>\n      <td>0.091000</td>\n      <td>137.644500</td>\n      <td>4.000000</td>\n      <td>0.688000</td>\n      <td>2.000000</td>\n      <td>6.000000</td>\n    </tr>\n    <tr>\n      <th>max</th>\n      <td>2.668693e+06</td>\n      <td>100.000000</td>\n      <td>0.996000</td>\n      <td>0.979000</td>\n      <td>0.999000</td>\n      <td>0.994000</td>\n      <td>11.000000</td>\n      <td>1.000000</td>\n      <td>2.015000</td>\n      <td>1.000000</td>\n      <td>0.937000</td>\n      <td>217.969000</td>\n      <td>5.000000</td>\n      <td>0.988000</td>\n      <td>16.000000</td>\n      <td>91.000000</td>\n    </tr>\n  </tbody>\n</table>\n</div>"
     },
     "execution_count": 4,
     "metadata": {},
     "output_type": "execute_result"
    }
   ],
   "source": [
    "# Check data\n",
    "tracks.info()\n",
    "tracks.describe()"
   ],
   "metadata": {
    "collapsed": false,
    "ExecuteTime": {
     "end_time": "2024-03-01T22:48:01.453704200Z",
     "start_time": "2024-03-01T22:48:01.415155700Z"
    }
   },
   "id": "70444e02f74894f0"
  },
  {
   "cell_type": "code",
   "execution_count": 5,
   "outputs": [
    {
     "data": {
      "text/plain": "                 track_id  duration_ms            track_name  \\\n0  000u1dTg7y1XCDXi80hbBX       300600  I Don't Want A Lover   \n1  003FTlCpBTM4eSqYSWPv4H       233266          Swing, Swing   \n2  003vvx7Niy0yvhvHt4a68B       222973        Mr. Brightside   \n3  008RKiNmjW5Lb6Ocumq6MA       298666             TWO OF US   \n4  009ImBOrIUlWgla8U05RAC       228878       Unconditionally   \n\n   track_popularity  acousticness  danceability  energy  instrumentalness  \\\n0                 1      0.196000         0.756   0.470          0.000487   \n1                70      0.000065         0.553   0.717          0.128000   \n2                90      0.001210         0.352   0.911          0.000000   \n3                46      0.927000         0.144   0.188          0.684000   \n4                82      0.002730         0.432   0.725          0.000000   \n\n   key  liveness  loudness  mode  speechiness    tempo  time_signature  \\\n0    7    0.1260   -12.615     1       0.0394  120.484               4   \n1    7    0.0385    -5.857     1       0.0318  127.947               4   \n2    1    0.0995    -5.230     1       0.0747  148.033               4   \n3    4    0.1520   -13.680     0       0.0399   85.762               4   \n4    7    0.2080    -4.862     1       0.0431  128.902               4   \n\n   valence                  artist_ids  n_artists  \\\n0   0.4300  ['5JsdVATHNPE0XdMFMRoSuf']          1   \n1   0.3180  ['3vAaWhdBR38Q02ohXqaNHT']          1   \n2   0.2360  ['0C0XlULifJtAgn6ZNCW2eu']          1   \n3   0.0743  ['6mOCYCpXBAmulHN4kMfQaa']          1   \n4   0.3530  ['6jJ0s89eD6GaHleKKya26X']          1   \n\n                                       artist_genres  n_genres  \n0  ['scottish rock', 'new wave pop', 'new romantic']         3  \n1  ['neon pop punk', 'neo mellow', 'post-grunge',...         7  \n2  ['permanent wave', 'alternative rock', 'dance ...         5  \n3                                    ['anime score']         1  \n4                                            ['pop']         1  ",
      "text/html": "<div>\n<style scoped>\n    .dataframe tbody tr th:only-of-type {\n        vertical-align: middle;\n    }\n\n    .dataframe tbody tr th {\n        vertical-align: top;\n    }\n\n    .dataframe thead th {\n        text-align: right;\n    }\n</style>\n<table border=\"1\" class=\"dataframe\">\n  <thead>\n    <tr style=\"text-align: right;\">\n      <th></th>\n      <th>track_id</th>\n      <th>duration_ms</th>\n      <th>track_name</th>\n      <th>track_popularity</th>\n      <th>acousticness</th>\n      <th>danceability</th>\n      <th>energy</th>\n      <th>instrumentalness</th>\n      <th>key</th>\n      <th>liveness</th>\n      <th>loudness</th>\n      <th>mode</th>\n      <th>speechiness</th>\n      <th>tempo</th>\n      <th>time_signature</th>\n      <th>valence</th>\n      <th>artist_ids</th>\n      <th>n_artists</th>\n      <th>artist_genres</th>\n      <th>n_genres</th>\n    </tr>\n  </thead>\n  <tbody>\n    <tr>\n      <th>0</th>\n      <td>000u1dTg7y1XCDXi80hbBX</td>\n      <td>300600</td>\n      <td>I Don't Want A Lover</td>\n      <td>1</td>\n      <td>0.196000</td>\n      <td>0.756</td>\n      <td>0.470</td>\n      <td>0.000487</td>\n      <td>7</td>\n      <td>0.1260</td>\n      <td>-12.615</td>\n      <td>1</td>\n      <td>0.0394</td>\n      <td>120.484</td>\n      <td>4</td>\n      <td>0.4300</td>\n      <td>['5JsdVATHNPE0XdMFMRoSuf']</td>\n      <td>1</td>\n      <td>['scottish rock', 'new wave pop', 'new romantic']</td>\n      <td>3</td>\n    </tr>\n    <tr>\n      <th>1</th>\n      <td>003FTlCpBTM4eSqYSWPv4H</td>\n      <td>233266</td>\n      <td>Swing, Swing</td>\n      <td>70</td>\n      <td>0.000065</td>\n      <td>0.553</td>\n      <td>0.717</td>\n      <td>0.128000</td>\n      <td>7</td>\n      <td>0.0385</td>\n      <td>-5.857</td>\n      <td>1</td>\n      <td>0.0318</td>\n      <td>127.947</td>\n      <td>4</td>\n      <td>0.3180</td>\n      <td>['3vAaWhdBR38Q02ohXqaNHT']</td>\n      <td>1</td>\n      <td>['neon pop punk', 'neo mellow', 'post-grunge',...</td>\n      <td>7</td>\n    </tr>\n    <tr>\n      <th>2</th>\n      <td>003vvx7Niy0yvhvHt4a68B</td>\n      <td>222973</td>\n      <td>Mr. Brightside</td>\n      <td>90</td>\n      <td>0.001210</td>\n      <td>0.352</td>\n      <td>0.911</td>\n      <td>0.000000</td>\n      <td>1</td>\n      <td>0.0995</td>\n      <td>-5.230</td>\n      <td>1</td>\n      <td>0.0747</td>\n      <td>148.033</td>\n      <td>4</td>\n      <td>0.2360</td>\n      <td>['0C0XlULifJtAgn6ZNCW2eu']</td>\n      <td>1</td>\n      <td>['permanent wave', 'alternative rock', 'dance ...</td>\n      <td>5</td>\n    </tr>\n    <tr>\n      <th>3</th>\n      <td>008RKiNmjW5Lb6Ocumq6MA</td>\n      <td>298666</td>\n      <td>TWO OF US</td>\n      <td>46</td>\n      <td>0.927000</td>\n      <td>0.144</td>\n      <td>0.188</td>\n      <td>0.684000</td>\n      <td>4</td>\n      <td>0.1520</td>\n      <td>-13.680</td>\n      <td>0</td>\n      <td>0.0399</td>\n      <td>85.762</td>\n      <td>4</td>\n      <td>0.0743</td>\n      <td>['6mOCYCpXBAmulHN4kMfQaa']</td>\n      <td>1</td>\n      <td>['anime score']</td>\n      <td>1</td>\n    </tr>\n    <tr>\n      <th>4</th>\n      <td>009ImBOrIUlWgla8U05RAC</td>\n      <td>228878</td>\n      <td>Unconditionally</td>\n      <td>82</td>\n      <td>0.002730</td>\n      <td>0.432</td>\n      <td>0.725</td>\n      <td>0.000000</td>\n      <td>7</td>\n      <td>0.2080</td>\n      <td>-4.862</td>\n      <td>1</td>\n      <td>0.0431</td>\n      <td>128.902</td>\n      <td>4</td>\n      <td>0.3530</td>\n      <td>['6jJ0s89eD6GaHleKKya26X']</td>\n      <td>1</td>\n      <td>['pop']</td>\n      <td>1</td>\n    </tr>\n  </tbody>\n</table>\n</div>"
     },
     "execution_count": 5,
     "metadata": {},
     "output_type": "execute_result"
    }
   ],
   "source": [
    "tracks.head()"
   ],
   "metadata": {
    "collapsed": false,
    "ExecuteTime": {
     "end_time": "2024-03-01T22:48:03.425642900Z",
     "start_time": "2024-03-01T22:48:03.405969400Z"
    }
   },
   "id": "e763196441ec6b25"
  },
  {
   "cell_type": "code",
   "execution_count": null,
   "outputs": [],
   "source": [],
   "metadata": {
    "collapsed": false
   },
   "id": "ebf10273953e5973"
  }
 ],
 "metadata": {
  "kernelspec": {
   "display_name": "Python 3",
   "language": "python",
   "name": "python3"
  },
  "language_info": {
   "codemirror_mode": {
    "name": "ipython",
    "version": 2
   },
   "file_extension": ".py",
   "mimetype": "text/x-python",
   "name": "python",
   "nbconvert_exporter": "python",
   "pygments_lexer": "ipython2",
   "version": "2.7.6"
  }
 },
 "nbformat": 4,
 "nbformat_minor": 5
}
