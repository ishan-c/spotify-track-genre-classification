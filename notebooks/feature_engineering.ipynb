{
 "cells": [
  {
   "cell_type": "markdown",
   "source": [
    "# Feature Engineering"
   ],
   "metadata": {
    "collapsed": false
   },
   "id": "32b99e17f94f8ae4"
  },
  {
   "cell_type": "markdown",
   "source": [
    "### Initializations"
   ],
   "metadata": {
    "collapsed": false
   },
   "id": "6d584292a1b8f126"
  },
  {
   "cell_type": "code",
   "execution_count": 1,
   "outputs": [],
   "source": [
    "import ast\n",
    "import os\n",
    "import pickle\n",
    "import warnings\n",
    "from pathlib import Path\n",
    "\n",
    "import matplotlib.pyplot as plt\n",
    "import numpy as np\n",
    "import pandas as pd\n",
    "import seaborn as sns\n",
    "from dotenv import load_dotenv\n",
    "from sklearn.preprocessing import StandardScaler\n",
    "\n",
    "from evaluation.experiment import Experiment\n",
    "from integrations.databricks.auth import setup_mlflow\n",
    "from models.config import baseline_experiment_configs\n",
    "from models.setup import experiment_setup\n",
    "from utils.dataset import Dataset\n",
    "\n",
    "load_dotenv()\n",
    "\n",
    "setup_mlflow()\n",
    "mlflow_path = os.getenv('MLFLOW_FEATURE_ENG')\n",
    "sns.set_style('whitegrid')\n",
    "warnings.simplefilter(action='ignore', category=UserWarning)\n",
    "\n",
    "SEED = 42"
   ],
   "metadata": {
    "collapsed": false,
    "ExecuteTime": {
     "end_time": "2024-03-25T17:45:01.218663100Z",
     "start_time": "2024-03-25T17:44:37.802948300Z"
    }
   },
   "id": "a8c5df18c1dc4309"
  },
  {
   "cell_type": "code",
   "execution_count": 2,
   "outputs": [],
   "source": [
    "# Data import\n",
    "DATA_PATH = Path(os.getenv('PROJECT_ROOT'), '.') / 'data'\n",
    "TRACKS_FILE = DATA_PATH / 'spotify_track_genres_preprocessed.csv'\n",
    "\n",
    "tracks = pd.read_csv(TRACKS_FILE)\n",
    "tracks['artist_genres'] = tracks['artist_genres'].apply(ast.literal_eval)\n",
    "tracks['artist_ids'] = tracks['artist_ids'].apply(ast.literal_eval)"
   ],
   "metadata": {
    "collapsed": false,
    "ExecuteTime": {
     "end_time": "2024-03-25T17:45:01.914361800Z",
     "start_time": "2024-03-25T17:45:01.211668200Z"
    }
   },
   "id": "3e7363a85b7652d0"
  },
  {
   "cell_type": "code",
   "execution_count": 3,
   "outputs": [
    {
     "name": "stdout",
     "output_type": "stream",
     "text": [
      "<class 'pandas.core.frame.DataFrame'>\n",
      "RangeIndex: 10416 entries, 0 to 10415\n",
      "Data columns (total 20 columns):\n",
      " #   Column            Non-Null Count  Dtype  \n",
      "---  ------            --------------  -----  \n",
      " 0   track_id          10416 non-null  object \n",
      " 1   duration_ms       10416 non-null  int64  \n",
      " 2   track_name        10416 non-null  object \n",
      " 3   track_popularity  10416 non-null  int64  \n",
      " 4   acousticness      10416 non-null  float64\n",
      " 5   danceability      10416 non-null  float64\n",
      " 6   energy            10416 non-null  float64\n",
      " 7   instrumentalness  10416 non-null  float64\n",
      " 8   key               10416 non-null  int64  \n",
      " 9   liveness          10416 non-null  float64\n",
      " 10  loudness          10416 non-null  float64\n",
      " 11  mode              10416 non-null  int64  \n",
      " 12  speechiness       10416 non-null  float64\n",
      " 13  tempo             10416 non-null  float64\n",
      " 14  time_signature    10416 non-null  int64  \n",
      " 15  valence           10416 non-null  float64\n",
      " 16  artist_ids        10416 non-null  object \n",
      " 17  n_artists         10416 non-null  int64  \n",
      " 18  artist_genres     10416 non-null  object \n",
      " 19  n_genres          10416 non-null  int64  \n",
      "dtypes: float64(9), int64(7), object(4)\n",
      "memory usage: 1.6+ MB\n"
     ]
    },
    {
     "data": {
      "text/plain": "        duration_ms  track_popularity  acousticness  danceability  \\\ncount  1.041600e+04      10416.000000  10416.000000  10416.000000   \nmean   2.286264e+05         52.253744      0.360780      0.577236   \nstd    1.056449e+05         24.445176      0.353521      0.194247   \nmin    2.560000e+04          0.000000      0.000002      0.000000   \n25%    1.736338e+05         40.000000      0.036650      0.452000   \n50%    2.135395e+05         56.000000      0.216000      0.596000   \n75%    2.584020e+05         71.000000      0.699000      0.726000   \nmax    2.668693e+06        100.000000      0.996000      0.979000   \n\n             energy  instrumentalness           key      liveness  \\\ncount  10416.000000      10416.000000  10416.000000  10416.000000   \nmean       0.564434          0.205984      5.245776      0.174369   \nstd        0.275336          0.349380      3.554538      0.139941   \nmin        0.001100          0.000000      0.000000      0.015700   \n25%        0.364000          0.000000      2.000000      0.093100   \n50%        0.603000          0.000190      5.000000      0.119000   \n75%        0.791000          0.266250      8.000000      0.206000   \nmax        0.999000          0.994000     11.000000      1.000000   \n\n           loudness          mode   speechiness         tempo  time_signature  \\\ncount  10416.000000  10416.000000  10416.000000  10416.000000    10416.000000   \nmean      -9.679182      0.612903      0.086908    117.952822        3.886425   \nstd        6.641682      0.487109      0.088110     30.271137        0.439159   \nmin      -47.903000      0.000000      0.000000      0.000000        0.000000   \n25%      -11.953000      0.000000      0.036800     94.195500        4.000000   \n50%       -7.617500      1.000000      0.049000    118.005000        4.000000   \n75%       -5.264750      1.000000      0.091000    137.644500        4.000000   \nmax        2.015000      1.000000      0.937000    217.969000        5.000000   \n\n            valence     n_artists      n_genres  \ncount  10416.000000  10416.000000  10416.000000  \nmean       0.473638      1.384121      4.404570  \nstd        0.264467      0.787452      3.528924  \nmin        0.000000      1.000000      1.000000  \n25%        0.249000      1.000000      2.000000  \n50%        0.472000      1.000000      4.000000  \n75%        0.688000      2.000000      6.000000  \nmax        0.988000     16.000000     91.000000  ",
      "text/html": "<div>\n<style scoped>\n    .dataframe tbody tr th:only-of-type {\n        vertical-align: middle;\n    }\n\n    .dataframe tbody tr th {\n        vertical-align: top;\n    }\n\n    .dataframe thead th {\n        text-align: right;\n    }\n</style>\n<table border=\"1\" class=\"dataframe\">\n  <thead>\n    <tr style=\"text-align: right;\">\n      <th></th>\n      <th>duration_ms</th>\n      <th>track_popularity</th>\n      <th>acousticness</th>\n      <th>danceability</th>\n      <th>energy</th>\n      <th>instrumentalness</th>\n      <th>key</th>\n      <th>liveness</th>\n      <th>loudness</th>\n      <th>mode</th>\n      <th>speechiness</th>\n      <th>tempo</th>\n      <th>time_signature</th>\n      <th>valence</th>\n      <th>n_artists</th>\n      <th>n_genres</th>\n    </tr>\n  </thead>\n  <tbody>\n    <tr>\n      <th>count</th>\n      <td>1.041600e+04</td>\n      <td>10416.000000</td>\n      <td>10416.000000</td>\n      <td>10416.000000</td>\n      <td>10416.000000</td>\n      <td>10416.000000</td>\n      <td>10416.000000</td>\n      <td>10416.000000</td>\n      <td>10416.000000</td>\n      <td>10416.000000</td>\n      <td>10416.000000</td>\n      <td>10416.000000</td>\n      <td>10416.000000</td>\n      <td>10416.000000</td>\n      <td>10416.000000</td>\n      <td>10416.000000</td>\n    </tr>\n    <tr>\n      <th>mean</th>\n      <td>2.286264e+05</td>\n      <td>52.253744</td>\n      <td>0.360780</td>\n      <td>0.577236</td>\n      <td>0.564434</td>\n      <td>0.205984</td>\n      <td>5.245776</td>\n      <td>0.174369</td>\n      <td>-9.679182</td>\n      <td>0.612903</td>\n      <td>0.086908</td>\n      <td>117.952822</td>\n      <td>3.886425</td>\n      <td>0.473638</td>\n      <td>1.384121</td>\n      <td>4.404570</td>\n    </tr>\n    <tr>\n      <th>std</th>\n      <td>1.056449e+05</td>\n      <td>24.445176</td>\n      <td>0.353521</td>\n      <td>0.194247</td>\n      <td>0.275336</td>\n      <td>0.349380</td>\n      <td>3.554538</td>\n      <td>0.139941</td>\n      <td>6.641682</td>\n      <td>0.487109</td>\n      <td>0.088110</td>\n      <td>30.271137</td>\n      <td>0.439159</td>\n      <td>0.264467</td>\n      <td>0.787452</td>\n      <td>3.528924</td>\n    </tr>\n    <tr>\n      <th>min</th>\n      <td>2.560000e+04</td>\n      <td>0.000000</td>\n      <td>0.000002</td>\n      <td>0.000000</td>\n      <td>0.001100</td>\n      <td>0.000000</td>\n      <td>0.000000</td>\n      <td>0.015700</td>\n      <td>-47.903000</td>\n      <td>0.000000</td>\n      <td>0.000000</td>\n      <td>0.000000</td>\n      <td>0.000000</td>\n      <td>0.000000</td>\n      <td>1.000000</td>\n      <td>1.000000</td>\n    </tr>\n    <tr>\n      <th>25%</th>\n      <td>1.736338e+05</td>\n      <td>40.000000</td>\n      <td>0.036650</td>\n      <td>0.452000</td>\n      <td>0.364000</td>\n      <td>0.000000</td>\n      <td>2.000000</td>\n      <td>0.093100</td>\n      <td>-11.953000</td>\n      <td>0.000000</td>\n      <td>0.036800</td>\n      <td>94.195500</td>\n      <td>4.000000</td>\n      <td>0.249000</td>\n      <td>1.000000</td>\n      <td>2.000000</td>\n    </tr>\n    <tr>\n      <th>50%</th>\n      <td>2.135395e+05</td>\n      <td>56.000000</td>\n      <td>0.216000</td>\n      <td>0.596000</td>\n      <td>0.603000</td>\n      <td>0.000190</td>\n      <td>5.000000</td>\n      <td>0.119000</td>\n      <td>-7.617500</td>\n      <td>1.000000</td>\n      <td>0.049000</td>\n      <td>118.005000</td>\n      <td>4.000000</td>\n      <td>0.472000</td>\n      <td>1.000000</td>\n      <td>4.000000</td>\n    </tr>\n    <tr>\n      <th>75%</th>\n      <td>2.584020e+05</td>\n      <td>71.000000</td>\n      <td>0.699000</td>\n      <td>0.726000</td>\n      <td>0.791000</td>\n      <td>0.266250</td>\n      <td>8.000000</td>\n      <td>0.206000</td>\n      <td>-5.264750</td>\n      <td>1.000000</td>\n      <td>0.091000</td>\n      <td>137.644500</td>\n      <td>4.000000</td>\n      <td>0.688000</td>\n      <td>2.000000</td>\n      <td>6.000000</td>\n    </tr>\n    <tr>\n      <th>max</th>\n      <td>2.668693e+06</td>\n      <td>100.000000</td>\n      <td>0.996000</td>\n      <td>0.979000</td>\n      <td>0.999000</td>\n      <td>0.994000</td>\n      <td>11.000000</td>\n      <td>1.000000</td>\n      <td>2.015000</td>\n      <td>1.000000</td>\n      <td>0.937000</td>\n      <td>217.969000</td>\n      <td>5.000000</td>\n      <td>0.988000</td>\n      <td>16.000000</td>\n      <td>91.000000</td>\n    </tr>\n  </tbody>\n</table>\n</div>"
     },
     "execution_count": 3,
     "metadata": {},
     "output_type": "execute_result"
    }
   ],
   "source": [
    "# Inspect data\n",
    "tracks.info()\n",
    "tracks.describe()"
   ],
   "metadata": {
    "collapsed": false,
    "ExecuteTime": {
     "end_time": "2024-03-18T23:07:17.278726600Z",
     "start_time": "2024-03-18T23:07:17.131274900Z"
    }
   },
   "id": "70444e02f74894f0"
  },
  {
   "cell_type": "code",
   "execution_count": 4,
   "outputs": [
    {
     "data": {
      "text/plain": "                 track_id  duration_ms            track_name  \\\n0  000u1dTg7y1XCDXi80hbBX       300600  I Don't Want A Lover   \n1  003FTlCpBTM4eSqYSWPv4H       233266          Swing, Swing   \n2  003vvx7Niy0yvhvHt4a68B       222973        Mr. Brightside   \n3  008RKiNmjW5Lb6Ocumq6MA       298666             TWO OF US   \n4  009ImBOrIUlWgla8U05RAC       228878       Unconditionally   \n\n   track_popularity  acousticness  danceability  energy  instrumentalness  \\\n0                 1      0.196000         0.756   0.470          0.000487   \n1                70      0.000065         0.553   0.717          0.128000   \n2                90      0.001210         0.352   0.911          0.000000   \n3                46      0.927000         0.144   0.188          0.684000   \n4                82      0.002730         0.432   0.725          0.000000   \n\n   key  liveness  loudness  mode  speechiness    tempo  time_signature  \\\n0    7    0.1260   -12.615     1       0.0394  120.484               4   \n1    7    0.0385    -5.857     1       0.0318  127.947               4   \n2    1    0.0995    -5.230     1       0.0747  148.033               4   \n3    4    0.1520   -13.680     0       0.0399   85.762               4   \n4    7    0.2080    -4.862     1       0.0431  128.902               4   \n\n   valence                  artist_ids  n_artists  \\\n0   0.4300  ['5JsdVATHNPE0XdMFMRoSuf']          1   \n1   0.3180  ['3vAaWhdBR38Q02ohXqaNHT']          1   \n2   0.2360  ['0C0XlULifJtAgn6ZNCW2eu']          1   \n3   0.0743  ['6mOCYCpXBAmulHN4kMfQaa']          1   \n4   0.3530  ['6jJ0s89eD6GaHleKKya26X']          1   \n\n                                       artist_genres  n_genres  \n0        [new wave pop, new romantic, scottish rock]         3  \n1  [modern rock, post-grunge, neon pop punk, pop ...         7  \n2  [alternative rock, rock, permanent wave, moder...         5  \n3                                      [anime score]         1  \n4                                              [pop]         1  ",
      "text/html": "<div>\n<style scoped>\n    .dataframe tbody tr th:only-of-type {\n        vertical-align: middle;\n    }\n\n    .dataframe tbody tr th {\n        vertical-align: top;\n    }\n\n    .dataframe thead th {\n        text-align: right;\n    }\n</style>\n<table border=\"1\" class=\"dataframe\">\n  <thead>\n    <tr style=\"text-align: right;\">\n      <th></th>\n      <th>track_id</th>\n      <th>duration_ms</th>\n      <th>track_name</th>\n      <th>track_popularity</th>\n      <th>acousticness</th>\n      <th>danceability</th>\n      <th>energy</th>\n      <th>instrumentalness</th>\n      <th>key</th>\n      <th>liveness</th>\n      <th>loudness</th>\n      <th>mode</th>\n      <th>speechiness</th>\n      <th>tempo</th>\n      <th>time_signature</th>\n      <th>valence</th>\n      <th>artist_ids</th>\n      <th>n_artists</th>\n      <th>artist_genres</th>\n      <th>n_genres</th>\n    </tr>\n  </thead>\n  <tbody>\n    <tr>\n      <th>0</th>\n      <td>000u1dTg7y1XCDXi80hbBX</td>\n      <td>300600</td>\n      <td>I Don't Want A Lover</td>\n      <td>1</td>\n      <td>0.196000</td>\n      <td>0.756</td>\n      <td>0.470</td>\n      <td>0.000487</td>\n      <td>7</td>\n      <td>0.1260</td>\n      <td>-12.615</td>\n      <td>1</td>\n      <td>0.0394</td>\n      <td>120.484</td>\n      <td>4</td>\n      <td>0.4300</td>\n      <td>['5JsdVATHNPE0XdMFMRoSuf']</td>\n      <td>1</td>\n      <td>[new wave pop, new romantic, scottish rock]</td>\n      <td>3</td>\n    </tr>\n    <tr>\n      <th>1</th>\n      <td>003FTlCpBTM4eSqYSWPv4H</td>\n      <td>233266</td>\n      <td>Swing, Swing</td>\n      <td>70</td>\n      <td>0.000065</td>\n      <td>0.553</td>\n      <td>0.717</td>\n      <td>0.128000</td>\n      <td>7</td>\n      <td>0.0385</td>\n      <td>-5.857</td>\n      <td>1</td>\n      <td>0.0318</td>\n      <td>127.947</td>\n      <td>4</td>\n      <td>0.3180</td>\n      <td>['3vAaWhdBR38Q02ohXqaNHT']</td>\n      <td>1</td>\n      <td>[modern rock, post-grunge, neon pop punk, pop ...</td>\n      <td>7</td>\n    </tr>\n    <tr>\n      <th>2</th>\n      <td>003vvx7Niy0yvhvHt4a68B</td>\n      <td>222973</td>\n      <td>Mr. Brightside</td>\n      <td>90</td>\n      <td>0.001210</td>\n      <td>0.352</td>\n      <td>0.911</td>\n      <td>0.000000</td>\n      <td>1</td>\n      <td>0.0995</td>\n      <td>-5.230</td>\n      <td>1</td>\n      <td>0.0747</td>\n      <td>148.033</td>\n      <td>4</td>\n      <td>0.2360</td>\n      <td>['0C0XlULifJtAgn6ZNCW2eu']</td>\n      <td>1</td>\n      <td>[alternative rock, rock, permanent wave, moder...</td>\n      <td>5</td>\n    </tr>\n    <tr>\n      <th>3</th>\n      <td>008RKiNmjW5Lb6Ocumq6MA</td>\n      <td>298666</td>\n      <td>TWO OF US</td>\n      <td>46</td>\n      <td>0.927000</td>\n      <td>0.144</td>\n      <td>0.188</td>\n      <td>0.684000</td>\n      <td>4</td>\n      <td>0.1520</td>\n      <td>-13.680</td>\n      <td>0</td>\n      <td>0.0399</td>\n      <td>85.762</td>\n      <td>4</td>\n      <td>0.0743</td>\n      <td>['6mOCYCpXBAmulHN4kMfQaa']</td>\n      <td>1</td>\n      <td>[anime score]</td>\n      <td>1</td>\n    </tr>\n    <tr>\n      <th>4</th>\n      <td>009ImBOrIUlWgla8U05RAC</td>\n      <td>228878</td>\n      <td>Unconditionally</td>\n      <td>82</td>\n      <td>0.002730</td>\n      <td>0.432</td>\n      <td>0.725</td>\n      <td>0.000000</td>\n      <td>7</td>\n      <td>0.2080</td>\n      <td>-4.862</td>\n      <td>1</td>\n      <td>0.0431</td>\n      <td>128.902</td>\n      <td>4</td>\n      <td>0.3530</td>\n      <td>['6jJ0s89eD6GaHleKKya26X']</td>\n      <td>1</td>\n      <td>[pop]</td>\n      <td>1</td>\n    </tr>\n  </tbody>\n</table>\n</div>"
     },
     "execution_count": 4,
     "metadata": {},
     "output_type": "execute_result"
    }
   ],
   "source": [
    "tracks.head()"
   ],
   "metadata": {
    "collapsed": false,
    "ExecuteTime": {
     "end_time": "2024-03-14T22:10:35.336932700Z",
     "start_time": "2024-03-14T22:10:35.332921100Z"
    }
   },
   "id": "e763196441ec6b25"
  },
  {
   "cell_type": "code",
   "execution_count": 6,
   "outputs": [],
   "source": [
    "# Store data fields names that will be used for developing features/training\n",
    "RAW_TRAINING_FEATURES = [\n",
    "    'duration_ms', \n",
    "    'acousticness', \n",
    "    'danceability', \n",
    "    'energy', \n",
    "    'instrumentalness', \n",
    "    'key', \n",
    "    'liveness', \n",
    "    'loudness', \n",
    "    'mode',\n",
    "    'speechiness', \n",
    "    'tempo', \n",
    "    'time_signature', \n",
    "    'valence'\n",
    "]"
   ],
   "metadata": {
    "collapsed": false,
    "ExecuteTime": {
     "end_time": "2024-03-25T17:45:47.752586300Z",
     "start_time": "2024-03-25T17:45:47.708541100Z"
    }
   },
   "id": "ebf10273953e5973"
  },
  {
   "cell_type": "code",
   "execution_count": 9,
   "outputs": [],
   "source": [
    "genre_counts = tracks.copy()[['artist_genres']].explode('artist_genres').value_counts()"
   ],
   "metadata": {
    "collapsed": false,
    "ExecuteTime": {
     "end_time": "2024-03-25T17:46:19.641716800Z",
     "start_time": "2024-03-25T17:46:19.593760100Z"
    }
   },
   "id": "bd81ae02f1861e"
  },
  {
   "cell_type": "markdown",
   "source": [
    "### Label encoding"
   ],
   "metadata": {
    "collapsed": false
   },
   "id": "b8d7dd17d5a5fe41"
  },
  {
   "cell_type": "markdown",
   "source": [
    "From the previously conducted EDA, it is apparent that the distribution of genres is highly skewed towards rare genres, shown again below. This distribution gives rise to two problems:\n",
    "- There is a possibility that a rare label can appear in the test set without appearing in the training set\n",
    "- A rare label can appear in the training set without appearing in the test set, or it can appear too few times for sufficient training"
   ],
   "metadata": {
    "collapsed": false
   },
   "id": "64402e6ce6f86fc7"
  },
  {
   "cell_type": "code",
   "execution_count": 10,
   "outputs": [
    {
     "data": {
      "text/plain": "<Figure size 640x480 with 1 Axes>",
      "image/png": "[encoded data removed]"
     },
     "metadata": {},
     "output_type": "display_data"
    }
   ],
   "source": [
    "plt.title('Distribution of Genre Counts')\n",
    "plt.xlabel('Number of Tracks for Genre')\n",
    "plt.ylabel('Number of Genres')\n",
    "plt.yscale(\"log\")\n",
    "plt.xlim([0, 100])\n",
    "sns.histplot(genre_counts, discrete=True)\n",
    "plt.show()"
   ],
   "metadata": {
    "collapsed": false,
    "ExecuteTime": {
     "end_time": "2024-03-25T17:46:25.679956900Z",
     "start_time": "2024-03-25T17:46:22.262030200Z"
    }
   },
   "id": "33922dde824727df"
  },
  {
   "cell_type": "markdown",
   "source": [
    "For a train-test split of about 80-20, there should be at least five instances of any label such that one of them can appear in the training set. This is still most likely too low, since there can be rare combinations of genres as well.\n",
    "\n",
    "To increase the average number of training examples per label, the simplest method is to set a minimum number of instances for each label and discard the rarer ones. Since it will most likely be necessary to repeat the operation of filtering genres this way, it will be useful to define a function for this. I will start by using 10 tracks per genre as a threshold."
   ],
   "metadata": {
    "collapsed": false
   },
   "id": "d916179c74d949df"
  },
  {
   "cell_type": "code",
   "execution_count": 70,
   "outputs": [],
   "source": [
    "def filter_genres(counted_genres: pd.Series, minimum_tracks: int):\n",
    "    filtered_counts = counted_genres[counted_genres >= minimum_tracks]\n",
    "    genre_subset = filtered_counts.index.to_list()\n",
    "    print(f'Number of genres meeting or exceeding {minimum_tracks} tracks: {len(genre_subset)}')\n",
    "    print(f'{len(counted_genres) - len(genre_subset)} of {len(counted_genres)} genres do not meet this threshold.')\n",
    "    return genre_subset"
   ],
   "metadata": {
    "collapsed": false,
    "ExecuteTime": {
     "end_time": "2024-03-25T18:51:55.919516100Z",
     "start_time": "2024-03-25T18:51:55.903240900Z"
    }
   },
   "id": "7bc4251cb72118db"
  },
  {
   "cell_type": "code",
   "execution_count": 111,
   "outputs": [
    {
     "name": "stdout",
     "output_type": "stream",
     "text": [
      "Number of genres meeting or exceeding 10 tracks: 591\n",
      "1396 of 1987 genres do not meet this threshold.\n"
     ]
    }
   ],
   "source": [
    "GENRE_THRESHOLD = 10\n",
    "filtered_genres = filter_genres(genre_counts, minimum_tracks=GENRE_THRESHOLD)"
   ],
   "metadata": {
    "collapsed": false,
    "ExecuteTime": {
     "end_time": "2024-03-25T20:18:42.071687900Z",
     "start_time": "2024-03-25T20:18:42.055384900Z"
    }
   },
   "id": "bb9f03665f80bd41"
  },
  {
   "cell_type": "markdown",
   "source": [
    "It is also important to see how much this filter reduces the dataset. \n",
    "\n",
    "By using the pandas explode function, it is possible to separate each genre per track, and then pivot the result. This will result in a DataFrame that effectively filters the tracks to just those with at least one genre in the filtered subset. \n",
    "\n",
    "The pivoted DataFrame will also have a column for each genre which will allow for multi-hot encoding the labels in the same step. This will be useful in the future, so it is best to create a function for this process as well."
   ],
   "metadata": {
    "collapsed": false
   },
   "id": "b9cb3599330712de"
  },
  {
   "cell_type": "code",
   "execution_count": 151,
   "outputs": [],
   "source": [
    "def encode_labels(exploded_labels: pd.DataFrame, labels: list) -> pd.DataFrame:\n",
    "    \n",
    "    exploded_labels_filtered = exploded_labels[exploded_labels.isin(labels)]\n",
    "    pivoted_genres = pd.pivot_table(exploded_labels_filtered, index=exploded_labels_filtered.index, columns=exploded_labels_filtered.columns[0], aggfunc=lambda x: 1, fill_value=0)\n",
    "    \n",
    "    return pivoted_genres"
   ],
   "metadata": {
    "collapsed": false,
    "ExecuteTime": {
     "end_time": "2024-03-25T20:31:12.027212700Z",
     "start_time": "2024-03-25T20:31:11.998539700Z"
    }
   },
   "id": "bab09f288de3fb1e"
  },
  {
   "cell_type": "code",
   "execution_count": 152,
   "outputs": [],
   "source": [
    "# Obtain each track-genre pair\n",
    "exploded_genres = tracks[['artist_genres']].copy().explode('artist_genres')"
   ],
   "metadata": {
    "collapsed": false,
    "ExecuteTime": {
     "end_time": "2024-03-25T20:31:14.392881500Z",
     "start_time": "2024-03-25T20:31:14.376705400Z"
    }
   },
   "id": "af94a62b9eee3970"
  },
  {
   "cell_type": "code",
   "execution_count": 153,
   "outputs": [
    {
     "name": "stdout",
     "output_type": "stream",
     "text": [
      "After filtering, 94.1% of the dataset remains, 9804 of 10416 tracks.\n"
     ]
    }
   ],
   "source": [
    "filtered_genres_encoded = encode_labels(exploded_genres, filtered_genres)\n",
    "print(f'After filtering, {100 * filtered_genres_encoded.shape[0] / tracks.shape[0]:.1f}% of the dataset remains, {filtered_genres_encoded.shape[0]} of {tracks.shape[0]} tracks.')"
   ],
   "metadata": {
    "collapsed": false,
    "ExecuteTime": {
     "end_time": "2024-03-25T20:31:15.803336100Z",
     "start_time": "2024-03-25T20:31:15.146767Z"
    }
   },
   "id": "c790573d724a9649"
  },
  {
   "cell_type": "markdown",
   "source": [
    "Despite the removal of over 70% of the labels, 94% of the data remains, because the genre frequency is distribution has a thick tail, i.e. the most common genres describing a large number of tracks.\n",
    "\n",
    "This filtering serves as a useful tool for calibration and can be revisited to gauge model performance relative to different thresholds. For example, if the dataset is filtered to include genres with over 100 tracks, nearly 75% of the data remains, described by the top 98 genre labels, and this further reduction in label complexity may improve model performance."
   ],
   "metadata": {
    "collapsed": false
   },
   "id": "bc4470b7c6487101"
  },
  {
   "cell_type": "markdown",
   "source": [
    "### Initial feature transformations"
   ],
   "metadata": {
    "collapsed": false
   },
   "id": "1d0ffc9261ad9136"
  },
  {
   "cell_type": "markdown",
   "source": [
    "The previous filtering operation on labels reduced the size of the dataset. The corresponding set of features can be obtained by joining the encoded labels with the track data. The explosion and pivot operations that were conducted maintain the original track-level index, so joining the two dataframes is straightforward."
   ],
   "metadata": {
    "collapsed": false
   },
   "id": "ce51fee764feee2f"
  },
  {
   "cell_type": "code",
   "execution_count": null,
   "outputs": [],
   "source": [
    "track_data = tracks[['track_id'] + RAW_TRAINING_FEATURES].copy()\n",
    "track_data = track_data.merge(filtered_genres_encoded, left_index=True, right_index=True).reset_index(drop=True)"
   ],
   "metadata": {
    "collapsed": false
   },
   "id": "7efb30ca1feb8ca0"
  },
  {
   "cell_type": "code",
   "execution_count": 11,
   "outputs": [],
   "source": [
    "# One-hot encode the categorical features\n",
    "CATEGORICAL_FEATURES = [\n",
    "    'key',\n",
    "    'mode',\n",
    "    'time_signature'\n",
    "]\n",
    "track_data = pd.get_dummies(track_data, columns=CATEGORICAL_FEATURES, dtype=int)\n",
    "\n",
    "# Recreate list of feature names\n",
    "non_categorical_features = [feature for feature in RAW_TRAINING_FEATURES if feature not in CATEGORICAL_FEATURES]\n",
    "one_hot_features = [col for col in track_data.columns if any(col.startswith(f'{cat}_') for cat in CATEGORICAL_FEATURES)]\n",
    "training_features = non_categorical_features + one_hot_features"
   ],
   "metadata": {
    "collapsed": false,
    "ExecuteTime": {
     "end_time": "2024-03-18T21:57:46.942700800Z",
     "start_time": "2024-03-18T21:57:46.801072200Z"
    }
   },
   "id": "5ca19ed31f8115c4"
  },
  {
   "cell_type": "markdown",
   "source": [
    "Most of the numeric features are model outputs that are constrained in a range of 0-1 and can be left unchanged for baseline modeling. Several potential models would benefit from scaling the numerical features that extend past this range."
   ],
   "metadata": {
    "collapsed": false
   },
   "id": "a363c2664f2bb18f"
  },
  {
   "cell_type": "code",
   "execution_count": 13,
   "outputs": [
    {
     "data": {
      "text/plain": "<Figure size 1200x800 with 3 Axes>",
      "image/png": "[encoded data removed]"
     },
     "metadata": {},
     "output_type": "display_data"
    }
   ],
   "source": [
    "# Examine the distributions of unscaled continuous features\n",
    "plt.figure(figsize=(12, 8))\n",
    "\n",
    "plt.subplot(1, 3, 1)\n",
    "sns.histplot(track_data['duration_ms'])\n",
    "\n",
    "plt.subplot(1, 3, 2)\n",
    "sns.histplot(track_data['tempo'])\n",
    "\n",
    "plt.subplot(1, 3, 3)\n",
    "sns.histplot(track_data['loudness'])\n",
    "\n",
    "plt.tight_layout()\n",
    "plt.show()"
   ],
   "metadata": {
    "collapsed": false,
    "ExecuteTime": {
     "end_time": "2024-03-14T22:10:38.667516600Z",
     "start_time": "2024-03-14T22:10:37.728111700Z"
    }
   },
   "id": "8bd14cb8906cbc67"
  },
  {
   "cell_type": "markdown",
   "source": [
    "Of these three, the distribution of tempo is probably the most straightforward, as it is centrally distributed within a relatively narrow range. Although the underlying data is most likely multi-modal, standard scaling is appropriate for a first pass.\n",
    "\n",
    "Several attempts at transforming loudness were attempted (log-scaling, square-root scaling, Yeo-Johnson, omitted here for clarity), but did not reduce the skew. Because the distribution is also confined to a relatively narrow range, I will try standard-scaling here as well. Many of the model output features are also skewed within their 0-1 range, so these can all be revisited in later iterations, if necessary.\n",
    "\n",
    "The duration distribution has a very long tail and is a good candidate for a log transformation."
   ],
   "metadata": {
    "collapsed": false
   },
   "id": "facae11952430223"
  },
  {
   "cell_type": "code",
   "execution_count": 14,
   "outputs": [
    {
     "data": {
      "text/plain": "<Figure size 600x600 with 1 Axes>",
      "image/png": "[encoded data removed]"
     },
     "metadata": {},
     "output_type": "display_data"
    }
   ],
   "source": [
    "# Plot the log of duration\n",
    "plt.figure(figsize=(6, 6))\n",
    "\n",
    "plt.title('Log(Duration) Distribution')\n",
    "plt.xlabel('Log Duration')\n",
    "sns.histplot(np.log(track_data['duration_ms']))\n",
    "\n",
    "plt.show()"
   ],
   "metadata": {
    "collapsed": false,
    "ExecuteTime": {
     "end_time": "2024-03-14T22:10:38.932410200Z",
     "start_time": "2024-03-14T22:10:38.677398600Z"
    }
   },
   "id": "4a827c10bff09586"
  },
  {
   "cell_type": "markdown",
   "source": [
    "The log of duration appears to be normally distributed, so standard scaling after this transformation is a good choice."
   ],
   "metadata": {
    "collapsed": false
   },
   "id": "7922ab0944532c6c"
  },
  {
   "cell_type": "code",
   "execution_count": 12,
   "outputs": [],
   "source": [
    "# Log transform the duration\n",
    "track_data['duration_ms'] = np.log(track_data['duration_ms'])"
   ],
   "metadata": {
    "collapsed": false,
    "ExecuteTime": {
     "end_time": "2024-03-18T21:57:53.310625500Z",
     "start_time": "2024-03-18T21:57:53.247454300Z"
    }
   },
   "id": "1cb8becff3c887e4"
  },
  {
   "cell_type": "markdown",
   "source": [
    "#### Stratified Split of Data and Numeric Scaling"
   ],
   "metadata": {
    "collapsed": false
   },
   "id": "8055f96030609d15"
  },
  {
   "cell_type": "markdown",
   "source": [
    "To avoid data leakage, it is necessary to split the data prior to scaling the numeric features. In multi-label classification, this can be challenging due to the rarity of labels or label features. The filtering from earlier will help alleviate this issue, but it is also beneficial to stratify the labels across splits such that there is an appropriate distribution between the training and test datasets.\n",
    "\n",
    "Because the conversion from pandas DataFrame to split NumPy arrays will be a task I repeat often, I have created a custom Dataset class to handle that task and also log the characteristics of the pre- and post-split data. The scikit-multilearn library includes functionality to iteratively split datasets maintaining a representative label distribution and this class includes a modification to that function which also splits the identifiers by the same indices."
   ],
   "metadata": {
    "collapsed": false
   },
   "id": "c23b5e1028de7e0e"
  },
  {
   "cell_type": "code",
   "execution_count": 13,
   "outputs": [],
   "source": [
    "track_dataset = Dataset(track_data, training_features, filtered_genres, 'track_id')"
   ],
   "metadata": {
    "collapsed": false,
    "ExecuteTime": {
     "end_time": "2024-03-18T21:57:56.087793500Z",
     "start_time": "2024-03-18T21:57:56.055905800Z"
    }
   },
   "id": "c6a0506d40d155cf"
  },
  {
   "cell_type": "code",
   "execution_count": 14,
   "outputs": [],
   "source": [
    "# Separate features, labels, and ids, and perform stratified split\n",
    "X_train, y_train, ids_train, X_test, y_test, ids_test = track_dataset.split_data(test_size=0.2, iterative=True)"
   ],
   "metadata": {
    "collapsed": false,
    "ExecuteTime": {
     "end_time": "2024-03-18T21:58:00.396687200Z",
     "start_time": "2024-03-18T21:57:56.452570200Z"
    }
   },
   "id": "6bd5e5c85a13e660"
  },
  {
   "cell_type": "markdown",
   "source": [
    "The final transformation before first-pass modeling will be applying the numeric scaling to the features discussed above."
   ],
   "metadata": {
    "collapsed": false
   },
   "id": "fe85ca31001c0727"
  },
  {
   "cell_type": "code",
   "execution_count": 15,
   "outputs": [],
   "source": [
    "# Convert data back into pandas structures for now to allow for easier manipulation\n",
    "X_train = pd.DataFrame(X_train, columns=training_features)\n",
    "X_test = pd.DataFrame(X_test, columns=training_features)\n",
    "\n",
    "scaler = StandardScaler()\n",
    "X_train[['duration_ms', 'tempo', 'loudness']] = scaler.fit_transform(X_train[['duration_ms', 'tempo', 'loudness']])\n",
    "X_test[['duration_ms', 'tempo', 'loudness']] = scaler.transform(X_test[['duration_ms', 'tempo', 'loudness']])"
   ],
   "metadata": {
    "collapsed": false,
    "ExecuteTime": {
     "end_time": "2024-03-18T21:58:00.412366600Z",
     "start_time": "2024-03-18T21:58:00.396687200Z"
    }
   },
   "id": "df99d3133c0c2a6f"
  },
  {
   "cell_type": "code",
   "execution_count": 15,
   "outputs": [
    {
     "data": {
      "text/plain": "        duration_ms  acousticness  danceability       energy  \\\ncount  7.743000e+03   7743.000000   7743.000000  7743.000000   \nmean   4.226734e-14      0.354857      0.576450     0.566907   \nstd    1.000065e+00      0.352609      0.193988     0.274494   \nmin   -5.333269e+00      0.000002      0.000000     0.001100   \n25%   -5.424424e-01      0.034000      0.454000     0.371000   \n50%    2.087293e-02      0.203000      0.595000     0.606000   \n75%    5.272704e-01      0.688000      0.726000     0.793000   \nmax    6.793605e+00      0.996000      0.979000     0.999000   \n\n       instrumentalness     liveness      loudness  speechiness         tempo  \\\ncount       7743.000000  7743.000000  7.743000e+03  7743.000000  7.743000e+03   \nmean           0.202658     0.175796  6.065721e-16     0.087286 -3.461407e-15   \nstd            0.347209     0.141714  1.000065e+00     0.088613  1.000065e+00   \nmin            0.000000     0.015700 -5.796694e+00     0.000000 -3.886681e+00   \n25%            0.000000     0.093000 -3.388965e-01     0.036800 -7.910903e-01   \n50%            0.000154     0.119000  3.153309e-01     0.048700  3.584044e-04   \n75%            0.252000     0.210000  6.646910e-01     0.090850  6.528138e-01   \nmax            0.994000     1.000000  1.757718e+00     0.662000  3.290823e+00   \n\n           valence  ...        key_9       key_10       key_11       mode_0  \\\ncount  7743.000000  ...  7743.000000  7743.000000  7743.000000  7743.000000   \nmean      0.472791  ...     0.093633     0.066383     0.076327     0.386414   \nstd       0.263324  ...     0.291336     0.248966     0.265538     0.486959   \nmin       0.000000  ...     0.000000     0.000000     0.000000     0.000000   \n25%       0.250000  ...     0.000000     0.000000     0.000000     0.000000   \n50%       0.470000  ...     0.000000     0.000000     0.000000     0.000000   \n75%       0.687000  ...     0.000000     0.000000     0.000000     1.000000   \nmax       0.988000  ...     1.000000     1.000000     1.000000     1.000000   \n\n            mode_1  time_signature_0  time_signature_1  time_signature_3  \\\ncount  7743.000000       7743.000000       7743.000000        7743.00000   \nmean      0.613586          0.000646          0.008524           0.09712   \nstd       0.486959          0.025405          0.091936           0.29614   \nmin       0.000000          0.000000          0.000000           0.00000   \n25%       0.000000          0.000000          0.000000           0.00000   \n50%       1.000000          0.000000          0.000000           0.00000   \n75%       1.000000          0.000000          0.000000           0.00000   \nmax       1.000000          1.000000          1.000000           1.00000   \n\n       time_signature_4  time_signature_5  \ncount       7743.000000       7743.000000  \nmean           0.879375          0.014336  \nstd            0.325712          0.118877  \nmin            0.000000          0.000000  \n25%            1.000000          0.000000  \n50%            1.000000          0.000000  \n75%            1.000000          0.000000  \nmax            1.000000          1.000000  \n\n[8 rows x 29 columns]",
      "text/html": "<div>\n<style scoped>\n    .dataframe tbody tr th:only-of-type {\n        vertical-align: middle;\n    }\n\n    .dataframe tbody tr th {\n        vertical-align: top;\n    }\n\n    .dataframe thead th {\n        text-align: right;\n    }\n</style>\n<table border=\"1\" class=\"dataframe\">\n  <thead>\n    <tr style=\"text-align: right;\">\n      <th></th>\n      <th>duration_ms</th>\n      <th>acousticness</th>\n      <th>danceability</th>\n      <th>energy</th>\n      <th>instrumentalness</th>\n      <th>liveness</th>\n      <th>loudness</th>\n      <th>speechiness</th>\n      <th>tempo</th>\n      <th>valence</th>\n      <th>...</th>\n      <th>key_9</th>\n      <th>key_10</th>\n      <th>key_11</th>\n      <th>mode_0</th>\n      <th>mode_1</th>\n      <th>time_signature_0</th>\n      <th>time_signature_1</th>\n      <th>time_signature_3</th>\n      <th>time_signature_4</th>\n      <th>time_signature_5</th>\n    </tr>\n  </thead>\n  <tbody>\n    <tr>\n      <th>count</th>\n      <td>7.743000e+03</td>\n      <td>7743.000000</td>\n      <td>7743.000000</td>\n      <td>7743.000000</td>\n      <td>7743.000000</td>\n      <td>7743.000000</td>\n      <td>7.743000e+03</td>\n      <td>7743.000000</td>\n      <td>7.743000e+03</td>\n      <td>7743.000000</td>\n      <td>...</td>\n      <td>7743.000000</td>\n      <td>7743.000000</td>\n      <td>7743.000000</td>\n      <td>7743.000000</td>\n      <td>7743.000000</td>\n      <td>7743.000000</td>\n      <td>7743.000000</td>\n      <td>7743.00000</td>\n      <td>7743.000000</td>\n      <td>7743.000000</td>\n    </tr>\n    <tr>\n      <th>mean</th>\n      <td>4.226734e-14</td>\n      <td>0.354857</td>\n      <td>0.576450</td>\n      <td>0.566907</td>\n      <td>0.202658</td>\n      <td>0.175796</td>\n      <td>6.065721e-16</td>\n      <td>0.087286</td>\n      <td>-3.461407e-15</td>\n      <td>0.472791</td>\n      <td>...</td>\n      <td>0.093633</td>\n      <td>0.066383</td>\n      <td>0.076327</td>\n      <td>0.386414</td>\n      <td>0.613586</td>\n      <td>0.000646</td>\n      <td>0.008524</td>\n      <td>0.09712</td>\n      <td>0.879375</td>\n      <td>0.014336</td>\n    </tr>\n    <tr>\n      <th>std</th>\n      <td>1.000065e+00</td>\n      <td>0.352609</td>\n      <td>0.193988</td>\n      <td>0.274494</td>\n      <td>0.347209</td>\n      <td>0.141714</td>\n      <td>1.000065e+00</td>\n      <td>0.088613</td>\n      <td>1.000065e+00</td>\n      <td>0.263324</td>\n      <td>...</td>\n      <td>0.291336</td>\n      <td>0.248966</td>\n      <td>0.265538</td>\n      <td>0.486959</td>\n      <td>0.486959</td>\n      <td>0.025405</td>\n      <td>0.091936</td>\n      <td>0.29614</td>\n      <td>0.325712</td>\n      <td>0.118877</td>\n    </tr>\n    <tr>\n      <th>min</th>\n      <td>-5.333269e+00</td>\n      <td>0.000002</td>\n      <td>0.000000</td>\n      <td>0.001100</td>\n      <td>0.000000</td>\n      <td>0.015700</td>\n      <td>-5.796694e+00</td>\n      <td>0.000000</td>\n      <td>-3.886681e+00</td>\n      <td>0.000000</td>\n      <td>...</td>\n      <td>0.000000</td>\n      <td>0.000000</td>\n      <td>0.000000</td>\n      <td>0.000000</td>\n      <td>0.000000</td>\n      <td>0.000000</td>\n      <td>0.000000</td>\n      <td>0.00000</td>\n      <td>0.000000</td>\n      <td>0.000000</td>\n    </tr>\n    <tr>\n      <th>25%</th>\n      <td>-5.424424e-01</td>\n      <td>0.034000</td>\n      <td>0.454000</td>\n      <td>0.371000</td>\n      <td>0.000000</td>\n      <td>0.093000</td>\n      <td>-3.388965e-01</td>\n      <td>0.036800</td>\n      <td>-7.910903e-01</td>\n      <td>0.250000</td>\n      <td>...</td>\n      <td>0.000000</td>\n      <td>0.000000</td>\n      <td>0.000000</td>\n      <td>0.000000</td>\n      <td>0.000000</td>\n      <td>0.000000</td>\n      <td>0.000000</td>\n      <td>0.00000</td>\n      <td>1.000000</td>\n      <td>0.000000</td>\n    </tr>\n    <tr>\n      <th>50%</th>\n      <td>2.087293e-02</td>\n      <td>0.203000</td>\n      <td>0.595000</td>\n      <td>0.606000</td>\n      <td>0.000154</td>\n      <td>0.119000</td>\n      <td>3.153309e-01</td>\n      <td>0.048700</td>\n      <td>3.584044e-04</td>\n      <td>0.470000</td>\n      <td>...</td>\n      <td>0.000000</td>\n      <td>0.000000</td>\n      <td>0.000000</td>\n      <td>0.000000</td>\n      <td>1.000000</td>\n      <td>0.000000</td>\n      <td>0.000000</td>\n      <td>0.00000</td>\n      <td>1.000000</td>\n      <td>0.000000</td>\n    </tr>\n    <tr>\n      <th>75%</th>\n      <td>5.272704e-01</td>\n      <td>0.688000</td>\n      <td>0.726000</td>\n      <td>0.793000</td>\n      <td>0.252000</td>\n      <td>0.210000</td>\n      <td>6.646910e-01</td>\n      <td>0.090850</td>\n      <td>6.528138e-01</td>\n      <td>0.687000</td>\n      <td>...</td>\n      <td>0.000000</td>\n      <td>0.000000</td>\n      <td>0.000000</td>\n      <td>1.000000</td>\n      <td>1.000000</td>\n      <td>0.000000</td>\n      <td>0.000000</td>\n      <td>0.00000</td>\n      <td>1.000000</td>\n      <td>0.000000</td>\n    </tr>\n    <tr>\n      <th>max</th>\n      <td>6.793605e+00</td>\n      <td>0.996000</td>\n      <td>0.979000</td>\n      <td>0.999000</td>\n      <td>0.994000</td>\n      <td>1.000000</td>\n      <td>1.757718e+00</td>\n      <td>0.662000</td>\n      <td>3.290823e+00</td>\n      <td>0.988000</td>\n      <td>...</td>\n      <td>1.000000</td>\n      <td>1.000000</td>\n      <td>1.000000</td>\n      <td>1.000000</td>\n      <td>1.000000</td>\n      <td>1.000000</td>\n      <td>1.000000</td>\n      <td>1.00000</td>\n      <td>1.000000</td>\n      <td>1.000000</td>\n    </tr>\n  </tbody>\n</table>\n<p>8 rows × 29 columns</p>\n</div>"
     },
     "execution_count": 15,
     "metadata": {},
     "output_type": "execute_result"
    }
   ],
   "source": [
    "X_train.describe()"
   ],
   "metadata": {
    "collapsed": false,
    "ExecuteTime": {
     "end_time": "2024-03-15T19:10:11.995968Z",
     "start_time": "2024-03-15T19:10:11.949320300Z"
    }
   },
   "id": "2d54ece75698d48"
  },
  {
   "cell_type": "code",
   "execution_count": 16,
   "outputs": [
    {
     "data": {
      "text/plain": "       duration_ms  acousticness  danceability       energy  instrumentalness  \\\ncount  2061.000000   2061.000000   2061.000000  2061.000000       2061.000000   \nmean     -0.001177      0.362321      0.574556     0.563692          0.214109   \nstd       1.029155      0.355200      0.196671     0.281171          0.356906   \nmin      -5.673957      0.000004      0.000000     0.001460          0.000000   \n25%      -0.528916      0.039200      0.445000     0.346000          0.000000   \n50%       0.002274      0.219000      0.593000     0.610000          0.000148   \n75%       0.522695      0.706000      0.724000     0.795000          0.334000   \nmax       5.483782      0.996000      0.969000     0.999000          0.987000   \n\n          liveness     loudness  speechiness        tempo      valence  ...  \\\ncount  2061.000000  2061.000000  2061.000000  2061.000000  2061.000000  ...   \nmean      0.172740    -0.036031     0.087814    -0.014542     0.473063  ...   \nstd       0.137155     1.047841     0.086559     0.993131     0.265755  ...   \nmin       0.018700    -4.751261     0.000000    -3.886681     0.000000  ...   \n25%       0.093100    -0.375066     0.037200    -0.769588     0.248000  ...   \n50%       0.119000     0.308823     0.050600    -0.016666     0.481000  ...   \n75%       0.204000     0.666129     0.096200     0.608821     0.684000  ...   \nmax       0.983000     1.604415     0.713000     3.161247     0.985000  ...   \n\n             key_9       key_10       key_11       mode_0       mode_1  \\\ncount  2061.000000  2061.000000  2061.000000  2061.000000  2061.000000   \nmean      0.097525     0.073265     0.078603     0.384765     0.615235   \nstd       0.296744     0.260635     0.269183     0.486658     0.486658   \nmin       0.000000     0.000000     0.000000     0.000000     0.000000   \n25%       0.000000     0.000000     0.000000     0.000000     0.000000   \n50%       0.000000     0.000000     0.000000     0.000000     1.000000   \n75%       0.000000     0.000000     0.000000     1.000000     1.000000   \nmax       1.000000     1.000000     1.000000     1.000000     1.000000   \n\n       time_signature_0  time_signature_1  time_signature_3  time_signature_4  \\\ncount       2061.000000       2061.000000       2061.000000       2061.000000   \nmean           0.001456          0.010189          0.102377          0.868996   \nstd            0.038134          0.100451          0.303218          0.337487   \nmin            0.000000          0.000000          0.000000          0.000000   \n25%            0.000000          0.000000          0.000000          1.000000   \n50%            0.000000          0.000000          0.000000          1.000000   \n75%            0.000000          0.000000          0.000000          1.000000   \nmax            1.000000          1.000000          1.000000          1.000000   \n\n       time_signature_5  \ncount       2061.000000  \nmean           0.016982  \nstd            0.129235  \nmin            0.000000  \n25%            0.000000  \n50%            0.000000  \n75%            0.000000  \nmax            1.000000  \n\n[8 rows x 29 columns]",
      "text/html": "<div>\n<style scoped>\n    .dataframe tbody tr th:only-of-type {\n        vertical-align: middle;\n    }\n\n    .dataframe tbody tr th {\n        vertical-align: top;\n    }\n\n    .dataframe thead th {\n        text-align: right;\n    }\n</style>\n<table border=\"1\" class=\"dataframe\">\n  <thead>\n    <tr style=\"text-align: right;\">\n      <th></th>\n      <th>duration_ms</th>\n      <th>acousticness</th>\n      <th>danceability</th>\n      <th>energy</th>\n      <th>instrumentalness</th>\n      <th>liveness</th>\n      <th>loudness</th>\n      <th>speechiness</th>\n      <th>tempo</th>\n      <th>valence</th>\n      <th>...</th>\n      <th>key_9</th>\n      <th>key_10</th>\n      <th>key_11</th>\n      <th>mode_0</th>\n      <th>mode_1</th>\n      <th>time_signature_0</th>\n      <th>time_signature_1</th>\n      <th>time_signature_3</th>\n      <th>time_signature_4</th>\n      <th>time_signature_5</th>\n    </tr>\n  </thead>\n  <tbody>\n    <tr>\n      <th>count</th>\n      <td>2061.000000</td>\n      <td>2061.000000</td>\n      <td>2061.000000</td>\n      <td>2061.000000</td>\n      <td>2061.000000</td>\n      <td>2061.000000</td>\n      <td>2061.000000</td>\n      <td>2061.000000</td>\n      <td>2061.000000</td>\n      <td>2061.000000</td>\n      <td>...</td>\n      <td>2061.000000</td>\n      <td>2061.000000</td>\n      <td>2061.000000</td>\n      <td>2061.000000</td>\n      <td>2061.000000</td>\n      <td>2061.000000</td>\n      <td>2061.000000</td>\n      <td>2061.000000</td>\n      <td>2061.000000</td>\n      <td>2061.000000</td>\n    </tr>\n    <tr>\n      <th>mean</th>\n      <td>-0.001177</td>\n      <td>0.362321</td>\n      <td>0.574556</td>\n      <td>0.563692</td>\n      <td>0.214109</td>\n      <td>0.172740</td>\n      <td>-0.036031</td>\n      <td>0.087814</td>\n      <td>-0.014542</td>\n      <td>0.473063</td>\n      <td>...</td>\n      <td>0.097525</td>\n      <td>0.073265</td>\n      <td>0.078603</td>\n      <td>0.384765</td>\n      <td>0.615235</td>\n      <td>0.001456</td>\n      <td>0.010189</td>\n      <td>0.102377</td>\n      <td>0.868996</td>\n      <td>0.016982</td>\n    </tr>\n    <tr>\n      <th>std</th>\n      <td>1.029155</td>\n      <td>0.355200</td>\n      <td>0.196671</td>\n      <td>0.281171</td>\n      <td>0.356906</td>\n      <td>0.137155</td>\n      <td>1.047841</td>\n      <td>0.086559</td>\n      <td>0.993131</td>\n      <td>0.265755</td>\n      <td>...</td>\n      <td>0.296744</td>\n      <td>0.260635</td>\n      <td>0.269183</td>\n      <td>0.486658</td>\n      <td>0.486658</td>\n      <td>0.038134</td>\n      <td>0.100451</td>\n      <td>0.303218</td>\n      <td>0.337487</td>\n      <td>0.129235</td>\n    </tr>\n    <tr>\n      <th>min</th>\n      <td>-5.673957</td>\n      <td>0.000004</td>\n      <td>0.000000</td>\n      <td>0.001460</td>\n      <td>0.000000</td>\n      <td>0.018700</td>\n      <td>-4.751261</td>\n      <td>0.000000</td>\n      <td>-3.886681</td>\n      <td>0.000000</td>\n      <td>...</td>\n      <td>0.000000</td>\n      <td>0.000000</td>\n      <td>0.000000</td>\n      <td>0.000000</td>\n      <td>0.000000</td>\n      <td>0.000000</td>\n      <td>0.000000</td>\n      <td>0.000000</td>\n      <td>0.000000</td>\n      <td>0.000000</td>\n    </tr>\n    <tr>\n      <th>25%</th>\n      <td>-0.528916</td>\n      <td>0.039200</td>\n      <td>0.445000</td>\n      <td>0.346000</td>\n      <td>0.000000</td>\n      <td>0.093100</td>\n      <td>-0.375066</td>\n      <td>0.037200</td>\n      <td>-0.769588</td>\n      <td>0.248000</td>\n      <td>...</td>\n      <td>0.000000</td>\n      <td>0.000000</td>\n      <td>0.000000</td>\n      <td>0.000000</td>\n      <td>0.000000</td>\n      <td>0.000000</td>\n      <td>0.000000</td>\n      <td>0.000000</td>\n      <td>1.000000</td>\n      <td>0.000000</td>\n    </tr>\n    <tr>\n      <th>50%</th>\n      <td>0.002274</td>\n      <td>0.219000</td>\n      <td>0.593000</td>\n      <td>0.610000</td>\n      <td>0.000148</td>\n      <td>0.119000</td>\n      <td>0.308823</td>\n      <td>0.050600</td>\n      <td>-0.016666</td>\n      <td>0.481000</td>\n      <td>...</td>\n      <td>0.000000</td>\n      <td>0.000000</td>\n      <td>0.000000</td>\n      <td>0.000000</td>\n      <td>1.000000</td>\n      <td>0.000000</td>\n      <td>0.000000</td>\n      <td>0.000000</td>\n      <td>1.000000</td>\n      <td>0.000000</td>\n    </tr>\n    <tr>\n      <th>75%</th>\n      <td>0.522695</td>\n      <td>0.706000</td>\n      <td>0.724000</td>\n      <td>0.795000</td>\n      <td>0.334000</td>\n      <td>0.204000</td>\n      <td>0.666129</td>\n      <td>0.096200</td>\n      <td>0.608821</td>\n      <td>0.684000</td>\n      <td>...</td>\n      <td>0.000000</td>\n      <td>0.000000</td>\n      <td>0.000000</td>\n      <td>1.000000</td>\n      <td>1.000000</td>\n      <td>0.000000</td>\n      <td>0.000000</td>\n      <td>0.000000</td>\n      <td>1.000000</td>\n      <td>0.000000</td>\n    </tr>\n    <tr>\n      <th>max</th>\n      <td>5.483782</td>\n      <td>0.996000</td>\n      <td>0.969000</td>\n      <td>0.999000</td>\n      <td>0.987000</td>\n      <td>0.983000</td>\n      <td>1.604415</td>\n      <td>0.713000</td>\n      <td>3.161247</td>\n      <td>0.985000</td>\n      <td>...</td>\n      <td>1.000000</td>\n      <td>1.000000</td>\n      <td>1.000000</td>\n      <td>1.000000</td>\n      <td>1.000000</td>\n      <td>1.000000</td>\n      <td>1.000000</td>\n      <td>1.000000</td>\n      <td>1.000000</td>\n      <td>1.000000</td>\n    </tr>\n  </tbody>\n</table>\n<p>8 rows × 29 columns</p>\n</div>"
     },
     "execution_count": 16,
     "metadata": {},
     "output_type": "execute_result"
    }
   ],
   "source": [
    "X_test.describe()"
   ],
   "metadata": {
    "collapsed": false,
    "ExecuteTime": {
     "end_time": "2024-03-15T19:10:14.277389800Z",
     "start_time": "2024-03-15T19:10:14.226946600Z"
    }
   },
   "id": "4b65ce370147bdcd"
  },
  {
   "cell_type": "markdown",
   "source": [
    "Overall, the distributions of the scaled variables look close to standard normal in both splits. The distributions of the other features also appear to be relatively stable, so the data should be ready for initial modeling."
   ],
   "metadata": {
    "collapsed": false
   },
   "id": "fa472cdf8134556c"
  },
  {
   "cell_type": "code",
   "execution_count": 16,
   "outputs": [],
   "source": [
    "# Convert back to numpy arrays for modeling\n",
    "X_train, X_test = X_train.to_numpy(), X_test.to_numpy()\n",
    "# Get dataset characteristics for future reference\n",
    "baseline_dataset_chars = track_dataset.get_dataset_characteristics()"
   ],
   "metadata": {
    "collapsed": false,
    "ExecuteTime": {
     "end_time": "2024-03-18T21:58:04.529943Z",
     "start_time": "2024-03-18T21:58:04.496466700Z"
    }
   },
   "id": "6ef50b1253233915"
  },
  {
   "cell_type": "markdown",
   "source": [
    "### Baseline Modeling"
   ],
   "metadata": {
    "collapsed": false
   },
   "id": "95461dd76e044287"
  },
  {
   "cell_type": "markdown",
   "source": [
    "Three common first-line approaches for multi-label classification are Binary Relevance, Classifier Chains, and Label Powerset models. All three of these are metamodels which rely on some underlying base model to predict part of the problem. Using these with a logistic regression base provides a good set of baseline models because they will need to be run numerous times throughout feature engineering and the setup is fairly computationally inexpensive. Furthermore, running three different models may highlight different strengths and weaknesses of features. The modeling setup will remain fixed throughout feature exploration for better comparison between the various features."
   ],
   "metadata": {
    "collapsed": false
   },
   "id": "5dd23c14e279441"
  },
  {
   "cell_type": "markdown",
   "source": [
    "To better organize and centralize related model runs and logs, I have implemented an Experiment class that is able to fit and predict multiple models on the same dataset. Such a structure is useful for organizing several model runs and can be used later in model exploration because it allows multiple models to run against a single data set. I have also implemented a custom Metrics class that calculates and stores all metrics for each model run for better organization and retrieval."
   ],
   "metadata": {
    "collapsed": false
   },
   "id": "5bc7fbed899ba865"
  },
  {
   "cell_type": "code",
   "execution_count": 17,
   "outputs": [],
   "source": [
    "# Create models from predefined baseline configuration, see /models/config.py\n",
    "baseline_names = ['br_baseline', 'cc_baseline', 'lp_baseline']\n",
    "baseline_models, baseline_configs = experiment_setup(baseline_experiment_configs, baseline_names)"
   ],
   "metadata": {
    "collapsed": false,
    "ExecuteTime": {
     "end_time": "2024-03-18T21:58:07.885534400Z",
     "start_time": "2024-03-18T21:58:07.643594Z"
    }
   },
   "id": "1d6e4e92bdd38493"
  },
  {
   "cell_type": "code",
   "execution_count": 18,
   "outputs": [],
   "source": [
    "# Create experiment instance\n",
    "baseline_experiment = Experiment(X_train, y_train, X_test, y_test, baseline_dataset_chars)"
   ],
   "metadata": {
    "collapsed": false,
    "ExecuteTime": {
     "end_time": "2024-03-18T21:58:08.705901100Z",
     "start_time": "2024-03-18T21:58:08.694372Z"
    }
   },
   "id": "9aec88e2931f383d"
  },
  {
   "cell_type": "code",
   "execution_count": 24,
   "outputs": [
    {
     "name": "stderr",
     "output_type": "stream",
     "text": [
      "2024/03/14 15:10:42 INFO mlflow.tracking.fluent: Experiment with name '/Users/ishanchowdhur@gmail.com/feature_engineering' does not exist. Creating a new experiment.\n"
     ]
    },
    {
     "name": "stdout",
     "output_type": "stream",
     "text": [
      "Running model: br_baseline\n",
      "br_baseline complete.\n",
      "Running model: cc_baseline\n",
      "cc_baseline complete.\n",
      "Running model: lp_baseline\n",
      "lp_baseline complete.\n"
     ]
    }
   ],
   "source": [
    "# baseline_tags = {name: {'Comments': 'Baseline', 'Label Threshold': '10'} for name in baseline_names}\n",
    "# baseline_experiment.run_experiment(baseline_models, baseline_configs, mlflow_path, tags= baseline_tags, save_models=False)"
   ],
   "metadata": {
    "collapsed": false,
    "ExecuteTime": {
     "end_time": "2024-03-14T22:13:41.945812600Z",
     "start_time": "2024-03-14T22:10:42.028815800Z"
    }
   },
   "id": "3ae7a3d032eb6709"
  },
  {
   "cell_type": "code",
   "execution_count": 25,
   "outputs": [],
   "source": [
    "br_metrics = baseline_experiment.results['br_baseline']\n",
    "cc_metrics = baseline_experiment.results['cc_baseline']\n",
    "lp_metrics = baseline_experiment.results['lp_baseline']"
   ],
   "metadata": {
    "collapsed": false,
    "ExecuteTime": {
     "end_time": "2024-03-14T22:13:41.956264200Z",
     "start_time": "2024-03-14T22:13:41.949749500Z"
    }
   },
   "id": "b7b103199143aede"
  },
  {
   "cell_type": "code",
   "execution_count": 26,
   "outputs": [
    {
     "name": "stdout",
     "output_type": "stream",
     "text": [
      "Hamming Loss: 0.0062\n",
      "Jaccard Score (Weighted Avg): 0.0340\n",
      "                                   precision    recall  f1-score   support\n",
      "                        micro avg      0.564     0.040     0.075      7685\n",
      "                        macro avg      0.038     0.007     0.011      7685\n",
      "                     weighted avg      0.166     0.040     0.056      7685\n",
      "                      samples avg      0.099     0.047     0.057      7685\n"
     ]
    }
   ],
   "source": [
    "br_metrics.print_metrics_report()"
   ],
   "metadata": {
    "collapsed": false,
    "ExecuteTime": {
     "end_time": "2024-03-14T22:13:41.957769800Z",
     "start_time": "2024-03-14T22:13:41.953756600Z"
    }
   },
   "id": "9a2e921998db0b28"
  },
  {
   "cell_type": "code",
   "execution_count": 27,
   "outputs": [
    {
     "name": "stdout",
     "output_type": "stream",
     "text": [
      "Hamming Loss: 0.0066\n",
      "Jaccard Score (Weighted Avg): 0.0581\n",
      "                                   precision    recall  f1-score   support\n",
      "                        micro avg      0.379     0.076     0.126      7685\n",
      "                        macro avg      0.055     0.021     0.026      7685\n",
      "                     weighted avg      0.182     0.076     0.096      7685\n",
      "                      samples avg      0.086     0.077     0.077      7685\n"
     ]
    }
   ],
   "source": [
    "cc_metrics.print_metrics_report()"
   ],
   "metadata": {
    "collapsed": false,
    "ExecuteTime": {
     "end_time": "2024-03-14T22:13:41.966564500Z",
     "start_time": "2024-03-14T22:13:41.962503Z"
    }
   },
   "id": "8aaebf1c4f891c83"
  },
  {
   "cell_type": "code",
   "execution_count": 28,
   "outputs": [
    {
     "name": "stdout",
     "output_type": "stream",
     "text": [
      "Hamming Loss: 0.0089\n",
      "Jaccard Score (Weighted Avg): 0.0431\n",
      "                                   precision    recall  f1-score   support\n",
      "                        micro avg      0.159     0.095     0.119      7685\n",
      "                        macro avg      0.041     0.044     0.033      7685\n",
      "                     weighted avg      0.114     0.095     0.076      7685\n",
      "                      samples avg      0.169     0.140     0.144      7685\n"
     ]
    }
   ],
   "source": [
    "lp_metrics.print_metrics_report()"
   ],
   "metadata": {
    "collapsed": false,
    "ExecuteTime": {
     "end_time": "2024-03-14T22:13:41.974452800Z",
     "start_time": "2024-03-14T22:13:41.966564500Z"
    }
   },
   "id": "9049b0060134eac3"
  },
  {
   "cell_type": "markdown",
   "source": [
    "A few takeaways are clear from initial modeling. Hamming loss is very low, meaning the overall fraction of incorrect labels is low. However, this is not very useful at the moment because the label space is large and very sparse. The low Jaccard similarities shows that there is very little overlap between predicted and actual values. Regardless of model or averaging method, the model has extremely low recall, which means that very few of the labels are being picked up. This is also most likely due to the sparsity. However, when the feels confident about a label, it has some skill in predicting it, as the precision values are not as bad.\n",
    "\n",
    "All three models are showing different types of signal, which is helpful for feature engineering. The Binary Relevance model has very high micro-averaged precision (relatively, it's still poor). The Classifier Chain model has the best weighted-average F1 score which indicates its relative usefulness for predicting each class, especially the rarer ones. The Label Powerset approach is best on a per-track basis, as shown by the sample-averaged results, which is expected as it essentially treats label combinations as unique labels.\n",
    "\n",
    "Unsurprisingly, all three models lack skill at this point. However, the performance is good enough to establish the presence of some signal between the initial features and labels. This is encouraging, because observing incremental improvements in metrics will indicate whether various feature transformations are having a beneficial effect."
   ],
   "metadata": {
    "collapsed": false
   },
   "id": "eff74f3af50391e"
  },
  {
   "cell_type": "markdown",
   "source": [
    "### Reduction of Label Space - Filtering"
   ],
   "metadata": {
    "collapsed": false
   },
   "id": "ebbe1b054f60fa8f"
  },
  {
   "cell_type": "markdown",
   "source": [
    "The most obvious improvement from both a technical and practical perspective is to reduce the label space. This will address many of the issues above and will hopefully improve recall by reducing the sparsity of the labels. The goal of this project is not to predict genres as granular as the ones in Spotify artist profiles. Highly specific genres such as `swedish melodic rock` can be characterized under general ones such as `rock`, and that is still valuable.\n",
    "\n",
    "However, such an approach will require re-labeling songs that only have such genres, or creating genre clusters. Prior to attempting this, a simpler approach could to just apply a more strict filter, discarding labels with poor representation. This will be a quick way to observe the effect of reducing label sparsity and seeing if the existing features have any predictive value."
   ],
   "metadata": {
    "collapsed": false
   },
   "id": "4c802f26370decde"
  },
  {
   "cell_type": "code",
   "execution_count": 43,
   "outputs": [
    {
     "name": "stdout",
     "output_type": "stream",
     "text": [
      "Number of genres meeting or exceeding 100 tracks: 98\n",
      "1889 of 1987 genres do not meet this threshold.\n"
     ]
    }
   ],
   "source": [
    "GENRE_THRESHOLD = 100\n",
    "filtered_genres = filter_genres(genre_counts, minimum_tracks=GENRE_THRESHOLD)"
   ],
   "metadata": {
    "collapsed": false,
    "ExecuteTime": {
     "end_time": "2024-03-25T18:24:02.279168900Z",
     "start_time": "2024-03-25T18:24:02.269157700Z"
    }
   },
   "id": "a04b90baad61051d"
  },
  {
   "cell_type": "code",
   "execution_count": 21,
   "outputs": [
    {
     "name": "stdout",
     "output_type": "stream",
     "text": [
      "After filtering, 74.3% of the dataset remains, 7736 of 10416 tracks.\n"
     ]
    }
   ],
   "source": [
    "# Employ the same encoding/filtering process as before\n",
    "filtered_genres_encoded = encode_labels(exploded_genres, filtered_genres)\n",
    "print(f'After filtering, {100 * filtered_genres_encoded.shape[0] / tracks.shape[0]:.1f}% of the dataset remains, {filtered_genres_encoded.shape[0]} of {tracks.shape[0]} tracks.')"
   ],
   "metadata": {
    "collapsed": false,
    "ExecuteTime": {
     "end_time": "2024-03-18T21:58:22.424004100Z",
     "start_time": "2024-03-18T21:58:22.070663500Z"
    }
   },
   "id": "89ca010a8b6cb049"
  },
  {
   "cell_type": "markdown",
   "source": [
    "Even with this more aggressive filter, a substantial portion of the original data remains."
   ],
   "metadata": {
    "collapsed": false
   },
   "id": "87d36e812f0481a9"
  },
  {
   "cell_type": "code",
   "execution_count": 22,
   "outputs": [],
   "source": [
    "# Perform the other feature engineering tasks from before: join the encoded labels, one-hot encode categoricals, and log-scale the duration\n",
    "track_data_label_filter = tracks[['track_id'] + RAW_TRAINING_FEATURES].copy()\n",
    "track_data_lf = track_data_label_filter.merge(filtered_genres_encoded, left_index=True, right_index=True).reset_index(drop=True)\n",
    "track_data_lf = pd.get_dummies(track_data_lf, columns=CATEGORICAL_FEATURES, dtype=int)\n",
    "track_data_lf['duration_ms'] = np.log(track_data_lf['duration_ms'])"
   ],
   "metadata": {
    "collapsed": false,
    "ExecuteTime": {
     "end_time": "2024-03-18T21:58:25.560407400Z",
     "start_time": "2024-03-18T21:58:25.528339600Z"
    }
   },
   "id": "45fdcd129cc26902"
  },
  {
   "cell_type": "code",
   "execution_count": 23,
   "outputs": [],
   "source": [
    "# Split and scale the data again, same procedure as before\n",
    "track_dataset_lf = Dataset(track_data_lf, training_features, filtered_genres, 'track_id')\n",
    "X_train, y_train, ids_train, X_test, y_test, ids_test = track_dataset_lf.split_data(test_size=0.2, iterative=True)\n",
    "X_train = pd.DataFrame(X_train, columns=training_features)\n",
    "X_test = pd.DataFrame(X_test, columns=training_features)\n",
    "\n",
    "scaler = StandardScaler()\n",
    "X_train[['duration_ms', 'tempo', 'loudness']] = scaler.fit_transform(X_train[['duration_ms', 'tempo', 'loudness']])\n",
    "X_test[['duration_ms', 'tempo', 'loudness']] = scaler.transform(X_test[['duration_ms', 'tempo', 'loudness']])"
   ],
   "metadata": {
    "collapsed": false,
    "ExecuteTime": {
     "end_time": "2024-03-18T21:58:26.233038600Z",
     "start_time": "2024-03-18T21:58:25.895416500Z"
    }
   },
   "id": "2b0097f17f5cb69f"
  },
  {
   "cell_type": "code",
   "execution_count": 24,
   "outputs": [],
   "source": [
    "# Prepare data for modeling\n",
    "X_train, X_test = X_train.to_numpy(), X_test.to_numpy()\n",
    "filtered_labels_dataset_chars = track_dataset_lf.get_dataset_characteristics()"
   ],
   "metadata": {
    "collapsed": false,
    "ExecuteTime": {
     "end_time": "2024-03-18T21:58:44.899673600Z",
     "start_time": "2024-03-18T21:58:44.875300700Z"
    }
   },
   "id": "b4b363b14e91767"
  },
  {
   "cell_type": "code",
   "execution_count": null,
   "outputs": [],
   "source": [
    "# Create experiment instance\n",
    "filtered_label_experiment = Experiment(X_train, y_train, X_test, y_test, filtered_labels_dataset_chars)"
   ],
   "metadata": {
    "collapsed": false
   },
   "id": "b6582027ff77abdf"
  },
  {
   "cell_type": "code",
   "execution_count": 26,
   "outputs": [
    {
     "name": "stdout",
     "output_type": "stream",
     "text": [
      "Running model: br_baseline\n",
      "br_baseline complete.\n",
      "Running model: cc_baseline\n",
      "cc_baseline complete.\n",
      "Running model: lp_baseline\n",
      "lp_baseline complete.\n"
     ]
    }
   ],
   "source": [
    "# filtered_label_tags = {name: {'Comments': 'Baseline', 'Label Threshold': '100'} for name in baseline_names}\n",
    "# filtered_label_experiment.run_experiment(baseline_models, baseline_configs, mlflow_path, tags= filtered_label_tags, save_models=False)"
   ],
   "metadata": {
    "collapsed": false,
    "ExecuteTime": {
     "end_time": "2024-03-15T21:11:21.141103500Z",
     "start_time": "2024-03-15T21:10:36.202431100Z"
    }
   },
   "id": "70f3b9b972739aa2"
  },
  {
   "cell_type": "code",
   "execution_count": 31,
   "outputs": [
    {
     "name": "stdout",
     "output_type": "stream",
     "text": [
      "Hamming Loss: 0.0299\n",
      "Jaccard Score (Weighted Avg): 0.0793\n",
      "                        precision    recall  f1-score   support\n",
      "             micro avg      0.599     0.094     0.163      4659\n",
      "             macro avg      0.216     0.050     0.069      4659\n",
      "          weighted avg      0.306     0.094     0.123      4659\n",
      "           samples avg      0.179     0.119     0.129      4659\n"
     ]
    }
   ],
   "source": [
    "# # Inspect results\n",
    "# filtered_label_experiment.results['br_baseline'].print_metrics_report()"
   ],
   "metadata": {
    "collapsed": false,
    "ExecuteTime": {
     "end_time": "2024-03-15T21:12:18.121672200Z",
     "start_time": "2024-03-15T21:12:18.117156Z"
    }
   },
   "id": "8586343d2eabb259"
  },
  {
   "cell_type": "code",
   "execution_count": 28,
   "outputs": [
    {
     "name": "stdout",
     "output_type": "stream",
     "text": [
      "Hamming Loss: 0.0323\n",
      "Jaccard Score (Weighted Avg): 0.1240\n",
      "                        precision    recall  f1-score   support\n",
      "             micro avg      0.440     0.164     0.239      4659\n",
      "             macro avg      0.274     0.118     0.143      4659\n",
      "          weighted avg      0.337     0.164     0.194      4659\n",
      "           samples avg      0.183     0.190     0.177      4659\n"
     ]
    }
   ],
   "source": [
    "# filtered_label_experiment.results['cc_baseline'].print_metrics_report()"
   ],
   "metadata": {
    "collapsed": false,
    "ExecuteTime": {
     "end_time": "2024-03-15T21:11:45.469978800Z",
     "start_time": "2024-03-15T21:11:45.461973300Z"
    }
   },
   "id": "6a546a394259c1f2"
  },
  {
   "cell_type": "code",
   "execution_count": 29,
   "outputs": [
    {
     "name": "stdout",
     "output_type": "stream",
     "text": [
      "Hamming Loss: 0.0398\n",
      "Jaccard Score (Weighted Avg): 0.1071\n",
      "                        precision    recall  f1-score   support\n",
      "             micro avg      0.284     0.190     0.228      4659\n",
      "             macro avg      0.274     0.178     0.162      4659\n",
      "          weighted avg      0.314     0.190     0.178      4659\n",
      "           samples avg      0.298     0.270     0.270      4659\n"
     ]
    }
   ],
   "source": [
    "# filtered_label_experiment.results['lp_baseline'].print_metrics_report()"
   ],
   "metadata": {
    "collapsed": false,
    "ExecuteTime": {
     "end_time": "2024-03-15T21:11:48.166830500Z",
     "start_time": "2024-03-15T21:11:48.166830500Z"
    }
   },
   "id": "aa8a20422e514439"
  },
  {
   "cell_type": "markdown",
   "source": [
    "\n",
    "\n",
    "Because the dataset collection was not comprehensive, there are problems with using such a crude filtering approach to reduce the number of labels this way\n",
    "- The filtered genres should represent nearly all tracks, i.e., there should not be tracks which do not strongly associate with a label. This is likely not the case.\n",
    "- Related to the previous issue, there should not be broad genres or sub-genres that are excluded \n",
    "- Genres can be divided into subgenres with different degrees of granularity. For example, there could be 3 types of hip-hop and 400 types of rock music. This method could eliminate the rock sub-genres due to lower frequency even if rock is a more common genre than hip-hop."
   ],
   "metadata": {
    "collapsed": false
   },
   "id": "5744ade8dc97dd81"
  },
  {
   "cell_type": "markdown",
   "source": [
    "### Reduction of Label Space - Clustering"
   ],
   "metadata": {
    "collapsed": false
   },
   "id": "eeac105b631bfe5c"
  },
  {
   "cell_type": "markdown",
   "source": [
    "A better solution is to cluster the existing genres into broader genres that are still distinct and useful for classification. This approach also benefits from retaining more data, since it becomes possible to generate labels for tracks with only niche genres.\n",
    "\n",
    "Clustering the labels is an effort-intensive process, so for clarity, please refer to the `label_clustering` notebook to see how this process was conducted. "
   ],
   "metadata": {
    "collapsed": false
   },
   "id": "19f16af2a784b062"
  },
  {
   "cell_type": "code",
   "execution_count": 139,
   "outputs": [],
   "source": [
    "# Import cluster definitions\n",
    "CLUSTER_PATH = Path(os.getenv('PROJECT_ROOT'), '.') / 'clustering'\n",
    "CLUSTER_FILE = CLUSTER_PATH / 'cluster_genres.pkl'\n",
    "\n",
    "with open(CLUSTER_FILE, 'rb') as file:\n",
    "    cluster_genres = pickle.load(file)"
   ],
   "metadata": {
    "collapsed": false,
    "ExecuteTime": {
     "end_time": "2024-03-25T20:27:31.504098500Z",
     "start_time": "2024-03-25T20:27:31.471811900Z"
    }
   },
   "id": "5a300e97699244da"
  },
  {
   "cell_type": "code",
   "execution_count": 140,
   "outputs": [],
   "source": [
    "# For easier lookups in later steps, invert the structure of the cluster dictionary such that key is genre and value is cluster\n",
    "genre_clusters = {}\n",
    "for cluster_name, cluster_genre_list in cluster_genres.items():\n",
    "    for genre_name in cluster_genre_list:\n",
    "        genre_clusters[genre_name] = cluster_name\n",
    "        \n",
    "# Also store the list of cluster names, since these will become the new labels\n",
    "cluster_names = list(cluster_genres.keys())"
   ],
   "metadata": {
    "collapsed": false,
    "ExecuteTime": {
     "end_time": "2024-03-25T20:27:31.834287100Z",
     "start_time": "2024-03-25T20:27:31.818399600Z"
    }
   },
   "id": "d17ea8276a281a81"
  },
  {
   "cell_type": "markdown",
   "source": [
    "Even though the genres are being clustered, some initial filtering was still performed to generate the clusters at the expense of a small portion of the dataset. This is discussed in more detail in the `label_clustering` notebook.\n",
    "\n",
    "Otherwise, the procedure is mostly the same."
   ],
   "metadata": {
    "collapsed": false
   },
   "id": "b6d48debaca67b6a"
  },
  {
   "cell_type": "code",
   "execution_count": 141,
   "outputs": [
    {
     "name": "stdout",
     "output_type": "stream",
     "text": [
      "Number of genres meeting or exceeding 10 tracks: 591\n",
      "1396 of 1987 genres do not meet this threshold.\n"
     ]
    }
   ],
   "source": [
    "# Get filtered genres again\n",
    "GENRE_THRESHOLD = 10\n",
    "filtered_genres = filter_genres(genre_counts, GENRE_THRESHOLD)"
   ],
   "metadata": {
    "collapsed": false,
    "ExecuteTime": {
     "end_time": "2024-03-25T20:27:33.167605700Z",
     "start_time": "2024-03-25T20:27:33.141649500Z"
    }
   },
   "id": "63712a984fc348"
  },
  {
   "cell_type": "markdown",
   "source": [
    "Filtering on the genres will yield the same 94.1% of the original dataset as it did before. In order to re-use the filter and encoding function from earlier, it is necessary to map the exploded genres DataFrame to a corresponding exploded genre cluster DataFrame"
   ],
   "metadata": {
    "collapsed": false
   },
   "id": "67224e2117ab97b9"
  },
  {
   "cell_type": "code",
   "execution_count": 157,
   "outputs": [],
   "source": [
    "exploded_clusters = exploded_genres['artist_genres'].map(genre_clusters).rename('genre_clusters').to_frame()\n",
    "\n",
    "# Encode as before, this function will also eliminate unmapped genres from the step above\n",
    "clusters_encoded = encode_labels(exploded_clusters, cluster_names)"
   ],
   "metadata": {
    "collapsed": false,
    "ExecuteTime": {
     "end_time": "2024-03-25T20:33:51.073770Z",
     "start_time": "2024-03-25T20:33:51.067339Z"
    }
   },
   "id": "74decd276d9c89e3"
  },
  {
   "cell_type": "code",
   "execution_count": 12,
   "outputs": [],
   "source": [
    "# Create a new DataFrame and join in the labels\n",
    "track_data_clustered = tracks[['track_id'] + RAW_TRAINING_FEATURES].copy()\n",
    "track_data_c = track_data_clustered.merge(clusters_encoded, left_index=True, right_index=True).reset_index(drop=True)"
   ],
   "metadata": {
    "collapsed": false,
    "ExecuteTime": {
     "end_time": "2024-03-25T17:46:37.604397Z",
     "start_time": "2024-03-25T17:46:37.404841300Z"
    }
   },
   "id": "82d58ed2121b174f"
  },
  {
   "cell_type": "code",
   "execution_count": null,
   "outputs": [],
   "source": [
    "# One-hot encode the categoricals features and log-scale duration\n",
    "track_data_c = pd.get_dummies(track_data_c, columns=CATEGORICAL_FEATURES, dtype=int)\n",
    "track_data_c['duration_ms'] = np.log(track_data_c['duration_ms'])"
   ],
   "metadata": {
    "collapsed": false
   },
   "id": "ed0d600ccb13a914"
  },
  {
   "cell_type": "code",
   "execution_count": null,
   "outputs": [],
   "source": [
    "# Split dataset and scale the numeric features\n",
    "track_dataset_c = Dataset(track_data_c, training_features, cluster_names, 'track_id')\n",
    "X_train, y_train, ids_train, X_test, y_test, ids_test = track_dataset_c.split_data(test_size=0.2, iterative=True)\n",
    "X_train = pd.DataFrame(X_train, columns=training_features)\n",
    "X_test = pd.DataFrame(X_test, columns=training_features)\n",
    "\n",
    "scaler = StandardScaler()\n",
    "X_train[['duration_ms', 'tempo', 'loudness']] = scaler.fit_transform(X_train[['duration_ms', 'tempo', 'loudness']])\n",
    "X_test[['duration_ms', 'tempo', 'loudness']] = scaler.transform(X_test[['duration_ms', 'tempo', 'loudness']])"
   ],
   "metadata": {
    "collapsed": false
   },
   "id": "7824f14b26cdcf06"
  },
  {
   "cell_type": "code",
   "execution_count": null,
   "outputs": [],
   "source": [
    "# Prepare data for modeling\n",
    "X_train, X_test = X_train.to_numpy(), X_test.to_numpy()\n",
    "clustered_labels_dataset_chars = track_dataset_c.get_dataset_characteristics()\n",
    "clustered_label_experiment = Experiment(X_train, y_train, X_test, y_test, clustered_labels_dataset_chars)"
   ],
   "metadata": {
    "collapsed": false
   },
   "id": "d1cdea9293efd11f"
  },
  {
   "cell_type": "code",
   "execution_count": null,
   "outputs": [],
   "source": [
    "clustered_label_tags = {name: {'Comments': 'Baseline', 'Label Threshold': '10'} for name in baseline_names}\n",
    "clustered_label_experiment.run_experiment(baseline_models, baseline_configs, mlflow_path, tags=clustered_label_tags, save_models=False)"
   ],
   "metadata": {
    "collapsed": false
   },
   "id": "e270908bf6796005"
  },
  {
   "cell_type": "code",
   "execution_count": null,
   "outputs": [],
   "source": [
    "# Inspect results\n",
    "clustered_label_experiment.results['br_baseline'].print_metrics_report()"
   ],
   "metadata": {
    "collapsed": false
   },
   "id": "9d88c5b72141ebd5"
  },
  {
   "cell_type": "code",
   "execution_count": null,
   "outputs": [],
   "source": [
    "clustered_label_experiment.results['cc_baseline'].print_metrics_report()"
   ],
   "metadata": {
    "collapsed": false
   },
   "id": "984d4e1897ae5f30"
  },
  {
   "cell_type": "code",
   "execution_count": null,
   "outputs": [],
   "source": [
    "clustered_label_experiment.results['lp_baseline'].print_metrics_report()"
   ],
   "metadata": {
    "collapsed": false
   },
   "id": "a72a2d0a159a6cc8"
  }
 ],
 "metadata": {
  "kernelspec": {
   "display_name": "Python 3",
   "language": "python",
   "name": "python3"
  },
  "language_info": {
   "codemirror_mode": {
    "name": "ipython",
    "version": 2
   },
   "file_extension": ".py",
   "mimetype": "text/x-python",
   "name": "python",
   "nbconvert_exporter": "python",
   "pygments_lexer": "ipython2",
   "version": "2.7.6"
  }
 },
 "nbformat": 4,
 "nbformat_minor": 5
}
