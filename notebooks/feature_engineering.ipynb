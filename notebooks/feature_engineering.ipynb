{
 "cells": [
  {
   "cell_type": "markdown",
   "source": [
    "# Feature Engineering"
   ],
   "metadata": {
    "collapsed": false
   },
   "id": "32b99e17f94f8ae4"
  },
  {
   "cell_type": "markdown",
   "source": [
    "### Inititalizations"
   ],
   "metadata": {
    "collapsed": false
   },
   "id": "6d584292a1b8f126"
  },
  {
   "cell_type": "code",
   "execution_count": 1,
   "outputs": [],
   "source": [
    "import ast\n",
    "import os\n",
    "from pathlib import Path\n",
    "\n",
    "import matplotlib.pyplot as plt\n",
    "import numpy as np\n",
    "import pandas as pd\n",
    "import seaborn as sns\n",
    "from dotenv import load_dotenv\n",
    "from skmultilearn.model_selection import IterativeStratification\n",
    "from sklearn.preprocessing import StandardScaler\n",
    "\n",
    "from eval.metrics import Metrics\n",
    "\n",
    "sns.set_style('whitegrid')\n",
    "\n",
    "SEED = 42"
   ],
   "metadata": {
    "collapsed": false,
    "ExecuteTime": {
     "end_time": "2024-03-08T01:15:20.986273500Z",
     "start_time": "2024-03-08T01:15:20.756704800Z"
    }
   },
   "id": "a8c5df18c1dc4309"
  },
  {
   "cell_type": "code",
   "execution_count": 2,
   "outputs": [],
   "source": [
    "# Data import\n",
    "load_dotenv()\n",
    "\n",
    "DATA_PATH = Path(os.getenv('PROJECT_ROOT'), '.') / 'data'\n",
    "TRACKS_FILE = DATA_PATH / 'spotify_track_genres_preprocessed.csv'\n",
    "\n",
    "tracks = pd.read_csv(TRACKS_FILE)\n",
    "tracks['artist_genres'] = tracks['artist_genres'].apply(ast.literal_eval)"
   ],
   "metadata": {
    "collapsed": false,
    "ExecuteTime": {
     "end_time": "2024-03-08T01:15:21.150660500Z",
     "start_time": "2024-03-08T01:15:20.988224500Z"
    }
   },
   "id": "3e7363a85b7652d0"
  },
  {
   "cell_type": "code",
   "execution_count": 3,
   "outputs": [
    {
     "name": "stdout",
     "output_type": "stream",
     "text": [
      "<class 'pandas.core.frame.DataFrame'>\n",
      "RangeIndex: 10416 entries, 0 to 10415\n",
      "Data columns (total 20 columns):\n",
      " #   Column            Non-Null Count  Dtype  \n",
      "---  ------            --------------  -----  \n",
      " 0   track_id          10416 non-null  object \n",
      " 1   duration_ms       10416 non-null  int64  \n",
      " 2   track_name        10416 non-null  object \n",
      " 3   track_popularity  10416 non-null  int64  \n",
      " 4   acousticness      10416 non-null  float64\n",
      " 5   danceability      10416 non-null  float64\n",
      " 6   energy            10416 non-null  float64\n",
      " 7   instrumentalness  10416 non-null  float64\n",
      " 8   key               10416 non-null  int64  \n",
      " 9   liveness          10416 non-null  float64\n",
      " 10  loudness          10416 non-null  float64\n",
      " 11  mode              10416 non-null  int64  \n",
      " 12  speechiness       10416 non-null  float64\n",
      " 13  tempo             10416 non-null  float64\n",
      " 14  time_signature    10416 non-null  int64  \n",
      " 15  valence           10416 non-null  float64\n",
      " 16  artist_ids        10416 non-null  object \n",
      " 17  n_artists         10416 non-null  int64  \n",
      " 18  artist_genres     10416 non-null  object \n",
      " 19  n_genres          10416 non-null  int64  \n",
      "dtypes: float64(9), int64(7), object(4)\n",
      "memory usage: 1.6+ MB\n"
     ]
    },
    {
     "data": {
      "text/plain": "        duration_ms  track_popularity  acousticness  danceability  \\\ncount  1.041600e+04      10416.000000  10416.000000  10416.000000   \nmean   2.286264e+05         52.253744      0.360780      0.577236   \nstd    1.056449e+05         24.445176      0.353521      0.194247   \nmin    2.560000e+04          0.000000      0.000002      0.000000   \n25%    1.736338e+05         40.000000      0.036650      0.452000   \n50%    2.135395e+05         56.000000      0.216000      0.596000   \n75%    2.584020e+05         71.000000      0.699000      0.726000   \nmax    2.668693e+06        100.000000      0.996000      0.979000   \n\n             energy  instrumentalness           key      liveness  \\\ncount  10416.000000      10416.000000  10416.000000  10416.000000   \nmean       0.564434          0.205984      5.245776      0.174369   \nstd        0.275336          0.349380      3.554538      0.139941   \nmin        0.001100          0.000000      0.000000      0.015700   \n25%        0.364000          0.000000      2.000000      0.093100   \n50%        0.603000          0.000190      5.000000      0.119000   \n75%        0.791000          0.266250      8.000000      0.206000   \nmax        0.999000          0.994000     11.000000      1.000000   \n\n           loudness          mode   speechiness         tempo  time_signature  \\\ncount  10416.000000  10416.000000  10416.000000  10416.000000    10416.000000   \nmean      -9.679182      0.612903      0.086908    117.952822        3.886425   \nstd        6.641682      0.487109      0.088110     30.271137        0.439159   \nmin      -47.903000      0.000000      0.000000      0.000000        0.000000   \n25%      -11.953000      0.000000      0.036800     94.195500        4.000000   \n50%       -7.617500      1.000000      0.049000    118.005000        4.000000   \n75%       -5.264750      1.000000      0.091000    137.644500        4.000000   \nmax        2.015000      1.000000      0.937000    217.969000        5.000000   \n\n            valence     n_artists      n_genres  \ncount  10416.000000  10416.000000  10416.000000  \nmean       0.473638      1.384121      4.404570  \nstd        0.264467      0.787452      3.528924  \nmin        0.000000      1.000000      1.000000  \n25%        0.249000      1.000000      2.000000  \n50%        0.472000      1.000000      4.000000  \n75%        0.688000      2.000000      6.000000  \nmax        0.988000     16.000000     91.000000  ",
      "text/html": "<div>\n<style scoped>\n    .dataframe tbody tr th:only-of-type {\n        vertical-align: middle;\n    }\n\n    .dataframe tbody tr th {\n        vertical-align: top;\n    }\n\n    .dataframe thead th {\n        text-align: right;\n    }\n</style>\n<table border=\"1\" class=\"dataframe\">\n  <thead>\n    <tr style=\"text-align: right;\">\n      <th></th>\n      <th>duration_ms</th>\n      <th>track_popularity</th>\n      <th>acousticness</th>\n      <th>danceability</th>\n      <th>energy</th>\n      <th>instrumentalness</th>\n      <th>key</th>\n      <th>liveness</th>\n      <th>loudness</th>\n      <th>mode</th>\n      <th>speechiness</th>\n      <th>tempo</th>\n      <th>time_signature</th>\n      <th>valence</th>\n      <th>n_artists</th>\n      <th>n_genres</th>\n    </tr>\n  </thead>\n  <tbody>\n    <tr>\n      <th>count</th>\n      <td>1.041600e+04</td>\n      <td>10416.000000</td>\n      <td>10416.000000</td>\n      <td>10416.000000</td>\n      <td>10416.000000</td>\n      <td>10416.000000</td>\n      <td>10416.000000</td>\n      <td>10416.000000</td>\n      <td>10416.000000</td>\n      <td>10416.000000</td>\n      <td>10416.000000</td>\n      <td>10416.000000</td>\n      <td>10416.000000</td>\n      <td>10416.000000</td>\n      <td>10416.000000</td>\n      <td>10416.000000</td>\n    </tr>\n    <tr>\n      <th>mean</th>\n      <td>2.286264e+05</td>\n      <td>52.253744</td>\n      <td>0.360780</td>\n      <td>0.577236</td>\n      <td>0.564434</td>\n      <td>0.205984</td>\n      <td>5.245776</td>\n      <td>0.174369</td>\n      <td>-9.679182</td>\n      <td>0.612903</td>\n      <td>0.086908</td>\n      <td>117.952822</td>\n      <td>3.886425</td>\n      <td>0.473638</td>\n      <td>1.384121</td>\n      <td>4.404570</td>\n    </tr>\n    <tr>\n      <th>std</th>\n      <td>1.056449e+05</td>\n      <td>24.445176</td>\n      <td>0.353521</td>\n      <td>0.194247</td>\n      <td>0.275336</td>\n      <td>0.349380</td>\n      <td>3.554538</td>\n      <td>0.139941</td>\n      <td>6.641682</td>\n      <td>0.487109</td>\n      <td>0.088110</td>\n      <td>30.271137</td>\n      <td>0.439159</td>\n      <td>0.264467</td>\n      <td>0.787452</td>\n      <td>3.528924</td>\n    </tr>\n    <tr>\n      <th>min</th>\n      <td>2.560000e+04</td>\n      <td>0.000000</td>\n      <td>0.000002</td>\n      <td>0.000000</td>\n      <td>0.001100</td>\n      <td>0.000000</td>\n      <td>0.000000</td>\n      <td>0.015700</td>\n      <td>-47.903000</td>\n      <td>0.000000</td>\n      <td>0.000000</td>\n      <td>0.000000</td>\n      <td>0.000000</td>\n      <td>0.000000</td>\n      <td>1.000000</td>\n      <td>1.000000</td>\n    </tr>\n    <tr>\n      <th>25%</th>\n      <td>1.736338e+05</td>\n      <td>40.000000</td>\n      <td>0.036650</td>\n      <td>0.452000</td>\n      <td>0.364000</td>\n      <td>0.000000</td>\n      <td>2.000000</td>\n      <td>0.093100</td>\n      <td>-11.953000</td>\n      <td>0.000000</td>\n      <td>0.036800</td>\n      <td>94.195500</td>\n      <td>4.000000</td>\n      <td>0.249000</td>\n      <td>1.000000</td>\n      <td>2.000000</td>\n    </tr>\n    <tr>\n      <th>50%</th>\n      <td>2.135395e+05</td>\n      <td>56.000000</td>\n      <td>0.216000</td>\n      <td>0.596000</td>\n      <td>0.603000</td>\n      <td>0.000190</td>\n      <td>5.000000</td>\n      <td>0.119000</td>\n      <td>-7.617500</td>\n      <td>1.000000</td>\n      <td>0.049000</td>\n      <td>118.005000</td>\n      <td>4.000000</td>\n      <td>0.472000</td>\n      <td>1.000000</td>\n      <td>4.000000</td>\n    </tr>\n    <tr>\n      <th>75%</th>\n      <td>2.584020e+05</td>\n      <td>71.000000</td>\n      <td>0.699000</td>\n      <td>0.726000</td>\n      <td>0.791000</td>\n      <td>0.266250</td>\n      <td>8.000000</td>\n      <td>0.206000</td>\n      <td>-5.264750</td>\n      <td>1.000000</td>\n      <td>0.091000</td>\n      <td>137.644500</td>\n      <td>4.000000</td>\n      <td>0.688000</td>\n      <td>2.000000</td>\n      <td>6.000000</td>\n    </tr>\n    <tr>\n      <th>max</th>\n      <td>2.668693e+06</td>\n      <td>100.000000</td>\n      <td>0.996000</td>\n      <td>0.979000</td>\n      <td>0.999000</td>\n      <td>0.994000</td>\n      <td>11.000000</td>\n      <td>1.000000</td>\n      <td>2.015000</td>\n      <td>1.000000</td>\n      <td>0.937000</td>\n      <td>217.969000</td>\n      <td>5.000000</td>\n      <td>0.988000</td>\n      <td>16.000000</td>\n      <td>91.000000</td>\n    </tr>\n  </tbody>\n</table>\n</div>"
     },
     "execution_count": 3,
     "metadata": {},
     "output_type": "execute_result"
    }
   ],
   "source": [
    "# Check data\n",
    "tracks.info()\n",
    "tracks.describe()"
   ],
   "metadata": {
    "collapsed": false,
    "ExecuteTime": {
     "end_time": "2024-03-08T01:15:21.194632700Z",
     "start_time": "2024-03-08T01:15:21.152833100Z"
    }
   },
   "id": "70444e02f74894f0"
  },
  {
   "cell_type": "code",
   "execution_count": 4,
   "outputs": [
    {
     "data": {
      "text/plain": "                 track_id  duration_ms            track_name  \\\n0  000u1dTg7y1XCDXi80hbBX       300600  I Don't Want A Lover   \n1  003FTlCpBTM4eSqYSWPv4H       233266          Swing, Swing   \n2  003vvx7Niy0yvhvHt4a68B       222973        Mr. Brightside   \n3  008RKiNmjW5Lb6Ocumq6MA       298666             TWO OF US   \n4  009ImBOrIUlWgla8U05RAC       228878       Unconditionally   \n\n   track_popularity  acousticness  danceability  energy  instrumentalness  \\\n0                 1      0.196000         0.756   0.470          0.000487   \n1                70      0.000065         0.553   0.717          0.128000   \n2                90      0.001210         0.352   0.911          0.000000   \n3                46      0.927000         0.144   0.188          0.684000   \n4                82      0.002730         0.432   0.725          0.000000   \n\n   key  liveness  loudness  mode  speechiness    tempo  time_signature  \\\n0    7    0.1260   -12.615     1       0.0394  120.484               4   \n1    7    0.0385    -5.857     1       0.0318  127.947               4   \n2    1    0.0995    -5.230     1       0.0747  148.033               4   \n3    4    0.1520   -13.680     0       0.0399   85.762               4   \n4    7    0.2080    -4.862     1       0.0431  128.902               4   \n\n   valence                  artist_ids  n_artists  \\\n0   0.4300  ['5JsdVATHNPE0XdMFMRoSuf']          1   \n1   0.3180  ['3vAaWhdBR38Q02ohXqaNHT']          1   \n2   0.2360  ['0C0XlULifJtAgn6ZNCW2eu']          1   \n3   0.0743  ['6mOCYCpXBAmulHN4kMfQaa']          1   \n4   0.3530  ['6jJ0s89eD6GaHleKKya26X']          1   \n\n                                       artist_genres  n_genres  \n0        [new wave pop, new romantic, scottish rock]         3  \n1  [modern rock, post-grunge, neon pop punk, pop ...         7  \n2  [alternative rock, rock, permanent wave, moder...         5  \n3                                      [anime score]         1  \n4                                              [pop]         1  ",
      "text/html": "<div>\n<style scoped>\n    .dataframe tbody tr th:only-of-type {\n        vertical-align: middle;\n    }\n\n    .dataframe tbody tr th {\n        vertical-align: top;\n    }\n\n    .dataframe thead th {\n        text-align: right;\n    }\n</style>\n<table border=\"1\" class=\"dataframe\">\n  <thead>\n    <tr style=\"text-align: right;\">\n      <th></th>\n      <th>track_id</th>\n      <th>duration_ms</th>\n      <th>track_name</th>\n      <th>track_popularity</th>\n      <th>acousticness</th>\n      <th>danceability</th>\n      <th>energy</th>\n      <th>instrumentalness</th>\n      <th>key</th>\n      <th>liveness</th>\n      <th>loudness</th>\n      <th>mode</th>\n      <th>speechiness</th>\n      <th>tempo</th>\n      <th>time_signature</th>\n      <th>valence</th>\n      <th>artist_ids</th>\n      <th>n_artists</th>\n      <th>artist_genres</th>\n      <th>n_genres</th>\n    </tr>\n  </thead>\n  <tbody>\n    <tr>\n      <th>0</th>\n      <td>000u1dTg7y1XCDXi80hbBX</td>\n      <td>300600</td>\n      <td>I Don't Want A Lover</td>\n      <td>1</td>\n      <td>0.196000</td>\n      <td>0.756</td>\n      <td>0.470</td>\n      <td>0.000487</td>\n      <td>7</td>\n      <td>0.1260</td>\n      <td>-12.615</td>\n      <td>1</td>\n      <td>0.0394</td>\n      <td>120.484</td>\n      <td>4</td>\n      <td>0.4300</td>\n      <td>['5JsdVATHNPE0XdMFMRoSuf']</td>\n      <td>1</td>\n      <td>[new wave pop, new romantic, scottish rock]</td>\n      <td>3</td>\n    </tr>\n    <tr>\n      <th>1</th>\n      <td>003FTlCpBTM4eSqYSWPv4H</td>\n      <td>233266</td>\n      <td>Swing, Swing</td>\n      <td>70</td>\n      <td>0.000065</td>\n      <td>0.553</td>\n      <td>0.717</td>\n      <td>0.128000</td>\n      <td>7</td>\n      <td>0.0385</td>\n      <td>-5.857</td>\n      <td>1</td>\n      <td>0.0318</td>\n      <td>127.947</td>\n      <td>4</td>\n      <td>0.3180</td>\n      <td>['3vAaWhdBR38Q02ohXqaNHT']</td>\n      <td>1</td>\n      <td>[modern rock, post-grunge, neon pop punk, pop ...</td>\n      <td>7</td>\n    </tr>\n    <tr>\n      <th>2</th>\n      <td>003vvx7Niy0yvhvHt4a68B</td>\n      <td>222973</td>\n      <td>Mr. Brightside</td>\n      <td>90</td>\n      <td>0.001210</td>\n      <td>0.352</td>\n      <td>0.911</td>\n      <td>0.000000</td>\n      <td>1</td>\n      <td>0.0995</td>\n      <td>-5.230</td>\n      <td>1</td>\n      <td>0.0747</td>\n      <td>148.033</td>\n      <td>4</td>\n      <td>0.2360</td>\n      <td>['0C0XlULifJtAgn6ZNCW2eu']</td>\n      <td>1</td>\n      <td>[alternative rock, rock, permanent wave, moder...</td>\n      <td>5</td>\n    </tr>\n    <tr>\n      <th>3</th>\n      <td>008RKiNmjW5Lb6Ocumq6MA</td>\n      <td>298666</td>\n      <td>TWO OF US</td>\n      <td>46</td>\n      <td>0.927000</td>\n      <td>0.144</td>\n      <td>0.188</td>\n      <td>0.684000</td>\n      <td>4</td>\n      <td>0.1520</td>\n      <td>-13.680</td>\n      <td>0</td>\n      <td>0.0399</td>\n      <td>85.762</td>\n      <td>4</td>\n      <td>0.0743</td>\n      <td>['6mOCYCpXBAmulHN4kMfQaa']</td>\n      <td>1</td>\n      <td>[anime score]</td>\n      <td>1</td>\n    </tr>\n    <tr>\n      <th>4</th>\n      <td>009ImBOrIUlWgla8U05RAC</td>\n      <td>228878</td>\n      <td>Unconditionally</td>\n      <td>82</td>\n      <td>0.002730</td>\n      <td>0.432</td>\n      <td>0.725</td>\n      <td>0.000000</td>\n      <td>7</td>\n      <td>0.2080</td>\n      <td>-4.862</td>\n      <td>1</td>\n      <td>0.0431</td>\n      <td>128.902</td>\n      <td>4</td>\n      <td>0.3530</td>\n      <td>['6jJ0s89eD6GaHleKKya26X']</td>\n      <td>1</td>\n      <td>[pop]</td>\n      <td>1</td>\n    </tr>\n  </tbody>\n</table>\n</div>"
     },
     "execution_count": 4,
     "metadata": {},
     "output_type": "execute_result"
    }
   ],
   "source": [
    "tracks.head()"
   ],
   "metadata": {
    "collapsed": false,
    "ExecuteTime": {
     "end_time": "2024-03-08T01:15:21.213765Z",
     "start_time": "2024-03-08T01:15:21.195637700Z"
    }
   },
   "id": "e763196441ec6b25"
  },
  {
   "cell_type": "markdown",
   "source": [
    "#### Isolate relevant fields"
   ],
   "metadata": {
    "collapsed": false
   },
   "id": "73c5e06e089f0a99"
  },
  {
   "cell_type": "code",
   "execution_count": 5,
   "outputs": [],
   "source": [
    "RAW_TRAINING_FEATURES = [\n",
    "    'duration_ms', \n",
    "    'acousticness', \n",
    "    'danceability', \n",
    "    'energy', \n",
    "    'instrumentalness', \n",
    "    'key', \n",
    "    'liveness', \n",
    "    'loudness', \n",
    "    'mode',\n",
    "    'speechiness', \n",
    "    'tempo', \n",
    "    'time_signature', \n",
    "    'valence'\n",
    "]"
   ],
   "metadata": {
    "collapsed": false,
    "ExecuteTime": {
     "end_time": "2024-03-08T01:15:21.215770900Z",
     "start_time": "2024-03-08T01:15:21.212361300Z"
    }
   },
   "id": "ebf10273953e5973"
  },
  {
   "cell_type": "code",
   "execution_count": 6,
   "outputs": [],
   "source": [
    "track_data = tracks[['track_id', 'artist_genres'] + RAW_TRAINING_FEATURES].copy()"
   ],
   "metadata": {
    "collapsed": false,
    "ExecuteTime": {
     "end_time": "2024-03-08T01:15:21.224061200Z",
     "start_time": "2024-03-08T01:15:21.217774600Z"
    }
   },
   "id": "bd81ae02f1861e"
  },
  {
   "cell_type": "markdown",
   "source": [
    "### Label encoding"
   ],
   "metadata": {
    "collapsed": false
   },
   "id": "b8d7dd17d5a5fe41"
  },
  {
   "cell_type": "markdown",
   "source": [
    "From the previously conducted EDA, it is apparent that the distribution of genres is highly skewed towards rare genres, reproduced below. This distribution gives rise to two problems:\n",
    "- There is a possibility that a rare label can appear in the test set without appearing in the training set\n",
    "- A rare label can appear in the training set without appearing in the test set, or it can appear too few times for sufficient training"
   ],
   "metadata": {
    "collapsed": false
   },
   "id": "64402e6ce6f86fc7"
  },
  {
   "cell_type": "code",
   "execution_count": 7,
   "outputs": [
    {
     "data": {
      "text/plain": "<Figure size 640x480 with 1 Axes>",
      "image/png": "[encoded data removed]"
     },
     "metadata": {},
     "output_type": "display_data"
    }
   ],
   "source": [
    "track_data_genre_exp = track_data[['artist_genres']].explode('artist_genres')\n",
    "genre_counts = track_data_genre_exp['artist_genres'].value_counts()\n",
    "\n",
    "plt.title('Distribution of Genre Counts')\n",
    "plt.xlabel('Number of Tracks for Genre')\n",
    "plt.ylabel('Number of Genres')\n",
    "plt.yscale(\"log\")\n",
    "plt.xlim([0, 100])\n",
    "sns.histplot(genre_counts, discrete=True)\n",
    "plt.show()"
   ],
   "metadata": {
    "collapsed": false,
    "ExecuteTime": {
     "end_time": "2024-03-08T01:15:22.585047100Z",
     "start_time": "2024-03-08T01:15:21.225057900Z"
    }
   },
   "id": "33922dde824727df"
  },
  {
   "cell_type": "markdown",
   "source": [
    "For a train-test split of about 80-20, there should be at least five instances of any label such that one of them can appear in the training set. This is still most likely too low, since there can be rare combinations of genres as well. To increase the average number of training examples per label, the simplest method is to set a minimum number of instances for each label and discard the rarer ones. I will start by using 10 tracks per genre as a threshold."
   ],
   "metadata": {
    "collapsed": false
   },
   "id": "d916179c74d949df"
  },
  {
   "cell_type": "code",
   "execution_count": 8,
   "outputs": [
    {
     "name": "stdout",
     "output_type": "stream",
     "text": [
      "Number of genres meeting or exceeding 100 tracks: 98\n",
      "1889 of 1987 genres removed from dataset.\n"
     ]
    }
   ],
   "source": [
    "GENRE_THRESHOLD = 100\n",
    "total_genres = genre_counts.size\n",
    "genre_subset = genre_counts[genre_counts >= GENRE_THRESHOLD].reset_index()['artist_genres']\n",
    "print(f'Number of genres meeting or exceeding {GENRE_THRESHOLD} tracks: {genre_subset.size}')\n",
    "print(f'{total_genres - genre_subset.size} of {total_genres} genres removed from dataset.')"
   ],
   "metadata": {
    "collapsed": false,
    "ExecuteTime": {
     "end_time": "2024-03-08T01:15:22.591672Z",
     "start_time": "2024-03-08T01:15:22.586037600Z"
    }
   },
   "id": "bb9f03665f80bd41"
  },
  {
   "cell_type": "code",
   "execution_count": 9,
   "outputs": [],
   "source": [
    "track_data_genre_exp = track_data_genre_exp[track_data_genre_exp['artist_genres'].isin(genre_subset)]\n",
    "track_genre_pivot = pd.pivot_table(track_data_genre_exp, index=track_data_genre_exp.index, columns='artist_genres', aggfunc=lambda x: 1, fill_value=0)"
   ],
   "metadata": {
    "collapsed": false,
    "ExecuteTime": {
     "end_time": "2024-03-08T01:15:23.033309300Z",
     "start_time": "2024-03-08T01:15:22.595850400Z"
    }
   },
   "id": "af94a62b9eee3970"
  },
  {
   "cell_type": "code",
   "execution_count": 10,
   "outputs": [],
   "source": [
    "track_data = track_data.merge(track_genre_pivot, left_index=True, right_index=True, how='inner').reset_index(drop=True)\n",
    "track_data[genre_subset] = track_data[genre_subset].fillna(0)\n",
    "track_data[genre_subset] = track_data[genre_subset].astype(int)\n",
    "track_data.drop('artist_genres', axis=1, inplace=True)"
   ],
   "metadata": {
    "collapsed": false,
    "ExecuteTime": {
     "end_time": "2024-03-08T01:15:23.095996500Z",
     "start_time": "2024-03-08T01:15:23.035309900Z"
    }
   },
   "id": "aef63b3befccafe1"
  },
  {
   "cell_type": "code",
   "execution_count": 11,
   "outputs": [
    {
     "name": "stdout",
     "output_type": "stream",
     "text": [
      "After filtering, 74.3% of the dataset remains, 7736 of 10416 tracks.\n"
     ]
    }
   ],
   "source": [
    "print(f'After filtering, {100 * track_data.shape[0] / tracks.shape[0]:.1f}% of the dataset remains, {track_data.shape[0]} of {tracks.shape[0]} tracks.')"
   ],
   "metadata": {
    "collapsed": false,
    "ExecuteTime": {
     "end_time": "2024-03-08T01:15:23.103624700Z",
     "start_time": "2024-03-08T01:15:23.096994500Z"
    }
   },
   "id": "8748eafbb87dbec"
  },
  {
   "cell_type": "markdown",
   "source": [
    "Despite the removal of over 70% of the labels, 94% of the data remains, because the genre frequency is distribution has a thick tail, i.e. the most common genres describing a large number of tracks.\n",
    "\n",
    "This filtering serves as a useful tool for calibration and can be revisited to gauge model performance relative to different thresholds. For example, if the dataset is filtered to include genres with over 100 tracks, nearly 75% of the data remains, described by the top 98 genre labels, and this further reduction in label complexity may improve model performance."
   ],
   "metadata": {
    "collapsed": false
   },
   "id": "bc4470b7c6487101"
  },
  {
   "cell_type": "markdown",
   "source": [
    "### Feature transformations"
   ],
   "metadata": {
    "collapsed": false
   },
   "id": "1d0ffc9261ad9136"
  },
  {
   "cell_type": "code",
   "execution_count": 12,
   "outputs": [],
   "source": [
    "# One-hot encode the categorical features\n",
    "CATEGORICAL_FEATURES = [\n",
    "    'key',\n",
    "    'mode',\n",
    "    'time_signature'\n",
    "]\n",
    "track_data = pd.get_dummies(track_data, columns=CATEGORICAL_FEATURES)\n",
    "\n",
    "# Recreate list of feature names\n",
    "non_categorical_features = [feature for feature in RAW_TRAINING_FEATURES if feature not in CATEGORICAL_FEATURES]\n",
    "one_hot_features = [col for col in track_data.columns if any(col.startswith(f'{cat}_') for cat in CATEGORICAL_FEATURES)]\n",
    "training_features = non_categorical_features + one_hot_features\n",
    "\n",
    "# Convert booleans to integers\n",
    "track_data[one_hot_features] = track_data[one_hot_features].astype(int)"
   ],
   "metadata": {
    "collapsed": false,
    "ExecuteTime": {
     "end_time": "2024-03-08T01:15:23.126570200Z",
     "start_time": "2024-03-08T01:15:23.102574200Z"
    }
   },
   "id": "5ca19ed31f8115c4"
  },
  {
   "cell_type": "markdown",
   "source": [
    "Most of the numeric features are model outputs that are constrained in a range of 0-1 and can be left unchanged for baseline modeling. Several potential models would benefit from scaling the numerical features that extend past this range."
   ],
   "metadata": {
    "collapsed": false
   },
   "id": "a363c2664f2bb18f"
  },
  {
   "cell_type": "code",
   "execution_count": 13,
   "outputs": [
    {
     "data": {
      "text/plain": "<Figure size 1200x800 with 3 Axes>",
      "image/png": "[encoded data removed]"
     },
     "metadata": {},
     "output_type": "display_data"
    }
   ],
   "source": [
    "# Examine the distributions of unscaled continuous features\n",
    "plt.figure(figsize=(12, 8))\n",
    "\n",
    "plt.subplot(1, 3, 1)\n",
    "sns.histplot(track_data['duration_ms'])\n",
    "\n",
    "plt.subplot(1, 3, 2)\n",
    "sns.histplot(track_data['tempo'])\n",
    "\n",
    "plt.subplot(1, 3, 3)\n",
    "sns.histplot(track_data['loudness'])\n",
    "\n",
    "plt.tight_layout()\n",
    "plt.show()"
   ],
   "metadata": {
    "collapsed": false,
    "ExecuteTime": {
     "end_time": "2024-03-08T01:15:23.784369800Z",
     "start_time": "2024-03-08T01:15:23.143181500Z"
    }
   },
   "id": "8bd14cb8906cbc67"
  },
  {
   "cell_type": "markdown",
   "source": [
    "Of these three, the distribution of tempo is probably the most straightforward, as it is centrally distributed within a relatively narrow range. Although the underlying data is most likely multi-modal, standard scaling is appropriate for a first pass.\n",
    "\n",
    "Several attempts at transforming loudness were attempted (log-scaling, square-root scaling, Yeo-Johnson, omitted here for clarity), but did not reduce the skew. Because the distribution is also confined to a relatively narrow range, I will try standard-scaling here as well. Many of the model output features are also skewed within their 0-1 range, so these can all be revisited in later iterations, if necessary.\n",
    "\n",
    "The duration distribution has a very long tail and is a good candidate for a log transformation."
   ],
   "metadata": {
    "collapsed": false
   },
   "id": "facae11952430223"
  },
  {
   "cell_type": "code",
   "execution_count": 14,
   "outputs": [
    {
     "data": {
      "text/plain": "<Figure size 600x600 with 1 Axes>",
      "image/png": "[encoded data removed]"
     },
     "metadata": {},
     "output_type": "display_data"
    }
   ],
   "source": [
    "# Plot the log of duration\n",
    "plt.figure(figsize=(6, 6))\n",
    "\n",
    "plt.title('Log(Duration) Distribution')\n",
    "plt.xlabel('Log Duration')\n",
    "sns.histplot(np.log(track_data['duration_ms']))\n",
    "\n",
    "plt.show()"
   ],
   "metadata": {
    "collapsed": false,
    "ExecuteTime": {
     "end_time": "2024-03-08T01:15:24.011333600Z",
     "start_time": "2024-03-08T01:15:23.792448600Z"
    }
   },
   "id": "4a827c10bff09586"
  },
  {
   "cell_type": "markdown",
   "source": [
    "The log of duration appears to be normally distributed, so standard scaling after this transformation is a good choice."
   ],
   "metadata": {
    "collapsed": false
   },
   "id": "7922ab0944532c6c"
  },
  {
   "cell_type": "code",
   "execution_count": 15,
   "outputs": [],
   "source": [
    "# Log transform the duration\n",
    "track_data['duration_ms'] = np.log(track_data['duration_ms'])"
   ],
   "metadata": {
    "collapsed": false,
    "ExecuteTime": {
     "end_time": "2024-03-08T01:15:24.017576Z",
     "start_time": "2024-03-08T01:15:24.010824Z"
    }
   },
   "id": "1cb8becff3c887e4"
  },
  {
   "cell_type": "markdown",
   "source": [
    "#### Stratified Split of Data"
   ],
   "metadata": {
    "collapsed": false
   },
   "id": "8055f96030609d15"
  },
  {
   "cell_type": "markdown",
   "source": [
    "To avoid data leakage, it is necessary to split the data prior to scaling the numeric features. In multi-label classification, this can be challenging due to the rarity of labels or label features. The filtering from earlier will help alleviate this issue, but it is also beneficial to stratify the labels across splits such that there is an appropriate distribution between the training and test datasets.\n",
    "\n",
    "The scikit-multilearn library includes functionality to iteratively split datasets maintaining a label distribution. Below, I make a slight change to one of the built-in functions to allow for easily splitting the track_ids as well as the dataset."
   ],
   "metadata": {
    "collapsed": false
   },
   "id": "c23b5e1028de7e0e"
  },
  {
   "cell_type": "code",
   "execution_count": 16,
   "outputs": [],
   "source": [
    "def iterative_train_test_split(features, labels, identifiers, test_size):\n",
    "    stratifier = IterativeStratification(n_splits=2, order=2, sample_distribution_per_fold=[test_size, 1.0 - test_size])\n",
    "    train_indexes, test_indexes = next(stratifier.split(X, y))\n",
    "\n",
    "    features_train, labels_train, identifiers_train= features[train_indexes, :], labels[train_indexes, :], identifiers[train_indexes]\n",
    "    features_test, labels_test, identifiers_test = features[test_indexes, :], labels[test_indexes, :], identifiers[test_indexes]\n",
    "\n",
    "    return features_train, labels_train, identifiers_train, features_test, labels_test, identifiers_test"
   ],
   "metadata": {
    "collapsed": false,
    "ExecuteTime": {
     "end_time": "2024-03-08T01:15:24.023641900Z",
     "start_time": "2024-03-08T01:15:24.018501500Z"
    }
   },
   "id": "c6a0506d40d155cf"
  },
  {
   "cell_type": "code",
   "execution_count": 17,
   "outputs": [],
   "source": [
    "# Separate features, labels, and ids, and perform stratified split\n",
    "X = track_data[training_features]\n",
    "y = track_data[genre_subset]\n",
    "ids = track_data['track_id']\n",
    "\n",
    "X_train, y_train, ids_train, X_test, y_test, ids_test = iterative_train_test_split(X.to_numpy(), y.to_numpy(), ids.to_numpy(), test_size=0.2)"
   ],
   "metadata": {
    "collapsed": false,
    "ExecuteTime": {
     "end_time": "2024-03-08T01:15:24.305200600Z",
     "start_time": "2024-03-08T01:15:24.024657200Z"
    }
   },
   "id": "6bd5e5c85a13e660"
  },
  {
   "cell_type": "code",
   "execution_count": 18,
   "outputs": [],
   "source": [
    "# Convert data back into pandas structures for now to allow for easier manipulation\n",
    "X_train = pd.DataFrame(X_train, columns=training_features)\n",
    "X_test = pd.DataFrame(X_test, columns=training_features)\n",
    "\n",
    "y_train = pd.DataFrame(y_train, columns=genre_subset)\n",
    "y_test = pd.DataFrame(y_test, columns=genre_subset)\n",
    "\n",
    "ids_train = pd.Series(ids_train, name='track_id')\n",
    "ids_test = pd.Series(ids_test, name='track_id')"
   ],
   "metadata": {
    "collapsed": false,
    "ExecuteTime": {
     "end_time": "2024-03-08T01:15:24.311256500Z",
     "start_time": "2024-03-08T01:15:24.309250500Z"
    }
   },
   "id": "bd54194f3383c744"
  },
  {
   "cell_type": "code",
   "execution_count": 19,
   "outputs": [
    {
     "data": {
      "text/plain": "artist_genres\nrap                    219\npop                    170\nhip hop                168\nrock                   150\npop rap                122\n                      ... \nbritish orchestra       24\nk-pop girl group        21\nworld                   20\nunderground hip hop     20\nsoul blues              22\nLength: 98, dtype: int64"
     },
     "execution_count": 19,
     "metadata": {},
     "output_type": "execute_result"
    }
   ],
   "source": [
    "y_test.sum(axis=0)"
   ],
   "metadata": {
    "collapsed": false,
    "ExecuteTime": {
     "end_time": "2024-03-08T01:15:24.324377100Z",
     "start_time": "2024-03-08T01:15:24.313355800Z"
    }
   },
   "id": "ffeb36a23a6a5222"
  },
  {
   "cell_type": "code",
   "execution_count": 20,
   "outputs": [],
   "source": [
    "# Inspect characteristics of split\n",
    "## TODO"
   ],
   "metadata": {
    "collapsed": false,
    "ExecuteTime": {
     "end_time": "2024-03-08T01:15:24.329403200Z",
     "start_time": "2024-03-08T01:15:24.322861500Z"
    }
   },
   "id": "2d54ece75698d48"
  },
  {
   "cell_type": "markdown",
   "source": [
    "#### Numeric Scaling"
   ],
   "metadata": {
    "collapsed": false
   },
   "id": "37e1758e8600a944"
  },
  {
   "cell_type": "markdown",
   "source": [
    "The final transformation will be applying the numeric scaling to the features explored above. After this scaling, the data should be ready for baseline modeling."
   ],
   "metadata": {
    "collapsed": false
   },
   "id": "3fd40c7d5f113ef7"
  },
  {
   "cell_type": "code",
   "execution_count": 21,
   "outputs": [],
   "source": [
    "scaler = StandardScaler()\n",
    "X_train[['duration_ms', 'tempo', 'loudness']] = scaler.fit_transform(X_train[['duration_ms', 'tempo', 'loudness']])\n",
    "X_test[['duration_ms', 'tempo', 'loudness']] = scaler.transform(X_test[['duration_ms', 'tempo', 'loudness']])"
   ],
   "metadata": {
    "collapsed": false,
    "ExecuteTime": {
     "end_time": "2024-03-08T01:15:24.336198Z",
     "start_time": "2024-03-08T01:15:24.329403200Z"
    }
   },
   "id": "6cf310aa5fb83a6b"
  },
  {
   "cell_type": "code",
   "execution_count": 22,
   "outputs": [
    {
     "data": {
      "text/plain": "   duration_ms  acousticness  danceability  energy  instrumentalness  \\\n0     0.217697      0.000065         0.553  0.7170          0.128000   \n1     0.089359      0.001210         0.352  0.9110          0.000000   \n2     0.765438      0.995000         0.355  0.0164          0.926000   \n3    -1.091355      0.086800         0.675  0.9860          0.000005   \n4    -0.272950      0.019500         0.723  0.9400          0.000518   \n\n   liveness  loudness  speechiness     tempo  valence  ...  key_9  key_10  \\\n0    0.0385  0.562765       0.0318  0.335976   0.3180  ...    0.0     0.0   \n1    0.0995  0.656263       0.0747  0.991409   0.2360  ...    0.0     0.0   \n2    0.0986 -2.837455       0.0396 -1.621936   0.0922  ...    0.0     0.0   \n3    0.1280  0.749313       0.0974  0.272573   0.5700  ...    1.0     0.0   \n4    0.0933  1.155365       0.0728 -0.574797   0.4060  ...    0.0     0.0   \n\n   key_11  mode_0  mode_1  time_signature_0  time_signature_1  \\\n0     0.0     0.0     1.0               0.0               0.0   \n1     0.0     0.0     1.0               0.0               0.0   \n2     0.0     0.0     1.0               0.0               0.0   \n3     0.0     1.0     0.0               0.0               0.0   \n4     0.0     0.0     1.0               0.0               0.0   \n\n   time_signature_3  time_signature_4  time_signature_5  \n0               0.0               1.0               0.0  \n1               0.0               1.0               0.0  \n2               0.0               1.0               0.0  \n3               0.0               1.0               0.0  \n4               0.0               1.0               0.0  \n\n[5 rows x 29 columns]",
      "text/html": "<div>\n<style scoped>\n    .dataframe tbody tr th:only-of-type {\n        vertical-align: middle;\n    }\n\n    .dataframe tbody tr th {\n        vertical-align: top;\n    }\n\n    .dataframe thead th {\n        text-align: right;\n    }\n</style>\n<table border=\"1\" class=\"dataframe\">\n  <thead>\n    <tr style=\"text-align: right;\">\n      <th></th>\n      <th>duration_ms</th>\n      <th>acousticness</th>\n      <th>danceability</th>\n      <th>energy</th>\n      <th>instrumentalness</th>\n      <th>liveness</th>\n      <th>loudness</th>\n      <th>speechiness</th>\n      <th>tempo</th>\n      <th>valence</th>\n      <th>...</th>\n      <th>key_9</th>\n      <th>key_10</th>\n      <th>key_11</th>\n      <th>mode_0</th>\n      <th>mode_1</th>\n      <th>time_signature_0</th>\n      <th>time_signature_1</th>\n      <th>time_signature_3</th>\n      <th>time_signature_4</th>\n      <th>time_signature_5</th>\n    </tr>\n  </thead>\n  <tbody>\n    <tr>\n      <th>0</th>\n      <td>0.217697</td>\n      <td>0.000065</td>\n      <td>0.553</td>\n      <td>0.7170</td>\n      <td>0.128000</td>\n      <td>0.0385</td>\n      <td>0.562765</td>\n      <td>0.0318</td>\n      <td>0.335976</td>\n      <td>0.3180</td>\n      <td>...</td>\n      <td>0.0</td>\n      <td>0.0</td>\n      <td>0.0</td>\n      <td>0.0</td>\n      <td>1.0</td>\n      <td>0.0</td>\n      <td>0.0</td>\n      <td>0.0</td>\n      <td>1.0</td>\n      <td>0.0</td>\n    </tr>\n    <tr>\n      <th>1</th>\n      <td>0.089359</td>\n      <td>0.001210</td>\n      <td>0.352</td>\n      <td>0.9110</td>\n      <td>0.000000</td>\n      <td>0.0995</td>\n      <td>0.656263</td>\n      <td>0.0747</td>\n      <td>0.991409</td>\n      <td>0.2360</td>\n      <td>...</td>\n      <td>0.0</td>\n      <td>0.0</td>\n      <td>0.0</td>\n      <td>0.0</td>\n      <td>1.0</td>\n      <td>0.0</td>\n      <td>0.0</td>\n      <td>0.0</td>\n      <td>1.0</td>\n      <td>0.0</td>\n    </tr>\n    <tr>\n      <th>2</th>\n      <td>0.765438</td>\n      <td>0.995000</td>\n      <td>0.355</td>\n      <td>0.0164</td>\n      <td>0.926000</td>\n      <td>0.0986</td>\n      <td>-2.837455</td>\n      <td>0.0396</td>\n      <td>-1.621936</td>\n      <td>0.0922</td>\n      <td>...</td>\n      <td>0.0</td>\n      <td>0.0</td>\n      <td>0.0</td>\n      <td>0.0</td>\n      <td>1.0</td>\n      <td>0.0</td>\n      <td>0.0</td>\n      <td>0.0</td>\n      <td>1.0</td>\n      <td>0.0</td>\n    </tr>\n    <tr>\n      <th>3</th>\n      <td>-1.091355</td>\n      <td>0.086800</td>\n      <td>0.675</td>\n      <td>0.9860</td>\n      <td>0.000005</td>\n      <td>0.1280</td>\n      <td>0.749313</td>\n      <td>0.0974</td>\n      <td>0.272573</td>\n      <td>0.5700</td>\n      <td>...</td>\n      <td>1.0</td>\n      <td>0.0</td>\n      <td>0.0</td>\n      <td>1.0</td>\n      <td>0.0</td>\n      <td>0.0</td>\n      <td>0.0</td>\n      <td>0.0</td>\n      <td>1.0</td>\n      <td>0.0</td>\n    </tr>\n    <tr>\n      <th>4</th>\n      <td>-0.272950</td>\n      <td>0.019500</td>\n      <td>0.723</td>\n      <td>0.9400</td>\n      <td>0.000518</td>\n      <td>0.0933</td>\n      <td>1.155365</td>\n      <td>0.0728</td>\n      <td>-0.574797</td>\n      <td>0.4060</td>\n      <td>...</td>\n      <td>0.0</td>\n      <td>0.0</td>\n      <td>0.0</td>\n      <td>0.0</td>\n      <td>1.0</td>\n      <td>0.0</td>\n      <td>0.0</td>\n      <td>0.0</td>\n      <td>1.0</td>\n      <td>0.0</td>\n    </tr>\n  </tbody>\n</table>\n<p>5 rows × 29 columns</p>\n</div>"
     },
     "execution_count": 22,
     "metadata": {},
     "output_type": "execute_result"
    }
   ],
   "source": [
    "X_train.head()"
   ],
   "metadata": {
    "collapsed": false,
    "ExecuteTime": {
     "end_time": "2024-03-08T01:15:24.360919500Z",
     "start_time": "2024-03-08T01:15:24.351423Z"
    }
   },
   "id": "4b65ce370147bdcd"
  },
  {
   "cell_type": "code",
   "execution_count": 23,
   "outputs": [],
   "source": [
    "# Convert back to numpy arrays for modeling\n",
    "X_train, X_test, y_train, y_test = X_train.to_numpy(), X_test.to_numpy(), y_train.to_numpy(), y_test.to_numpy()"
   ],
   "metadata": {
    "collapsed": false,
    "ExecuteTime": {
     "end_time": "2024-03-08T01:15:24.361998Z",
     "start_time": "2024-03-08T01:15:24.356407600Z"
    }
   },
   "id": "6ef50b1253233915"
  },
  {
   "cell_type": "markdown",
   "source": [
    "### Baseline Modeling"
   ],
   "metadata": {
    "collapsed": false
   },
   "id": "95461dd76e044287"
  },
  {
   "cell_type": "code",
   "execution_count": 24,
   "outputs": [],
   "source": [
    "from sklearn.linear_model import LogisticRegression\n",
    "from sklearn.naive_bayes import GaussianNB\n",
    "from skmultilearn.problem_transform import BinaryRelevance, ClassifierChain, LabelPowerset"
   ],
   "metadata": {
    "collapsed": false,
    "ExecuteTime": {
     "end_time": "2024-03-08T01:15:24.451345400Z",
     "start_time": "2024-03-08T01:15:24.361998Z"
    }
   },
   "id": "3ae7a3d032eb6709"
  },
  {
   "cell_type": "code",
   "execution_count": 34,
   "outputs": [],
   "source": [
    "br_classifier = BinaryRelevance(GaussianNB())\n",
    "cc_classifier = ClassifierChain(LogisticRegression(max_iter=1000, random_state=SEED))\n",
    "lp_classifier = LabelPowerset(LogisticRegression(max_iter=1000, random_state=SEED))"
   ],
   "metadata": {
    "collapsed": false,
    "ExecuteTime": {
     "end_time": "2024-03-08T01:17:33.095069800Z",
     "start_time": "2024-03-08T01:17:33.083870800Z"
    }
   },
   "id": "2e3173e0c4ecd61d"
  },
  {
   "cell_type": "code",
   "execution_count": 44,
   "outputs": [],
   "source": [
    "_ = br_classifier.fit(X_train, y_train)"
   ],
   "metadata": {
    "collapsed": false,
    "ExecuteTime": {
     "end_time": "2024-03-08T01:25:04.496348700Z",
     "start_time": "2024-03-08T01:25:04.002630700Z"
    }
   },
   "id": "df4903d15fe6d2fc"
  },
  {
   "cell_type": "code",
   "execution_count": 45,
   "outputs": [],
   "source": [
    "_ = cc_classifier.fit(X_train, y_train)"
   ],
   "metadata": {
    "collapsed": false,
    "ExecuteTime": {
     "end_time": "2024-03-08T01:25:10.145400Z",
     "start_time": "2024-03-08T01:25:07.102168400Z"
    }
   },
   "id": "c0aae27866c8d873"
  },
  {
   "cell_type": "code",
   "execution_count": 46,
   "outputs": [],
   "source": [
    "_ = lp_classifier.fit(X_train, y_train)"
   ],
   "metadata": {
    "collapsed": false,
    "ExecuteTime": {
     "end_time": "2024-03-08T01:25:45.471553700Z",
     "start_time": "2024-03-08T01:25:13.265602300Z"
    }
   },
   "id": "17714420c4b20342"
  },
  {
   "cell_type": "code",
   "execution_count": 47,
   "outputs": [],
   "source": [
    "br_predictions = br_classifier.predict(X_test)\n",
    "cc_predictions = cc_classifier.predict(X_test)\n",
    "lp_predictions = lp_classifier.predict(X_test)"
   ],
   "metadata": {
    "collapsed": false,
    "ExecuteTime": {
     "end_time": "2024-03-08T01:25:45.782035300Z",
     "start_time": "2024-03-08T01:25:45.473555700Z"
    }
   },
   "id": "6363dd1d4f83db29"
  },
  {
   "cell_type": "code",
   "execution_count": 48,
   "outputs": [],
   "source": [
    "br_output_metrics = Metrics(y_test, br_predictions, genre_subset)\n",
    "cc_output_metrics = Metrics(y_test, cc_predictions, genre_subset)\n",
    "lp_output_metrics = Metrics(y_test, lp_predictions, genre_subset)"
   ],
   "metadata": {
    "collapsed": false,
    "ExecuteTime": {
     "end_time": "2024-03-08T01:25:45.896328600Z",
     "start_time": "2024-03-08T01:25:45.785037500Z"
    }
   },
   "id": "3594f384a23e7204"
  },
  {
   "cell_type": "code",
   "execution_count": 49,
   "outputs": [
    {
     "name": "stdout",
     "output_type": "stream",
     "text": [
      "Hamming Loss: 0.4970\n",
      "Jaccard Score (Weighted Avg): 0.0947\n",
      "                        precision    recall  f1-score   support\n",
      "             micro avg      0.055     0.940     0.104      4662\n",
      "             macro avg      0.069     0.939     0.121      4662\n",
      "          weighted avg      0.097     0.940     0.164      4662\n",
      "           samples avg      0.065     0.930     0.116      4662\n"
     ]
    }
   ],
   "source": [
    "br_output_metrics.print_metrics()"
   ],
   "metadata": {
    "collapsed": false,
    "ExecuteTime": {
     "end_time": "2024-03-08T01:25:45.909169700Z",
     "start_time": "2024-03-08T01:25:45.898451Z"
    }
   },
   "id": "2d145a3a4457be7f"
  },
  {
   "cell_type": "code",
   "execution_count": 50,
   "outputs": [
    {
     "name": "stdout",
     "output_type": "stream",
     "text": [
      "Hamming Loss: 0.0321\n",
      "Jaccard Score (Weighted Avg): 0.1252\n",
      "                        precision    recall  f1-score   support\n",
      "             micro avg      0.438     0.167     0.242      4662\n",
      "             macro avg      0.329     0.120     0.146      4662\n",
      "          weighted avg      0.394     0.167     0.197      4662\n",
      "           samples avg      0.182     0.188     0.175      4662\n"
     ]
    }
   ],
   "source": [
    "cc_output_metrics.print_metrics()"
   ],
   "metadata": {
    "collapsed": false,
    "ExecuteTime": {
     "end_time": "2024-03-08T01:25:45.909169700Z",
     "start_time": "2024-03-08T01:25:45.903483300Z"
    }
   },
   "id": "25eccbd849232c16"
  },
  {
   "cell_type": "code",
   "execution_count": 51,
   "outputs": [
    {
     "name": "stdout",
     "output_type": "stream",
     "text": [
      "Hamming Loss: 0.0397\n",
      "Jaccard Score (Weighted Avg): 0.1060\n",
      "                        precision    recall  f1-score   support\n",
      "             micro avg      0.282     0.190     0.227      4662\n",
      "             macro avg      0.291     0.179     0.160      4662\n",
      "          weighted avg      0.334     0.190     0.176      4662\n",
      "           samples avg      0.294     0.273     0.269      4662\n"
     ]
    }
   ],
   "source": [
    "lp_output_metrics.print_metrics()"
   ],
   "metadata": {
    "collapsed": false,
    "ExecuteTime": {
     "end_time": "2024-03-08T01:25:45.916775600Z",
     "start_time": "2024-03-08T01:25:45.910170100Z"
    }
   },
   "id": "ff74fdfda612b570"
  }
 ],
 "metadata": {
  "kernelspec": {
   "display_name": "Python 3",
   "language": "python",
   "name": "python3"
  },
  "language_info": {
   "codemirror_mode": {
    "name": "ipython",
    "version": 2
   },
   "file_extension": ".py",
   "mimetype": "text/x-python",
   "name": "python",
   "nbconvert_exporter": "python",
   "pygments_lexer": "ipython2",
   "version": "2.7.6"
  }
 },
 "nbformat": 4,
 "nbformat_minor": 5
}
