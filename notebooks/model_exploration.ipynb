{
 "cells": [
  {
   "cell_type": "markdown",
   "source": [
    "# Model Exploration"
   ],
   "metadata": {
    "collapsed": false
   },
   "id": "855cbdfb6403c271"
  },
  {
   "cell_type": "code",
   "execution_count": 1,
   "outputs": [],
   "source": [
    "import os\n",
    "import pickle\n",
    "import warnings\n",
    "from pathlib import Path\n",
    "\n",
    "import numpy as np\n",
    "import pandas as pd\n",
    "from dotenv import load_dotenv\n",
    "from sklearn.preprocessing import StandardScaler\n",
    "\n",
    "from evaluation.experiment import Experiment\n",
    "from integrations.databricks.auth import setup_mlflow\n",
    "from models.config import *\n",
    "from models.setup import experiment_setup\n",
    "from utils.dataset import Dataset\n",
    "\n",
    "load_dotenv()\n",
    "\n",
    "setup_mlflow()\n",
    "mlflow_path = os.getenv('MLFLOW_MODEL_EXP')\n",
    "warnings.simplefilter(action='ignore', category=UserWarning)\n",
    "\n",
    "SEED = 42"
   ],
   "metadata": {
    "collapsed": false,
    "ExecuteTime": {
     "end_time": "2024-04-11T21:58:48.284235500Z",
     "start_time": "2024-04-11T21:58:43.657379500Z"
    }
   },
   "id": "409e2390f7b8e4d"
  },
  {
   "cell_type": "code",
   "execution_count": 2,
   "outputs": [],
   "source": [
    "DATA_PATH = Path(os.getenv('PROJECT_ROOT'), '.') / 'data'\n",
    "EXPERIMENT_PATH = Path(os.getenv('PROJECT_ROOT'), '.') / 'experiments'\n",
    "TRACK_DATASET_FILE = DATA_PATH / 'track_dataset_nk.pkl'\n",
    "\n",
    "with open(TRACK_DATASET_FILE, 'rb') as file:\n",
    "    track_dataset = pickle.load(file)"
   ],
   "metadata": {
    "collapsed": false,
    "ExecuteTime": {
     "end_time": "2024-04-11T21:58:48.314829200Z",
     "start_time": "2024-04-11T21:58:48.284235500Z"
    }
   },
   "id": "c491fde143eefbeb"
  },
  {
   "cell_type": "code",
   "execution_count": 3,
   "outputs": [],
   "source": [
    "def scale_numeric_data(train_array: np.ndarray, test_array: np.ndarray, feature_names: list, scaled_feature_names: list = None) -> tuple:\n",
    "    \n",
    "    scaler = StandardScaler()\n",
    "    train_df = pd.DataFrame(train_array, columns=feature_names)\n",
    "    test_df = pd.DataFrame(test_array, columns=feature_names)\n",
    "    \n",
    "    if scaled_feature_names is None:\n",
    "        scaled_feature_names = ['duration_ms', 'tempo', 'loudness']\n",
    "    \n",
    "    train_df[scaled_feature_names] = scaler.fit_transform(train_df[scaled_feature_names])\n",
    "    test_df[scaled_feature_names] = scaler.transform(test_df[scaled_feature_names])\n",
    "    \n",
    "    return train_df.to_numpy(), test_df.to_numpy()"
   ],
   "metadata": {
    "collapsed": false,
    "ExecuteTime": {
     "end_time": "2024-04-11T21:58:48.314829200Z",
     "start_time": "2024-04-11T21:58:48.293836900Z"
    }
   },
   "id": "bc9e1a1c2da2925f"
  },
  {
   "cell_type": "code",
   "execution_count": 4,
   "outputs": [],
   "source": [
    "def build_cv_experiments(n_splits: int, dataset: Dataset, random_state=SEED):\n",
    "    train_data, train_labels, _, test_data, test_labels, _ = dataset.split_data(cross_val=True, n_splits=n_splits, iterative=True, random_state=random_state, force_split=True)\n",
    "    \n",
    "    fold_experiments= []\n",
    "    for i in range(n_splits):\n",
    "        train_data[i], test_data[i] = scale_numeric_data(train_data[i], test_data[i], dataset.feature_names)    \n",
    "        fold_characteristics = dataset.get_dataset_characteristics(i)\n",
    "        fold_experiment = Experiment(train_data[i], train_labels[i], test_data[i], test_labels[i], fold_characteristics)\n",
    "        fold_experiments.append(fold_experiment)\n",
    "        \n",
    "    return fold_experiments"
   ],
   "metadata": {
    "collapsed": false,
    "ExecuteTime": {
     "end_time": "2024-04-11T21:58:48.315336500Z",
     "start_time": "2024-04-11T21:58:48.298995200Z"
    }
   },
   "id": "1110bb87922c697e"
  },
  {
   "cell_type": "code",
   "execution_count": 5,
   "outputs": [],
   "source": [
    "def run_cv_experiments(experiments, experiment_configs, model_names, tags, save_models, log_results):\n",
    "    for i, experiment in enumerate(experiments):\n",
    "        fold_names = [model_name + f'_{i + 1}' for model_name in model_names]\n",
    "        fold_tags = {model_name + f'_{i + 1}': tags[model_name] for model_name in model_names}\n",
    "        for model_name in fold_tags:\n",
    "            fold_tags[model_name]['Fold'] = f'{i+ 1} / {len(experiments)}'\n",
    "        \n",
    "        fold_models, fold_configs = experiment_setup(experiment_configs, fold_names)\n",
    "        experiment.run_experiment(fold_models, fold_configs, mlflow_path, fold_tags, save_models=save_models, log_results=log_results)"
   ],
   "metadata": {
    "collapsed": false,
    "ExecuteTime": {
     "end_time": "2024-04-11T21:58:48.327871300Z",
     "start_time": "2024-04-11T21:58:48.310120700Z"
    }
   },
   "id": "46628d91a8024cb"
  },
  {
   "cell_type": "code",
   "execution_count": 6,
   "outputs": [],
   "source": [
    "baseline_names = ['br_baseline', 'cc_baseline', 'lp_baseline']\n",
    "baseline_tags = {\n",
    "    name: {\n",
    "        'Comments': ['Baseline', 'Time signatures mapped to 4/4', 'No Keys'],\n",
    "        'Label Threshold': '10'\n",
    "    }\n",
    "    for name in baseline_names\n",
    "}"
   ],
   "metadata": {
    "collapsed": false,
    "ExecuteTime": {
     "end_time": "2024-04-11T21:17:31.341869Z",
     "start_time": "2024-04-11T21:17:31.226590900Z"
    }
   },
   "id": "da8b0f9d1c8506ba"
  },
  {
   "cell_type": "code",
   "execution_count": 6,
   "outputs": [],
   "source": [
    "N_SPLITS = 5"
   ],
   "metadata": {
    "collapsed": false,
    "ExecuteTime": {
     "end_time": "2024-04-11T21:58:48.422370Z",
     "start_time": "2024-04-11T21:58:48.310706600Z"
    }
   },
   "id": "6c0814cc5192ab4e"
  },
  {
   "cell_type": "code",
   "execution_count": 8,
   "outputs": [],
   "source": [
    "# baseline_experiments = build_cv_experiments(n_splits=N_SPLITS, dataset=track_dataset, random_state=SEED)"
   ],
   "metadata": {
    "collapsed": false,
    "ExecuteTime": {
     "end_time": "2024-04-02T20:33:09.841229300Z",
     "start_time": "2024-04-02T20:33:09.809459100Z"
    }
   },
   "id": "c362d22188de8609"
  },
  {
   "cell_type": "code",
   "execution_count": 9,
   "outputs": [],
   "source": [
    "# run_cv_experiments(baseline_experiments, baseline_experiment_configs, baseline_names, baseline_tags, save_models=True, log_results=True)"
   ],
   "metadata": {
    "collapsed": false,
    "ExecuteTime": {
     "end_time": "2024-04-02T20:33:09.841229300Z",
     "start_time": "2024-04-02T20:33:09.811288200Z"
    }
   },
   "id": "61ab029a7fb5bdef"
  },
  {
   "cell_type": "markdown",
   "source": [],
   "metadata": {
    "collapsed": false
   },
   "id": "5003440d09a522ec"
  },
  {
   "cell_type": "code",
   "execution_count": 7,
   "outputs": [],
   "source": [
    "def save_experiments(experiments, filename: str):\n",
    "    filename = filename + '.pkl' if filename[-4:] != '.pkl' else filename\n",
    "    with open(EXPERIMENT_PATH / filename, 'wb') as f:\n",
    "        pickle.dump(experiments, f)\n",
    "        \n",
    "def load_experiments(name: str):\n",
    "    filename = name + '.pkl' if name[-4:] != '.pkl' else name\n",
    "    with open(EXPERIMENT_PATH / filename, 'rb') as f:\n",
    "        experiments = pickle.load(f)\n",
    "    return experiments"
   ],
   "metadata": {
    "collapsed": false,
    "ExecuteTime": {
     "end_time": "2024-04-11T21:58:48.422370Z",
     "start_time": "2024-04-11T21:58:48.315336500Z"
    }
   },
   "id": "fe8eaabe21ded868"
  },
  {
   "cell_type": "code",
   "execution_count": 11,
   "outputs": [],
   "source": [
    "# save_experiments(baseline_experiments, 'baseline_experiments')\n",
    "baseline_experiments = load_experiments('baseline_experiments')"
   ],
   "metadata": {
    "collapsed": false,
    "ExecuteTime": {
     "end_time": "2024-04-02T20:33:10.120146500Z",
     "start_time": "2024-04-02T20:33:09.825320600Z"
    }
   },
   "id": "da420881b3540543"
  },
  {
   "cell_type": "code",
   "execution_count": 8,
   "outputs": [],
   "source": [
    "def average_cv_metrics(experiments, model_name_root):\n",
    "    sum_metrics = None\n",
    "    for i, experiment in enumerate(experiments):\n",
    "        fold_model_name = model_name_root + f'_{i + 1}'\n",
    "        fold_metrics = experiment.results[fold_model_name].metrics\n",
    "        if sum_metrics is None:\n",
    "            sum_metrics = fold_metrics.copy()\n",
    "        else:\n",
    "            for key in sum_metrics.keys():\n",
    "                sum_metrics[key] += fold_metrics[key]\n",
    "    \n",
    "    return {key: float(f'{value / len(experiments):.3f}') for key, value in sum_metrics.items()}"
   ],
   "metadata": {
    "collapsed": false,
    "ExecuteTime": {
     "end_time": "2024-04-11T21:58:48.422370Z",
     "start_time": "2024-04-11T21:58:48.327360500Z"
    }
   },
   "id": "64c9d61ed6781631"
  },
  {
   "cell_type": "code",
   "execution_count": 13,
   "outputs": [
    {
     "name": "stdout",
     "output_type": "stream",
     "text": [
      "{'weighted_jaccard': 0.177, 'hamming_loss': 0.052, 'precision_micro_avg': 0.717, 'recall_micro_avg': 0.203, 'f1_micro_avg': 0.316, 'precision_macro_avg': 0.406, 'recall_macro_avg': 0.145, 'f1_macro_avg': 0.19, 'precision_weighted_avg': 0.527, 'recall_weighted_avg': 0.203, 'f1_weighted_avg': 0.263, 'precision_samples_avg': 0.255, 'recall_samples_avg': 0.24, 'f1_samples_avg': 0.24}\n"
     ]
    }
   ],
   "source": [
    "print(average_cv_metrics(baseline_experiments, 'br_baseline'))"
   ],
   "metadata": {
    "collapsed": false,
    "ExecuteTime": {
     "end_time": "2024-04-02T20:33:10.150905600Z",
     "start_time": "2024-04-02T20:33:10.115774100Z"
    }
   },
   "id": "2f4378ae1d9888d4"
  },
  {
   "cell_type": "code",
   "execution_count": 14,
   "outputs": [
    {
     "name": "stdout",
     "output_type": "stream",
     "text": [
      "{'weighted_jaccard': 0.234, 'hamming_loss': 0.056, 'precision_micro_avg': 0.553, 'recall_micro_avg': 0.312, 'f1_micro_avg': 0.399, 'precision_macro_avg': 0.406, 'recall_macro_avg': 0.22, 'f1_macro_avg': 0.25, 'precision_weighted_avg': 0.512, 'recall_weighted_avg': 0.312, 'f1_weighted_avg': 0.344, 'precision_samples_avg': 0.407, 'recall_samples_avg': 0.35, 'f1_samples_avg': 0.364}\n"
     ]
    }
   ],
   "source": [
    "print(average_cv_metrics(baseline_experiments, 'cc_baseline'))"
   ],
   "metadata": {
    "collapsed": false,
    "ExecuteTime": {
     "end_time": "2024-04-02T20:33:10.150905600Z",
     "start_time": "2024-04-02T20:33:10.124260Z"
    }
   },
   "id": "7c9504e1e2cc488c"
  },
  {
   "cell_type": "code",
   "execution_count": 15,
   "outputs": [
    {
     "name": "stdout",
     "output_type": "stream",
     "text": [
      "{'weighted_jaccard': 0.303, 'hamming_loss': 0.055, 'precision_micro_avg': 0.548, 'recall_micro_avg': 0.412, 'f1_micro_avg': 0.47, 'precision_macro_avg': 0.433, 'recall_macro_avg': 0.316, 'f1_macro_avg': 0.34, 'precision_weighted_avg': 0.509, 'recall_weighted_avg': 0.412, 'f1_weighted_avg': 0.439, 'precision_samples_avg': 0.551, 'recall_samples_avg': 0.466, 'f1_samples_avg': 0.49}\n"
     ]
    }
   ],
   "source": [
    "print(average_cv_metrics(baseline_experiments, 'lp_baseline'))"
   ],
   "metadata": {
    "collapsed": false,
    "ExecuteTime": {
     "end_time": "2024-04-02T20:33:10.150905600Z",
     "start_time": "2024-04-02T20:33:10.127293800Z"
    }
   },
   "id": "28963f17298aa819"
  },
  {
   "cell_type": "code",
   "execution_count": 16,
   "outputs": [],
   "source": [
    "baseline_0_1_C_names = ['br_baseline_0_1_C', 'cc_baseline_0_1_C', 'lp_baseline_0_1_C']\n",
    "baseline_0_1_C_tags = {\n",
    "    name: {\n",
    "        'Comments': ['Baseline', 'Time signatures mapped to 4/4', 'No Keys'],\n",
    "        'Label Threshold': '10',\n",
    "        'C': '0.1'\n",
    "    }\n",
    "    for name in baseline_0_1_C_names\n",
    "}\n",
    "\n",
    "baseline_10_C_names = ['br_baseline_10_C', 'cc_baseline_10_C', 'lp_baseline_10_C']\n",
    "baseline_10_C_tags = {\n",
    "    name: {\n",
    "        'Comments': ['Baseline', 'Time signatures mapped to 4/4', 'No Keys'],\n",
    "        'Label Threshold': '10',\n",
    "        'C': '10'\n",
    "    }\n",
    "    for name in baseline_10_C_names\n",
    "}"
   ],
   "metadata": {
    "collapsed": false,
    "ExecuteTime": {
     "end_time": "2024-04-02T20:33:10.150905600Z",
     "start_time": "2024-04-02T20:33:10.140536100Z"
    }
   },
   "id": "e64c3194ce656a92"
  },
  {
   "cell_type": "code",
   "execution_count": 17,
   "outputs": [],
   "source": [
    "# baseline_0_1_C_experiments = build_cv_experiments(n_splits=N_SPLITS, dataset=track_dataset, random_state=SEED)\n",
    "# \n",
    "# baseline_10_C_experiments = build_cv_experiments(n_splits=N_SPLITS, dataset=track_dataset, random_state=SEED)"
   ],
   "metadata": {
    "collapsed": false,
    "ExecuteTime": {
     "end_time": "2024-04-02T20:33:10.155926100Z",
     "start_time": "2024-04-02T20:33:10.141042100Z"
    }
   },
   "id": "ff5dee2dfd7ae154"
  },
  {
   "cell_type": "code",
   "execution_count": 18,
   "outputs": [],
   "source": [
    "# run_cv_experiments(baseline_0_1_C_experiments, baseline_0_1_C_experiment_configs, baseline_0_1_C_names, baseline_0_1_C_tags, save_models=True, log_results=True)"
   ],
   "metadata": {
    "collapsed": false,
    "ExecuteTime": {
     "end_time": "2024-04-02T20:33:10.176456200Z",
     "start_time": "2024-04-02T20:33:10.147878500Z"
    }
   },
   "id": "212e307a3f2bacc4"
  },
  {
   "cell_type": "code",
   "execution_count": 19,
   "outputs": [],
   "source": [
    "# run_cv_experiments(baseline_10_C_experiments, baseline_10_C_experiment_configs, baseline_10_C_names, baseline_10_C_tags, save_models=True, log_results=True)"
   ],
   "metadata": {
    "collapsed": false,
    "ExecuteTime": {
     "end_time": "2024-04-02T20:33:10.363412200Z",
     "start_time": "2024-04-02T20:33:10.155417900Z"
    }
   },
   "id": "89585c7d225f93d1"
  },
  {
   "cell_type": "code",
   "execution_count": 20,
   "outputs": [],
   "source": [
    "# save_experiments(baseline_0_1_C_experiments, 'baseline_0_1_C_experiments')\n",
    "# save_experiments(baseline_10_C_experiments, 'baseline_10_C_experiments')\n",
    "\n",
    "baseline_0_1_C_experiments = load_experiments('baseline_0_1_C_experiments')\n",
    "baseline_10_C_experiments = load_experiments('baseline_10_C_experiments')"
   ],
   "metadata": {
    "collapsed": false,
    "ExecuteTime": {
     "end_time": "2024-04-02T20:33:10.427389Z",
     "start_time": "2024-04-02T20:33:10.155926100Z"
    }
   },
   "id": "f3283223ee49f3f7"
  },
  {
   "cell_type": "code",
   "execution_count": 21,
   "outputs": [
    {
     "name": "stdout",
     "output_type": "stream",
     "text": [
      "{'weighted_jaccard': 0.104, 'hamming_loss': 0.055, 'precision_micro_avg': 0.737, 'recall_micro_avg': 0.115, 'f1_micro_avg': 0.199, 'precision_macro_avg': 0.319, 'recall_macro_avg': 0.077, 'f1_macro_avg': 0.107, 'precision_weighted_avg': 0.472, 'recall_weighted_avg': 0.115, 'f1_weighted_avg': 0.16, 'precision_samples_avg': 0.148, 'recall_samples_avg': 0.141, 'f1_samples_avg': 0.14}\n"
     ]
    }
   ],
   "source": [
    "print(average_cv_metrics(baseline_0_1_C_experiments, 'br_baseline_0_1_C'))"
   ],
   "metadata": {
    "collapsed": false,
    "ExecuteTime": {
     "end_time": "2024-04-02T20:33:10.427389Z",
     "start_time": "2024-04-02T20:33:10.309813500Z"
    }
   },
   "id": "43e906e08c294bfe"
  },
  {
   "cell_type": "code",
   "execution_count": 22,
   "outputs": [
    {
     "name": "stdout",
     "output_type": "stream",
     "text": [
      "{'weighted_jaccard': 0.151, 'hamming_loss': 0.054, 'precision_micro_avg': 0.664, 'recall_micro_avg': 0.173, 'f1_micro_avg': 0.274, 'precision_macro_avg': 0.376, 'recall_macro_avg': 0.117, 'f1_macro_avg': 0.155, 'precision_weighted_avg': 0.527, 'recall_weighted_avg': 0.173, 'f1_weighted_avg': 0.231, 'precision_samples_avg': 0.23, 'recall_samples_avg': 0.203, 'f1_samples_avg': 0.21}\n"
     ]
    }
   ],
   "source": [
    "print(average_cv_metrics(baseline_0_1_C_experiments, 'cc_baseline_0_1_C'))"
   ],
   "metadata": {
    "collapsed": false,
    "ExecuteTime": {
     "end_time": "2024-04-02T20:33:10.427389Z",
     "start_time": "2024-04-02T20:33:10.310318300Z"
    }
   },
   "id": "38f4ef54d9a6573f"
  },
  {
   "cell_type": "code",
   "execution_count": 23,
   "outputs": [
    {
     "name": "stdout",
     "output_type": "stream",
     "text": [
      "{'weighted_jaccard': 0.259, 'hamming_loss': 0.058, 'precision_micro_avg': 0.509, 'recall_micro_avg': 0.375, 'f1_micro_avg': 0.432, 'precision_macro_avg': 0.347, 'recall_macro_avg': 0.259, 'f1_macro_avg': 0.27, 'precision_weighted_avg': 0.445, 'recall_weighted_avg': 0.375, 'f1_weighted_avg': 0.382, 'precision_samples_avg': 0.509, 'recall_samples_avg': 0.422, 'f1_samples_avg': 0.448}\n"
     ]
    }
   ],
   "source": [
    "print(average_cv_metrics(baseline_0_1_C_experiments, 'lp_baseline_0_1_C'))"
   ],
   "metadata": {
    "collapsed": false,
    "ExecuteTime": {
     "end_time": "2024-04-02T20:33:10.427389Z",
     "start_time": "2024-04-02T20:33:10.316282200Z"
    }
   },
   "id": "8db858ab9c9b3f70"
  },
  {
   "cell_type": "code",
   "execution_count": 24,
   "outputs": [
    {
     "name": "stdout",
     "output_type": "stream",
     "text": [
      "{'weighted_jaccard': 0.195, 'hamming_loss': 0.051, 'precision_micro_avg': 0.705, 'recall_micro_avg': 0.226, 'f1_micro_avg': 0.342, 'precision_macro_avg': 0.43, 'recall_macro_avg': 0.169, 'f1_macro_avg': 0.216, 'precision_weighted_avg': 0.543, 'recall_weighted_avg': 0.226, 'f1_weighted_avg': 0.287, 'precision_samples_avg': 0.281, 'recall_samples_avg': 0.265, 'f1_samples_avg': 0.264}\n"
     ]
    }
   ],
   "source": [
    "print(average_cv_metrics(baseline_10_C_experiments, 'br_baseline_10_C'))"
   ],
   "metadata": {
    "collapsed": false,
    "ExecuteTime": {
     "end_time": "2024-04-02T20:33:10.427389Z",
     "start_time": "2024-04-02T20:33:10.322906Z"
    }
   },
   "id": "dc32951bddec50ce"
  },
  {
   "cell_type": "code",
   "execution_count": 25,
   "outputs": [
    {
     "name": "stdout",
     "output_type": "stream",
     "text": [
      "{'weighted_jaccard': 0.245, 'hamming_loss': 0.063, 'precision_micro_avg': 0.456, 'recall_micro_avg': 0.343, 'f1_micro_avg': 0.391, 'precision_macro_avg': 0.387, 'recall_macro_avg': 0.27, 'f1_macro_avg': 0.266, 'precision_weighted_avg': 0.503, 'recall_weighted_avg': 0.343, 'f1_weighted_avg': 0.362, 'precision_samples_avg': 0.443, 'recall_samples_avg': 0.384, 'f1_samples_avg': 0.397}\n"
     ]
    }
   ],
   "source": [
    "print(average_cv_metrics(baseline_10_C_experiments, 'cc_baseline_10_C'))"
   ],
   "metadata": {
    "collapsed": false,
    "ExecuteTime": {
     "end_time": "2024-04-02T20:33:10.427389Z",
     "start_time": "2024-04-02T20:33:10.333530100Z"
    }
   },
   "id": "7c0554c20ab63fd"
  },
  {
   "cell_type": "code",
   "execution_count": 26,
   "outputs": [
    {
     "name": "stdout",
     "output_type": "stream",
     "text": [
      "{'weighted_jaccard': 0.315, 'hamming_loss': 0.054, 'precision_micro_avg': 0.553, 'recall_micro_avg': 0.425, 'f1_micro_avg': 0.481, 'precision_macro_avg': 0.438, 'recall_macro_avg': 0.342, 'f1_macro_avg': 0.368, 'precision_weighted_avg': 0.519, 'recall_weighted_avg': 0.425, 'f1_weighted_avg': 0.455, 'precision_samples_avg': 0.559, 'recall_samples_avg': 0.48, 'f1_samples_avg': 0.501}\n"
     ]
    }
   ],
   "source": [
    "print(average_cv_metrics(baseline_10_C_experiments, 'lp_baseline_10_C'))"
   ],
   "metadata": {
    "collapsed": false,
    "ExecuteTime": {
     "end_time": "2024-04-02T20:33:10.427389Z",
     "start_time": "2024-04-02T20:33:10.334037400Z"
    }
   },
   "id": "7956c0621ba31ead"
  },
  {
   "cell_type": "code",
   "execution_count": 27,
   "outputs": [],
   "source": [
    "baseline_100_C_names = ['br_baseline_100_C', 'cc_baseline_100_C', 'lp_baseline_100_C']\n",
    "baseline_100_C_tags = {\n",
    "    name: {\n",
    "        'Comments': ['Baseline', 'Time signatures mapped to 4/4', 'No Keys'],\n",
    "        'Label Threshold': '10',\n",
    "        'C': '100'\n",
    "    }\n",
    "    for name in baseline_100_C_names\n",
    "}"
   ],
   "metadata": {
    "collapsed": false,
    "ExecuteTime": {
     "end_time": "2024-04-02T20:33:10.427389Z",
     "start_time": "2024-04-02T20:33:10.345608100Z"
    }
   },
   "id": "7f27411edae37777"
  },
  {
   "cell_type": "code",
   "execution_count": 28,
   "outputs": [],
   "source": [
    "# baseline_100_C_experiments = build_cv_experiments(n_splits=N_SPLITS, dataset=track_dataset, random_state=SEED)"
   ],
   "metadata": {
    "collapsed": false,
    "ExecuteTime": {
     "end_time": "2024-04-02T20:33:10.427389Z",
     "start_time": "2024-04-02T20:33:10.350651300Z"
    }
   },
   "id": "959919b2be14b4be"
  },
  {
   "cell_type": "code",
   "execution_count": 29,
   "outputs": [],
   "source": [
    "# run_cv_experiments(baseline_100_C_experiments, baseline_100_C_experiment_configs, baseline_100_C_names, baseline_100_C_tags, save_models=True, log_results=True)"
   ],
   "metadata": {
    "collapsed": false,
    "ExecuteTime": {
     "end_time": "2024-04-02T20:33:10.427389Z",
     "start_time": "2024-04-02T20:33:10.355380600Z"
    }
   },
   "id": "4478ee23da9fb11a"
  },
  {
   "cell_type": "code",
   "execution_count": 30,
   "outputs": [],
   "source": [
    "# save_experiments(baseline_100_C_experiments, 'baseline_100_C_experiments')\n",
    "\n",
    "baseline_100_C_experiments = load_experiments('baseline_100_C_experiments')"
   ],
   "metadata": {
    "collapsed": false,
    "ExecuteTime": {
     "end_time": "2024-04-02T20:33:10.462823400Z",
     "start_time": "2024-04-02T20:33:10.357904400Z"
    }
   },
   "id": "e726edf0c94829df"
  },
  {
   "cell_type": "code",
   "execution_count": 31,
   "outputs": [
    {
     "name": "stdout",
     "output_type": "stream",
     "text": [
      "{'weighted_jaccard': 0.197, 'hamming_loss': 0.051, 'precision_micro_avg': 0.699, 'recall_micro_avg': 0.23, 'f1_micro_avg': 0.346, 'precision_macro_avg': 0.451, 'recall_macro_avg': 0.173, 'f1_macro_avg': 0.221, 'precision_weighted_avg': 0.557, 'recall_weighted_avg': 0.23, 'f1_weighted_avg': 0.291, 'precision_samples_avg': 0.285, 'recall_samples_avg': 0.269, 'f1_samples_avg': 0.267}\n"
     ]
    }
   ],
   "source": [
    "print(average_cv_metrics(baseline_100_C_experiments, 'br_baseline_100_C'))"
   ],
   "metadata": {
    "collapsed": false,
    "ExecuteTime": {
     "end_time": "2024-04-02T20:33:10.462823400Z",
     "start_time": "2024-04-02T20:33:10.380845800Z"
    }
   },
   "id": "33d90d0eac45aa91"
  },
  {
   "cell_type": "code",
   "execution_count": 32,
   "outputs": [
    {
     "name": "stdout",
     "output_type": "stream",
     "text": [
      "{'weighted_jaccard': 0.247, 'hamming_loss': 0.064, 'precision_micro_avg': 0.448, 'recall_micro_avg': 0.346, 'f1_micro_avg': 0.39, 'precision_macro_avg': 0.384, 'recall_macro_avg': 0.278, 'f1_macro_avg': 0.266, 'precision_weighted_avg': 0.504, 'recall_weighted_avg': 0.346, 'f1_weighted_avg': 0.364, 'precision_samples_avg': 0.445, 'recall_samples_avg': 0.386, 'f1_samples_avg': 0.4}\n"
     ]
    }
   ],
   "source": [
    "print(average_cv_metrics(baseline_100_C_experiments, 'cc_baseline_100_C'))"
   ],
   "metadata": {
    "collapsed": false,
    "ExecuteTime": {
     "end_time": "2024-04-02T20:33:10.647432500Z",
     "start_time": "2024-04-02T20:33:10.387257400Z"
    }
   },
   "id": "7300646557990618"
  },
  {
   "cell_type": "code",
   "execution_count": 33,
   "outputs": [
    {
     "name": "stdout",
     "output_type": "stream",
     "text": [
      "{'weighted_jaccard': 0.318, 'hamming_loss': 0.054, 'precision_micro_avg': 0.55, 'recall_micro_avg': 0.429, 'f1_micro_avg': 0.482, 'precision_macro_avg': 0.44, 'recall_macro_avg': 0.348, 'f1_macro_avg': 0.373, 'precision_weighted_avg': 0.523, 'recall_weighted_avg': 0.429, 'f1_weighted_avg': 0.459, 'precision_samples_avg': 0.558, 'recall_samples_avg': 0.482, 'f1_samples_avg': 0.502}\n"
     ]
    }
   ],
   "source": [
    "print(average_cv_metrics(baseline_100_C_experiments, 'lp_baseline_100_C'))"
   ],
   "metadata": {
    "collapsed": false,
    "ExecuteTime": {
     "end_time": "2024-04-02T20:33:10.663058200Z",
     "start_time": "2024-04-02T20:33:10.395490800Z"
    }
   },
   "id": "d4bd941797190a28"
  },
  {
   "cell_type": "code",
   "execution_count": 34,
   "outputs": [],
   "source": [
    "baseline_saga_10_C_names = ['br_baseline_saga_10_C', 'cc_baseline_saga_10_C', 'lp_baseline_saga_10_C']\n",
    "baseline_saga_10_C_tags = {\n",
    "    name: {\n",
    "        'Comments': ['Baseline', 'Time signatures mapped to 4/4', 'No Keys'],\n",
    "        'Label Threshold': '10',\n",
    "        'C': '10',\n",
    "        'solver': 'saga'\n",
    "    }\n",
    "    for name in baseline_saga_10_C_names\n",
    "}"
   ],
   "metadata": {
    "collapsed": false,
    "ExecuteTime": {
     "end_time": "2024-04-02T20:33:10.663058200Z",
     "start_time": "2024-04-02T20:33:10.399505Z"
    }
   },
   "id": "ce5db446d28515c4"
  },
  {
   "cell_type": "code",
   "execution_count": 35,
   "outputs": [],
   "source": [
    "# baseline_saga_10_C_experiments = build_cv_experiments(n_splits=N_SPLITS, dataset=track_dataset, random_state=SEED)"
   ],
   "metadata": {
    "collapsed": false,
    "ExecuteTime": {
     "end_time": "2024-04-02T20:33:10.663058200Z",
     "start_time": "2024-04-02T20:33:10.405946700Z"
    }
   },
   "id": "fef930478a77fa45"
  },
  {
   "cell_type": "code",
   "execution_count": 36,
   "outputs": [],
   "source": [
    "# run_cv_experiments(baseline_saga_10_C_experiments, baseline_saga_10_C_experiment_configs, baseline_saga_10_C_names, baseline_saga_10_C_tags, save_models=True, log_results=True)"
   ],
   "metadata": {
    "collapsed": false,
    "ExecuteTime": {
     "end_time": "2024-04-02T20:33:10.663058200Z",
     "start_time": "2024-04-02T20:33:10.411568600Z"
    }
   },
   "id": "56fa01740a44177b"
  },
  {
   "cell_type": "code",
   "execution_count": 9,
   "outputs": [],
   "source": [
    "# save_experiments(baseline_saga_10_C_experiments, 'baseline_saga_10_C_experiments')\n",
    "\n",
    "baseline_saga_10_C_experiments = load_experiments('baseline_saga_10_C_experiments')"
   ],
   "metadata": {
    "collapsed": false,
    "ExecuteTime": {
     "end_time": "2024-04-02T23:40:03.439751Z",
     "start_time": "2024-04-02T23:40:03.154825700Z"
    }
   },
   "id": "c45805600b527307"
  },
  {
   "cell_type": "code",
   "execution_count": 10,
   "outputs": [
    {
     "name": "stdout",
     "output_type": "stream",
     "text": [
      "{'weighted_jaccard': 0.195, 'hamming_loss': 0.051, 'precision_micro_avg': 0.703, 'recall_micro_avg': 0.227, 'f1_micro_avg': 0.343, 'precision_macro_avg': 0.43, 'recall_macro_avg': 0.168, 'f1_macro_avg': 0.215, 'precision_weighted_avg': 0.552, 'recall_weighted_avg': 0.227, 'f1_weighted_avg': 0.288, 'precision_samples_avg': 0.282, 'recall_samples_avg': 0.266, 'f1_samples_avg': 0.265}\n"
     ]
    }
   ],
   "source": [
    "print(average_cv_metrics(baseline_saga_10_C_experiments, 'br_baseline_saga_10_C'))"
   ],
   "metadata": {
    "collapsed": false,
    "ExecuteTime": {
     "end_time": "2024-04-02T23:40:03.850303400Z",
     "start_time": "2024-04-02T23:40:03.837306900Z"
    }
   },
   "id": "fe7b808a2a115960"
  },
  {
   "cell_type": "code",
   "execution_count": 11,
   "outputs": [
    {
     "name": "stdout",
     "output_type": "stream",
     "text": [
      "{'weighted_jaccard': 0.247, 'hamming_loss': 0.063, 'precision_micro_avg': 0.457, 'recall_micro_avg': 0.344, 'f1_micro_avg': 0.393, 'precision_macro_avg': 0.385, 'recall_macro_avg': 0.27, 'f1_macro_avg': 0.265, 'precision_weighted_avg': 0.506, 'recall_weighted_avg': 0.344, 'f1_weighted_avg': 0.364, 'precision_samples_avg': 0.444, 'recall_samples_avg': 0.385, 'f1_samples_avg': 0.399}\n"
     ]
    }
   ],
   "source": [
    "print(average_cv_metrics(baseline_saga_10_C_experiments, 'cc_baseline_saga_10_C'))"
   ],
   "metadata": {
    "collapsed": false,
    "ExecuteTime": {
     "end_time": "2024-04-02T23:40:03.992230600Z",
     "start_time": "2024-04-02T23:40:03.960565200Z"
    }
   },
   "id": "cd0d9163573960e2"
  },
  {
   "cell_type": "code",
   "execution_count": 12,
   "outputs": [
    {
     "name": "stdout",
     "output_type": "stream",
     "text": [
      "{'weighted_jaccard': 0.317, 'hamming_loss': 0.054, 'precision_micro_avg': 0.555, 'recall_micro_avg': 0.426, 'f1_micro_avg': 0.482, 'precision_macro_avg': 0.445, 'recall_macro_avg': 0.342, 'f1_macro_avg': 0.369, 'precision_weighted_avg': 0.523, 'recall_weighted_avg': 0.426, 'f1_weighted_avg': 0.457, 'precision_samples_avg': 0.56, 'recall_samples_avg': 0.48, 'f1_samples_avg': 0.502}\n"
     ]
    }
   ],
   "source": [
    "print(average_cv_metrics(baseline_saga_10_C_experiments, 'lp_baseline_saga_10_C'))"
   ],
   "metadata": {
    "collapsed": false,
    "ExecuteTime": {
     "end_time": "2024-04-02T23:40:04.948008800Z",
     "start_time": "2024-04-02T23:40:04.900210200Z"
    }
   },
   "id": "b900c870313cfc39"
  },
  {
   "cell_type": "code",
   "execution_count": 36,
   "outputs": [],
   "source": [
    "baseline_linearsvc_names = ['br_baseline_linearsvc', 'cc_baseline_linearsvc', 'lp_baseline_linearsvc']\n",
    "baseline_linearsvc_tags = {\n",
    "    name: {\n",
    "        'Comments': ['Baseline', 'Time signatures mapped to 4/4', 'No Keys'],\n",
    "        'Label Threshold': '10'\n",
    "    }\n",
    "    for name in baseline_linearsvc_names\n",
    "}\n",
    "\n",
    "baseline_random_forest_names = ['br_baseline_random_forest', 'cc_baseline_random_forest', 'lp_baseline_random_forest']\n",
    "baseline_random_forest_tags = {\n",
    "    name: {\n",
    "        'Comments': ['Baseline', 'Time signatures mapped to 4/4', 'No Keys'],\n",
    "        'Label Threshold': '10',\n",
    "    }\n",
    "    for name in baseline_random_forest_names\n",
    "}\n",
    "\n",
    "baseline_gradient_boost_names = ['br_baseline_gradient_boost', 'cc_baseline_gradient_boost', 'lp_baseline_gradient_boost']\n",
    "baseline_gradient_boost_tags = {\n",
    "    name: {\n",
    "        'Comments': ['Baseline', 'Time signatures mapped to 4/4', 'No Keys'],\n",
    "        'Label Threshold': '10',\n",
    "    }\n",
    "    for name in baseline_gradient_boost_names\n",
    "}"
   ],
   "metadata": {
    "collapsed": false,
    "ExecuteTime": {
     "end_time": "2024-04-02T23:58:21.734874500Z",
     "start_time": "2024-04-02T23:58:21.671394100Z"
    }
   },
   "id": "11eaffb9973721de"
  },
  {
   "cell_type": "code",
   "execution_count": 44,
   "outputs": [],
   "source": [
    "# baseline_linearsvc_experiments = build_cv_experiments(n_splits=N_SPLITS, dataset=track_dataset, random_state=SEED)\n",
    "# baseline_random_forest_experiments = build_cv_experiments(n_splits=N_SPLITS, dataset=track_dataset, random_state=SEED)\n",
    "# baseline_gradient_boost_experiments = build_cv_experiments(n_splits=N_SPLITS, dataset=track_dataset, random_state=SEED)"
   ],
   "metadata": {
    "collapsed": false,
    "ExecuteTime": {
     "end_time": "2024-04-03T19:36:46.561565600Z",
     "start_time": "2024-04-03T19:36:46.532823100Z"
    }
   },
   "id": "e236b87d381c3ceb"
  },
  {
   "cell_type": "code",
   "execution_count": 43,
   "outputs": [],
   "source": [
    "# run_cv_experiments(baseline_linearsvc_experiments, baseline_linearsvc_experiment_configs, baseline_linearsvc_names, baseline_linearsvc_tags, save_models=True, log_results=True)"
   ],
   "metadata": {
    "collapsed": false,
    "ExecuteTime": {
     "end_time": "2024-04-02T20:33:10.915145100Z",
     "start_time": "2024-04-02T20:33:10.479904600Z"
    }
   },
   "id": "a30b89452295e660"
  },
  {
   "cell_type": "code",
   "execution_count": 44,
   "outputs": [],
   "source": [
    "# run_cv_experiments(baseline_random_forest_experiments, baseline_random_forest_experiment_configs, baseline_random_forest_names, baseline_random_forest_tags, save_models=False, log_results=True)"
   ],
   "metadata": {
    "collapsed": false,
    "ExecuteTime": {
     "end_time": "2024-04-02T20:33:10.915145100Z",
     "start_time": "2024-04-02T20:33:10.485131800Z"
    }
   },
   "id": "57555deb1187286d"
  },
  {
   "cell_type": "code",
   "execution_count": 45,
   "outputs": [],
   "source": [
    "# run_cv_experiments(baseline_gradient_boost_experiments, baseline_gradient_boost_experiment_configs, baseline_gradient_boost_names, baseline_gradient_boost_tags, save_models=False, log_results=True)"
   ],
   "metadata": {
    "collapsed": false,
    "ExecuteTime": {
     "end_time": "2024-04-02T20:33:10.915145100Z",
     "start_time": "2024-04-02T20:33:10.490176Z"
    }
   },
   "id": "7647844dbc06185a"
  },
  {
   "cell_type": "code",
   "execution_count": 43,
   "outputs": [],
   "source": [
    "# run_cv_experiments(baseline_gradient_boost_experiments, baseline_gradient_boost_experiment_configs, baseline_gradient_boost_names, baseline_gradient_boost_tags, save_models=False, log_results=True)"
   ],
   "metadata": {
    "collapsed": false,
    "ExecuteTime": {
     "end_time": "2024-04-03T19:36:43.761967300Z",
     "start_time": "2024-04-03T19:36:43.730318200Z"
    }
   },
   "id": "23f9476c7cb98ab2"
  },
  {
   "cell_type": "code",
   "execution_count": 41,
   "outputs": [],
   "source": [
    "# save_experiments(baseline_linearsvc_experiments, 'baseline_linearsvc_experiments')\n",
    "# save_experiments(baseline_random_forest_experiments, 'baseline_random_forest_experiments')\n",
    "# save_experiments(baseline_gradient_boost_experiments, 'baseline_gradient_boost_experiments')\n",
    "\n",
    "baseline_linearsvc_experiments = load_experiments('baseline_linearsvc_experiments')\n",
    "baseline_random_forest_experiments = load_experiments('baseline_random_forest_experiments')\n",
    "baseline_gradient_boost_experiments = load_experiments('baseline_gradient_boost_experiments')"
   ],
   "metadata": {
    "collapsed": false,
    "ExecuteTime": {
     "end_time": "2024-04-03T19:33:20.713962500Z",
     "start_time": "2024-04-03T19:33:16.648093700Z"
    }
   },
   "id": "7bddcd271ec9f2ca"
  },
  {
   "cell_type": "code",
   "execution_count": 47,
   "outputs": [
    {
     "name": "stdout",
     "output_type": "stream",
     "text": [
      "{'weighted_jaccard': 0.157, 'hamming_loss': 0.052, 'precision_micro_avg': 0.749, 'recall_micro_avg': 0.179, 'f1_micro_avg': 0.289, 'precision_macro_avg': 0.322, 'recall_macro_avg': 0.124, 'f1_macro_avg': 0.161, 'precision_weighted_avg': 0.466, 'recall_weighted_avg': 0.179, 'f1_weighted_avg': 0.23, 'precision_samples_avg': 0.232, 'recall_samples_avg': 0.215, 'f1_samples_avg': 0.218}\n"
     ]
    }
   ],
   "source": [
    "print(average_cv_metrics(baseline_linearsvc_experiments, 'br_baseline_linearsvc'))"
   ],
   "metadata": {
    "collapsed": false,
    "ExecuteTime": {
     "end_time": "2024-04-02T20:33:50.818580200Z",
     "start_time": "2024-04-02T20:33:50.676005600Z"
    }
   },
   "id": "79426bdfd79cdaac"
  },
  {
   "cell_type": "code",
   "execution_count": 48,
   "outputs": [
    {
     "name": "stdout",
     "output_type": "stream",
     "text": [
      "{'weighted_jaccard': 0.209, 'hamming_loss': 0.067, 'precision_micro_avg': 0.408, 'recall_micro_avg': 0.305, 'f1_micro_avg': 0.349, 'precision_macro_avg': 0.301, 'recall_macro_avg': 0.241, 'f1_macro_avg': 0.212, 'precision_weighted_avg': 0.457, 'recall_weighted_avg': 0.305, 'f1_weighted_avg': 0.308, 'precision_samples_avg': 0.406, 'recall_samples_avg': 0.345, 'f1_samples_avg': 0.361}\n"
     ]
    }
   ],
   "source": [
    "print(average_cv_metrics(baseline_linearsvc_experiments, 'cc_baseline_linearsvc'))"
   ],
   "metadata": {
    "collapsed": false,
    "ExecuteTime": {
     "end_time": "2024-04-02T20:33:50.851246400Z",
     "start_time": "2024-04-02T20:33:50.717268200Z"
    }
   },
   "id": "36dc37329854849f"
  },
  {
   "cell_type": "code",
   "execution_count": 49,
   "outputs": [
    {
     "name": "stdout",
     "output_type": "stream",
     "text": [
      "{'weighted_jaccard': 0.275, 'hamming_loss': 0.057, 'precision_micro_avg': 0.527, 'recall_micro_avg': 0.39, 'f1_micro_avg': 0.449, 'precision_macro_avg': 0.361, 'recall_macro_avg': 0.287, 'f1_macro_avg': 0.29, 'precision_weighted_avg': 0.47, 'recall_weighted_avg': 0.39, 'f1_weighted_avg': 0.4, 'precision_samples_avg': 0.529, 'recall_samples_avg': 0.442, 'f1_samples_avg': 0.468}\n"
     ]
    }
   ],
   "source": [
    "print(average_cv_metrics(baseline_linearsvc_experiments, 'lp_baseline_linearsvc'))"
   ],
   "metadata": {
    "collapsed": false,
    "ExecuteTime": {
     "end_time": "2024-04-02T20:33:50.851246400Z",
     "start_time": "2024-04-02T20:33:50.755324400Z"
    }
   },
   "id": "886c887bea19c65c"
  },
  {
   "cell_type": "code",
   "execution_count": 50,
   "outputs": [
    {
     "name": "stdout",
     "output_type": "stream",
     "text": [
      "{'weighted_jaccard': 0.306, 'hamming_loss': 0.044, 'precision_micro_avg': 0.802, 'recall_micro_avg': 0.339, 'f1_micro_avg': 0.476, 'precision_macro_avg': 0.717, 'recall_macro_avg': 0.241, 'f1_macro_avg': 0.323, 'precision_weighted_avg': 0.781, 'recall_weighted_avg': 0.339, 'f1_weighted_avg': 0.438, 'precision_samples_avg': 0.425, 'recall_samples_avg': 0.379, 'f1_samples_avg': 0.391}\n"
     ]
    }
   ],
   "source": [
    "print(average_cv_metrics(baseline_random_forest_experiments, 'br_baseline_random_forest'))"
   ],
   "metadata": {
    "collapsed": false,
    "ExecuteTime": {
     "end_time": "2024-04-02T20:33:51.103485900Z",
     "start_time": "2024-04-02T20:33:50.818580200Z"
    }
   },
   "id": "5dba54132729a19b"
  },
  {
   "cell_type": "code",
   "execution_count": 51,
   "outputs": [
    {
     "name": "stdout",
     "output_type": "stream",
     "text": [
      "{'weighted_jaccard': 0.327, 'hamming_loss': 0.045, 'precision_micro_avg': 0.743, 'recall_micro_avg': 0.375, 'f1_micro_avg': 0.499, 'precision_macro_avg': 0.68, 'recall_macro_avg': 0.263, 'f1_macro_avg': 0.34, 'precision_weighted_avg': 0.728, 'recall_weighted_avg': 0.375, 'f1_weighted_avg': 0.465, 'precision_samples_avg': 0.476, 'recall_samples_avg': 0.418, 'f1_samples_avg': 0.434}\n"
     ]
    }
   ],
   "source": [
    "print(average_cv_metrics(baseline_random_forest_experiments, 'cc_baseline_random_forest'))"
   ],
   "metadata": {
    "collapsed": false,
    "ExecuteTime": {
     "end_time": "2024-04-02T20:33:51.135303100Z",
     "start_time": "2024-04-02T20:33:50.883874800Z"
    }
   },
   "id": "9d1fde18f80fa544"
  },
  {
   "cell_type": "code",
   "execution_count": 52,
   "outputs": [
    {
     "name": "stdout",
     "output_type": "stream",
     "text": [
      "{'weighted_jaccard': 0.375, 'hamming_loss': 0.048, 'precision_micro_avg': 0.614, 'recall_micro_avg': 0.491, 'f1_micro_avg': 0.545, 'precision_macro_avg': 0.559, 'recall_macro_avg': 0.408, 'f1_macro_avg': 0.448, 'precision_weighted_avg': 0.603, 'recall_weighted_avg': 0.491, 'f1_weighted_avg': 0.527, 'precision_samples_avg': 0.613, 'recall_samples_avg': 0.544, 'f1_samples_avg': 0.561}\n"
     ]
    }
   ],
   "source": [
    "print(average_cv_metrics(baseline_random_forest_experiments, 'lp_baseline_random_forest'))"
   ],
   "metadata": {
    "collapsed": false,
    "ExecuteTime": {
     "end_time": "2024-04-02T20:33:51.150843900Z",
     "start_time": "2024-04-02T20:33:50.917556300Z"
    }
   },
   "id": "301d613bbb0d7bd0"
  },
  {
   "cell_type": "code",
   "execution_count": 51,
   "outputs": [
    {
     "name": "stdout",
     "output_type": "stream",
     "text": [
      "{'weighted_jaccard': 0.295, 'hamming_loss': 0.047, 'precision_micro_avg': 0.712, 'recall_micro_avg': 0.341, 'f1_micro_avg': 0.461, 'precision_macro_avg': 0.566, 'recall_macro_avg': 0.268, 'f1_macro_avg': 0.337, 'precision_weighted_avg': 0.661, 'recall_weighted_avg': 0.341, 'f1_weighted_avg': 0.424, 'precision_samples_avg': 0.427, 'recall_samples_avg': 0.389, 'f1_samples_avg': 0.394}\n"
     ]
    }
   ],
   "source": [
    "print(average_cv_metrics(baseline_gradient_boost_experiments, 'br_baseline_gradient_boost'))"
   ],
   "metadata": {
    "collapsed": false,
    "ExecuteTime": {
     "end_time": "2024-04-03T20:10:27.785575100Z",
     "start_time": "2024-04-03T20:10:27.722871100Z"
    }
   },
   "id": "5ea0bad27916da98"
  },
  {
   "cell_type": "code",
   "execution_count": 52,
   "outputs": [
    {
     "name": "stdout",
     "output_type": "stream",
     "text": [
      "{'weighted_jaccard': 0.313, 'hamming_loss': 0.048, 'precision_micro_avg': 0.668, 'recall_micro_avg': 0.374, 'f1_micro_avg': 0.479, 'precision_macro_avg': 0.533, 'recall_macro_avg': 0.287, 'f1_macro_avg': 0.35, 'precision_weighted_avg': 0.627, 'recall_weighted_avg': 0.374, 'f1_weighted_avg': 0.45, 'precision_samples_avg': 0.473, 'recall_samples_avg': 0.423, 'f1_samples_avg': 0.433}\n"
     ]
    }
   ],
   "source": [
    "print(average_cv_metrics(baseline_gradient_boost_experiments, 'cc_baseline_gradient_boost'))"
   ],
   "metadata": {
    "collapsed": false,
    "ExecuteTime": {
     "end_time": "2024-04-03T20:10:28.625175500Z",
     "start_time": "2024-04-03T20:10:28.584201400Z"
    }
   },
   "id": "c5961c4280d91ac6"
  },
  {
   "cell_type": "code",
   "execution_count": 53,
   "outputs": [
    {
     "name": "stdout",
     "output_type": "stream",
     "text": [
      "{'weighted_jaccard': 0.312, 'hamming_loss': 0.062, 'precision_micro_avg': 0.476, 'recall_micro_avg': 0.447, 'f1_micro_avg': 0.461, 'precision_macro_avg': 0.4, 'recall_macro_avg': 0.365, 'f1_macro_avg': 0.376, 'precision_weighted_avg': 0.476, 'recall_weighted_avg': 0.447, 'f1_weighted_avg': 0.458, 'precision_samples_avg': 0.532, 'recall_samples_avg': 0.492, 'f1_samples_avg': 0.493}\n"
     ]
    }
   ],
   "source": [
    "print(average_cv_metrics(baseline_gradient_boost_experiments, 'lp_baseline_gradient_boost'))"
   ],
   "metadata": {
    "collapsed": false,
    "ExecuteTime": {
     "end_time": "2024-04-03T20:10:33.296916800Z",
     "start_time": "2024-04-03T20:10:33.235574100Z"
    }
   },
   "id": "3824999086f2131a"
  },
  {
   "cell_type": "code",
   "execution_count": 9,
   "outputs": [],
   "source": [
    "baseline_rf_50_est_names = ['br_baseline_rf_50_est', 'cc_baseline_rf_50_est', 'lp_baseline_rf_50_est']\n",
    "baseline_rf_50_est_tags = {\n",
    "    name: {\n",
    "        'Comments': ['Baseline', 'Time signatures mapped to 4/4', 'No Keys'],\n",
    "        'Label Threshold': '10',\n",
    "        'n_estimators': '50'\n",
    "    }\n",
    "    for name in baseline_rf_50_est_names\n",
    "}\n",
    "\n",
    "baseline_rf_15_depth_names = ['br_baseline_rf_15_depth', 'cc_baseline_rf_15_depth', 'lp_baseline_rf_15_depth']\n",
    "baseline_rf_15_depth_tags = {\n",
    "    name: {\n",
    "        'Comments': ['Baseline', 'Time signatures mapped to 4/4', 'No Keys'],\n",
    "        'Label Threshold': '10',\n",
    "        'max_depth': '15'\n",
    "    }\n",
    "    for name in baseline_rf_15_depth_names\n",
    "}\n",
    "\n",
    "baseline_rf_50_est_15_depth_names = ['br_baseline_rf_50_est_15_depth', 'cc_baseline_rf_50_est_15_depth', 'lp_baseline_rf_50_est_15_depth']\n",
    "baseline_rf_50_est_15_depth_tags = {\n",
    "    name: {\n",
    "        'Comments': ['Baseline', 'Time signatures mapped to 4/4', 'No Keys'],\n",
    "        'Label Threshold': '10',\n",
    "        'n_estimators': '50',\n",
    "        'max_depth': '15'\n",
    "    }\n",
    "    for name in baseline_rf_50_est_15_depth_names\n",
    "}"
   ],
   "metadata": {
    "collapsed": false,
    "ExecuteTime": {
     "end_time": "2024-04-02T22:13:57.091782200Z",
     "start_time": "2024-04-02T22:13:57.075851600Z"
    }
   },
   "id": "3d305688aba4694"
  },
  {
   "cell_type": "code",
   "execution_count": 13,
   "outputs": [],
   "source": [
    "# baseline_rf_50_est_experiments = build_cv_experiments(n_splits=N_SPLITS, dataset=track_dataset, random_state=SEED)\n",
    "# baseline_rf_15_depth_experiments = build_cv_experiments(n_splits=N_SPLITS, dataset=track_dataset, random_state=SEED)\n",
    "# baseline_rf_50_est_15_depth_experiments = build_cv_experiments(n_splits=N_SPLITS, dataset=track_dataset, random_state=SEED)"
   ],
   "metadata": {
    "collapsed": false,
    "ExecuteTime": {
     "end_time": "2024-04-02T23:40:16.312609600Z",
     "start_time": "2024-04-02T23:40:16.297088700Z"
    }
   },
   "id": "c2010beef725fa5f"
  },
  {
   "cell_type": "code",
   "execution_count": 14,
   "outputs": [],
   "source": [
    "# run_cv_experiments(baseline_rf_50_est_experiments, baseline_rf_50_est_experiment_configs, baseline_rf_50_est_names, baseline_rf_50_est_tags, save_models=False, log_results=True)"
   ],
   "metadata": {
    "collapsed": false,
    "ExecuteTime": {
     "end_time": "2024-04-02T23:40:16.771477200Z",
     "start_time": "2024-04-02T23:40:16.738311500Z"
    }
   },
   "id": "c0d0781db363e4b0"
  },
  {
   "cell_type": "code",
   "execution_count": 15,
   "outputs": [],
   "source": [
    "# run_cv_experiments(baseline_rf_15_depth_experiments, baseline_rf_15_depth_experiment_configs, baseline_rf_15_depth_names, baseline_rf_15_depth_tags, save_models=False, log_results=True)"
   ],
   "metadata": {
    "collapsed": false,
    "ExecuteTime": {
     "end_time": "2024-04-02T23:40:17.531095900Z",
     "start_time": "2024-04-02T23:40:17.511439600Z"
    }
   },
   "id": "6361a5177858095"
  },
  {
   "cell_type": "code",
   "execution_count": 16,
   "outputs": [],
   "source": [
    "# run_cv_experiments(baseline_rf_50_est_15_depth_experiments, baseline_rf_50_est_15_depth_experiment_configs, baseline_rf_50_est_15_depth_names, baseline_rf_50_est_15_depth_tags, save_models=False, log_results=True)"
   ],
   "metadata": {
    "collapsed": false,
    "ExecuteTime": {
     "end_time": "2024-04-02T23:40:18.194867400Z",
     "start_time": "2024-04-02T23:40:18.163500600Z"
    }
   },
   "id": "79a5913fd851f6a2"
  },
  {
   "cell_type": "code",
   "execution_count": 14,
   "outputs": [],
   "source": [
    "# save_experiments(baseline_rf_50_est_experiments, 'baseline_rf_50_est_experiments')\n",
    "# save_experiments(baseline_rf_15_depth_experiments, 'baseline_rf_15_depth_experiments')\n",
    "# save_experiments(baseline_rf_50_est_15_depth_experiments, 'baseline_rf_50_est_15_depth_experiments')\n",
    "\n",
    "baseline_rf_50_est_experiments = load_experiments('baseline_rf_50_est_experiments')\n",
    "baseline_rf_15_depth_experiments = load_experiments('baseline_rf_15_depth_experiments')\n",
    "baseline_rf_50_est_15_depth_experiments = load_experiments('baseline_rf_50_est_15_depth_experiments')"
   ],
   "metadata": {
    "collapsed": false,
    "ExecuteTime": {
     "end_time": "2024-04-02T22:28:11.036769Z",
     "start_time": "2024-04-02T22:27:25.340581600Z"
    }
   },
   "id": "a8019e27be72842"
  },
  {
   "cell_type": "code",
   "execution_count": 16,
   "outputs": [
    {
     "name": "stdout",
     "output_type": "stream",
     "text": [
      "{'weighted_jaccard': 0.305, 'hamming_loss': 0.044, 'precision_micro_avg': 0.793, 'recall_micro_avg': 0.338, 'f1_micro_avg': 0.474, 'precision_macro_avg': 0.706, 'recall_macro_avg': 0.241, 'f1_macro_avg': 0.323, 'precision_weighted_avg': 0.77, 'recall_weighted_avg': 0.338, 'f1_weighted_avg': 0.437, 'precision_samples_avg': 0.424, 'recall_samples_avg': 0.378, 'f1_samples_avg': 0.39}\n"
     ]
    }
   ],
   "source": [
    "print(average_cv_metrics(baseline_rf_50_est_experiments, 'br_baseline_rf_50_est'))"
   ],
   "metadata": {
    "collapsed": false,
    "ExecuteTime": {
     "end_time": "2024-04-02T23:19:43.943592300Z",
     "start_time": "2024-04-02T23:19:43.933001300Z"
    }
   },
   "id": "61ebb42d8f390950"
  },
  {
   "cell_type": "code",
   "execution_count": 17,
   "outputs": [
    {
     "name": "stdout",
     "output_type": "stream",
     "text": [
      "{'weighted_jaccard': 0.327, 'hamming_loss': 0.045, 'precision_micro_avg': 0.742, 'recall_micro_avg': 0.375, 'f1_micro_avg': 0.498, 'precision_macro_avg': 0.657, 'recall_macro_avg': 0.26, 'f1_macro_avg': 0.336, 'precision_weighted_avg': 0.716, 'recall_weighted_avg': 0.375, 'f1_weighted_avg': 0.464, 'precision_samples_avg': 0.474, 'recall_samples_avg': 0.417, 'f1_samples_avg': 0.432}\n"
     ]
    }
   ],
   "source": [
    "print(average_cv_metrics(baseline_rf_50_est_experiments, 'cc_baseline_rf_50_est'))"
   ],
   "metadata": {
    "collapsed": false,
    "ExecuteTime": {
     "end_time": "2024-04-02T23:19:44.782004800Z",
     "start_time": "2024-04-02T23:19:44.726577600Z"
    }
   },
   "id": "c174e9da75819ac"
  },
  {
   "cell_type": "code",
   "execution_count": 18,
   "outputs": [
    {
     "name": "stdout",
     "output_type": "stream",
     "text": [
      "{'weighted_jaccard': 0.372, 'hamming_loss': 0.049, 'precision_micro_avg': 0.607, 'recall_micro_avg': 0.487, 'f1_micro_avg': 0.54, 'precision_macro_avg': 0.551, 'recall_macro_avg': 0.399, 'f1_macro_avg': 0.44, 'precision_weighted_avg': 0.595, 'recall_weighted_avg': 0.487, 'f1_weighted_avg': 0.523, 'precision_samples_avg': 0.607, 'recall_samples_avg': 0.54, 'f1_samples_avg': 0.557}\n"
     ]
    }
   ],
   "source": [
    "print(average_cv_metrics(baseline_rf_50_est_experiments, 'lp_baseline_rf_50_est'))"
   ],
   "metadata": {
    "collapsed": false,
    "ExecuteTime": {
     "end_time": "2024-04-02T23:19:45.156760300Z",
     "start_time": "2024-04-02T23:19:45.123843600Z"
    }
   },
   "id": "dbce63262b6ad16f"
  },
  {
   "cell_type": "code",
   "execution_count": 19,
   "outputs": [
    {
     "name": "stdout",
     "output_type": "stream",
     "text": [
      "{'weighted_jaccard': 0.296, 'hamming_loss': 0.045, 'precision_micro_avg': 0.795, 'recall_micro_avg': 0.328, 'f1_micro_avg': 0.464, 'precision_macro_avg': 0.674, 'recall_macro_avg': 0.232, 'f1_macro_avg': 0.308, 'precision_weighted_avg': 0.762, 'recall_weighted_avg': 0.328, 'f1_weighted_avg': 0.423, 'precision_samples_avg': 0.419, 'recall_samples_avg': 0.372, 'f1_samples_avg': 0.384}\n"
     ]
    }
   ],
   "source": [
    "print(average_cv_metrics(baseline_rf_15_depth_experiments, 'br_baseline_rf_15_depth'))"
   ],
   "metadata": {
    "collapsed": false,
    "ExecuteTime": {
     "end_time": "2024-04-02T23:19:45.532662100Z",
     "start_time": "2024-04-02T23:19:45.510750500Z"
    }
   },
   "id": "52a0b46a4fb04a88"
  },
  {
   "cell_type": "code",
   "execution_count": 20,
   "outputs": [
    {
     "name": "stdout",
     "output_type": "stream",
     "text": [
      "{'weighted_jaccard': 0.316, 'hamming_loss': 0.045, 'precision_micro_avg': 0.751, 'recall_micro_avg': 0.36, 'f1_micro_avg': 0.486, 'precision_macro_avg': 0.642, 'recall_macro_avg': 0.249, 'f1_macro_avg': 0.321, 'precision_weighted_avg': 0.714, 'recall_weighted_avg': 0.36, 'f1_weighted_avg': 0.449, 'precision_samples_avg': 0.465, 'recall_samples_avg': 0.405, 'f1_samples_avg': 0.421}\n"
     ]
    }
   ],
   "source": [
    "print(average_cv_metrics(baseline_rf_15_depth_experiments, 'cc_baseline_rf_15_depth'))"
   ],
   "metadata": {
    "collapsed": false,
    "ExecuteTime": {
     "end_time": "2024-04-02T23:19:45.933436Z",
     "start_time": "2024-04-02T23:19:45.901257400Z"
    }
   },
   "id": "dba2b0c422bbaa57"
  },
  {
   "cell_type": "code",
   "execution_count": 21,
   "outputs": [
    {
     "name": "stdout",
     "output_type": "stream",
     "text": [
      "{'weighted_jaccard': 0.366, 'hamming_loss': 0.049, 'precision_micro_avg': 0.613, 'recall_micro_avg': 0.478, 'f1_micro_avg': 0.537, 'precision_macro_avg': 0.566, 'recall_macro_avg': 0.391, 'f1_macro_avg': 0.432, 'precision_weighted_avg': 0.604, 'recall_weighted_avg': 0.478, 'f1_weighted_avg': 0.516, 'precision_samples_avg': 0.612, 'recall_samples_avg': 0.535, 'f1_samples_avg': 0.556}\n"
     ]
    }
   ],
   "source": [
    "print(average_cv_metrics(baseline_rf_15_depth_experiments, 'lp_baseline_rf_15_depth'))"
   ],
   "metadata": {
    "collapsed": false,
    "ExecuteTime": {
     "end_time": "2024-04-02T23:19:46.257594700Z",
     "start_time": "2024-04-02T23:19:46.235184100Z"
    }
   },
   "id": "1fe68b8a483bbf9e"
  },
  {
   "cell_type": "code",
   "execution_count": 22,
   "outputs": [
    {
     "name": "stdout",
     "output_type": "stream",
     "text": [
      "{'weighted_jaccard': 0.299, 'hamming_loss': 0.045, 'precision_micro_avg': 0.789, 'recall_micro_avg': 0.333, 'f1_micro_avg': 0.468, 'precision_macro_avg': 0.699, 'recall_macro_avg': 0.236, 'f1_macro_avg': 0.315, 'precision_weighted_avg': 0.763, 'recall_weighted_avg': 0.333, 'f1_weighted_avg': 0.428, 'precision_samples_avg': 0.424, 'recall_samples_avg': 0.376, 'f1_samples_avg': 0.388}\n"
     ]
    }
   ],
   "source": [
    "print(average_cv_metrics(baseline_rf_50_est_15_depth_experiments, 'br_baseline_rf_50_est_15_depth'))"
   ],
   "metadata": {
    "collapsed": false,
    "ExecuteTime": {
     "end_time": "2024-04-02T23:19:46.605492800Z",
     "start_time": "2024-04-02T23:19:46.540375800Z"
    }
   },
   "id": "ba5cfe7f724b5d29"
  },
  {
   "cell_type": "code",
   "execution_count": 23,
   "outputs": [
    {
     "name": "stdout",
     "output_type": "stream",
     "text": [
      "{'weighted_jaccard': 0.315, 'hamming_loss': 0.045, 'precision_micro_avg': 0.742, 'recall_micro_avg': 0.36, 'f1_micro_avg': 0.485, 'precision_macro_avg': 0.654, 'recall_macro_avg': 0.253, 'f1_macro_avg': 0.327, 'precision_weighted_avg': 0.712, 'recall_weighted_avg': 0.36, 'f1_weighted_avg': 0.449, 'precision_samples_avg': 0.464, 'recall_samples_avg': 0.406, 'f1_samples_avg': 0.421}\n"
     ]
    }
   ],
   "source": [
    "print(average_cv_metrics(baseline_rf_50_est_15_depth_experiments, 'cc_baseline_rf_50_est_15_depth'))"
   ],
   "metadata": {
    "collapsed": false,
    "ExecuteTime": {
     "end_time": "2024-04-02T23:19:47.340360800Z",
     "start_time": "2024-04-02T23:19:47.308992700Z"
    }
   },
   "id": "b5522dceb50505bc"
  },
  {
   "cell_type": "code",
   "execution_count": 24,
   "outputs": [
    {
     "name": "stdout",
     "output_type": "stream",
     "text": [
      "{'weighted_jaccard': 0.364, 'hamming_loss': 0.049, 'precision_micro_avg': 0.607, 'recall_micro_avg': 0.477, 'f1_micro_avg': 0.534, 'precision_macro_avg': 0.534, 'recall_macro_avg': 0.388, 'f1_macro_avg': 0.427, 'precision_weighted_avg': 0.595, 'recall_weighted_avg': 0.477, 'f1_weighted_avg': 0.514, 'precision_samples_avg': 0.606, 'recall_samples_avg': 0.531, 'f1_samples_avg': 0.551}\n"
     ]
    }
   ],
   "source": [
    "print(average_cv_metrics(baseline_rf_50_est_15_depth_experiments, 'lp_baseline_rf_50_est_15_depth'))"
   ],
   "metadata": {
    "collapsed": false,
    "ExecuteTime": {
     "end_time": "2024-04-02T23:19:47.950578800Z",
     "start_time": "2024-04-02T23:19:47.850043300Z"
    }
   },
   "id": "8646877619fb6512"
  },
  {
   "cell_type": "code",
   "execution_count": 17,
   "outputs": [],
   "source": [
    "baseline_rf_10_est_15_depth_names = ['br_baseline_rf_10_est_15_depth', 'cc_baseline_rf_10_est_15_depth', 'lp_baseline_rf_10_est_15_depth']\n",
    "baseline_rf_10_est_15_depth_tags = {\n",
    "    name: {\n",
    "        'Comments': ['Baseline', 'Time signatures mapped to 4/4', 'No Keys'],\n",
    "        'Label Threshold': '10',\n",
    "        'n_estimators': '10',\n",
    "        'max_depth': '15'\n",
    "    }\n",
    "    for name in baseline_rf_10_est_15_depth_names\n",
    "}\n",
    "\n",
    "baseline_rf_50_est_10_depth_names = ['br_baseline_rf_50_est_10_depth', 'cc_baseline_rf_50_est_10_depth', 'lp_baseline_rf_50_est_10_depth']\n",
    "baseline_rf_50_est_10_depth_tags = {\n",
    "    name: {\n",
    "        'Comments': ['Baseline', 'Time signatures mapped to 4/4', 'No Keys'],\n",
    "        'Label Threshold': '10',\n",
    "        'n_estimators': '50',\n",
    "        'max_depth': '10'\n",
    "    }\n",
    "    for name in baseline_rf_50_est_10_depth_names\n",
    "}\n",
    "\n",
    "baseline_rf_10_est_10_depth_names = ['br_baseline_rf_10_est_10_depth', 'cc_baseline_rf_10_est_10_depth', 'lp_baseline_rf_10_est_10_depth']\n",
    "baseline_rf_10_est_10_depth_tags = {\n",
    "    name: {\n",
    "        'Comments': ['Baseline', 'Time signatures mapped to 4/4', 'No Keys'],\n",
    "        'Label Threshold': '10',\n",
    "        'n_estimators': '10',\n",
    "        'max_depth': '10'\n",
    "    }\n",
    "    for name in baseline_rf_10_est_10_depth_names\n",
    "}"
   ],
   "metadata": {
    "collapsed": false,
    "ExecuteTime": {
     "end_time": "2024-04-02T23:40:33.352240800Z",
     "start_time": "2024-04-02T23:40:33.331589700Z"
    }
   },
   "id": "6851ee9a5b9a4eb6"
  },
  {
   "cell_type": "code",
   "execution_count": 47,
   "outputs": [],
   "source": [
    "# baseline_rf_10_est_15_depth_experiments = build_cv_experiments(n_splits=N_SPLITS, dataset=track_dataset, random_state=SEED)\n",
    "# baseline_rf_50_est_10_depth_experiments = build_cv_experiments(n_splits=N_SPLITS, dataset=track_dataset, random_state=SEED)\n",
    "# baseline_rf_10_est_10_depth_experiments = build_cv_experiments(n_splits=N_SPLITS, dataset=track_dataset, random_state=SEED)"
   ],
   "metadata": {
    "collapsed": false,
    "ExecuteTime": {
     "end_time": "2024-04-03T19:37:08.390668500Z",
     "start_time": "2024-04-03T19:37:08.343319700Z"
    }
   },
   "id": "ce4ee3a4908edfd8"
  },
  {
   "cell_type": "code",
   "execution_count": 48,
   "outputs": [],
   "source": [
    "# run_cv_experiments(baseline_rf_10_est_15_depth_experiments, baseline_rf_10_est_15_depth_experiment_configs, baseline_rf_10_est_15_depth_names, baseline_rf_10_est_15_depth_tags, save_models=False, log_results=True)"
   ],
   "metadata": {
    "collapsed": false,
    "ExecuteTime": {
     "end_time": "2024-04-03T19:37:08.721920600Z",
     "start_time": "2024-04-03T19:37:08.658901800Z"
    }
   },
   "id": "d9c543abb816d075"
  },
  {
   "cell_type": "code",
   "execution_count": 49,
   "outputs": [],
   "source": [
    "# run_cv_experiments(baseline_rf_50_est_10_depth_experiments, baseline_rf_50_est_10_depth_experiment_configs, baseline_rf_50_est_10_depth_names, baseline_rf_50_est_10_depth_tags, save_models=False, log_results=True)"
   ],
   "metadata": {
    "collapsed": false,
    "ExecuteTime": {
     "end_time": "2024-04-03T19:37:09.651830500Z",
     "start_time": "2024-04-03T19:37:09.616090500Z"
    }
   },
   "id": "1510418f4a9631e3"
  },
  {
   "cell_type": "code",
   "execution_count": 50,
   "outputs": [],
   "source": [
    "# run_cv_experiments(baseline_rf_10_est_10_depth_experiments, baseline_rf_10_est_10_depth_experiment_configs, baseline_rf_10_est_10_depth_names, baseline_rf_10_est_10_depth_tags, save_models=False, log_results=True)"
   ],
   "metadata": {
    "collapsed": false,
    "ExecuteTime": {
     "end_time": "2024-04-03T19:37:10.377979700Z",
     "start_time": "2024-04-03T19:37:10.330358200Z"
    }
   },
   "id": "dd65681205a05f25"
  },
  {
   "cell_type": "code",
   "execution_count": 28,
   "outputs": [],
   "source": [
    "# save_experiments(baseline_rf_10_est_15_depth_experiments, 'baseline_rf_10_est_15_depth_experiments')\n",
    "# save_experiments(baseline_rf_50_est_10_depth_experiments, 'baseline_rf_50_est_10_depth_experiments')\n",
    "# save_experiments(baseline_rf_10_est_10_depth_experiments, 'baseline_rf_10_est_10_depth_experiments')\n",
    "\n",
    "baseline_rf_10_est_15_depth_experiments = load_experiments('baseline_rf_10_est_15_depth_experiments')\n",
    "baseline_rf_50_est_10_depth_experiments = load_experiments('baseline_rf_50_est_10_depth_experiments')\n",
    "baseline_rf_10_est_10_depth_experiments = load_experiments('baseline_rf_10_est_10_depth_experiments')"
   ],
   "metadata": {
    "collapsed": false,
    "ExecuteTime": {
     "end_time": "2024-04-02T23:45:53.246748100Z",
     "start_time": "2024-04-02T23:45:49.790022400Z"
    }
   },
   "id": "e46c9236e3e5663a"
  },
  {
   "cell_type": "code",
   "execution_count": 23,
   "outputs": [
    {
     "name": "stdout",
     "output_type": "stream",
     "text": [
      "{'weighted_jaccard': 0.29, 'hamming_loss': 0.047, 'precision_micro_avg': 0.718, 'recall_micro_avg': 0.332, 'f1_micro_avg': 0.454, 'precision_macro_avg': 0.635, 'recall_macro_avg': 0.235, 'f1_macro_avg': 0.313, 'precision_weighted_avg': 0.681, 'recall_weighted_avg': 0.332, 'f1_weighted_avg': 0.423, 'precision_samples_avg': 0.413, 'recall_samples_avg': 0.371, 'f1_samples_avg': 0.379}\n"
     ]
    }
   ],
   "source": [
    "print(average_cv_metrics(baseline_rf_10_est_15_depth_experiments, 'br_baseline_rf_10_est_15_depth'))"
   ],
   "metadata": {
    "collapsed": false,
    "ExecuteTime": {
     "end_time": "2024-04-02T23:45:26.922361200Z",
     "start_time": "2024-04-02T23:45:26.874954Z"
    }
   },
   "id": "c35fbe6f7c93b7d4"
  },
  {
   "cell_type": "code",
   "execution_count": 24,
   "outputs": [
    {
     "name": "stdout",
     "output_type": "stream",
     "text": [
      "{'weighted_jaccard': 0.304, 'hamming_loss': 0.048, 'precision_micro_avg': 0.685, 'recall_micro_avg': 0.357, 'f1_micro_avg': 0.469, 'precision_macro_avg': 0.633, 'recall_macro_avg': 0.256, 'f1_macro_avg': 0.332, 'precision_weighted_avg': 0.657, 'recall_weighted_avg': 0.357, 'f1_weighted_avg': 0.441, 'precision_samples_avg': 0.45, 'recall_samples_avg': 0.399, 'f1_samples_avg': 0.41}\n"
     ]
    }
   ],
   "source": [
    "print(average_cv_metrics(baseline_rf_10_est_15_depth_experiments, 'cc_baseline_rf_10_est_15_depth'))"
   ],
   "metadata": {
    "collapsed": false,
    "ExecuteTime": {
     "end_time": "2024-04-02T23:45:26.922361200Z",
     "start_time": "2024-04-02T23:45:26.878510200Z"
    }
   },
   "id": "6577a712b49a937f"
  },
  {
   "cell_type": "code",
   "execution_count": 25,
   "outputs": [
    {
     "name": "stdout",
     "output_type": "stream",
     "text": [
      "{'weighted_jaccard': 0.339, 'hamming_loss': 0.054, 'precision_micro_avg': 0.554, 'recall_micro_avg': 0.458, 'f1_micro_avg': 0.501, 'precision_macro_avg': 0.455, 'recall_macro_avg': 0.362, 'f1_macro_avg': 0.392, 'precision_weighted_avg': 0.536, 'recall_weighted_avg': 0.458, 'f1_weighted_avg': 0.487, 'precision_samples_avg': 0.563, 'recall_samples_avg': 0.504, 'f1_samples_avg': 0.517}\n"
     ]
    }
   ],
   "source": [
    "print(average_cv_metrics(baseline_rf_10_est_15_depth_experiments, 'lp_baseline_rf_10_est_15_depth'))"
   ],
   "metadata": {
    "collapsed": false,
    "ExecuteTime": {
     "end_time": "2024-04-02T23:45:26.922361200Z",
     "start_time": "2024-04-02T23:45:26.884767300Z"
    }
   },
   "id": "dd2f21d43fbf9759"
  },
  {
   "cell_type": "code",
   "execution_count": 30,
   "outputs": [
    {
     "name": "stdout",
     "output_type": "stream",
     "text": [
      "{'weighted_jaccard': 0.257, 'hamming_loss': 0.046, 'precision_micro_avg': 0.802, 'recall_micro_avg': 0.284, 'f1_micro_avg': 0.419, 'precision_macro_avg': 0.674, 'recall_macro_avg': 0.202, 'f1_macro_avg': 0.266, 'precision_weighted_avg': 0.753, 'recall_weighted_avg': 0.284, 'f1_weighted_avg': 0.366, 'precision_samples_avg': 0.371, 'recall_samples_avg': 0.33, 'f1_samples_avg': 0.341}\n"
     ]
    }
   ],
   "source": [
    "print(average_cv_metrics(baseline_rf_50_est_10_depth_experiments, 'br_baseline_rf_50_est_10_depth'))"
   ],
   "metadata": {
    "collapsed": false,
    "ExecuteTime": {
     "end_time": "2024-04-02T23:46:32.770231300Z",
     "start_time": "2024-04-02T23:46:32.705700700Z"
    }
   },
   "id": "eefbaeb25fea44ec"
  },
  {
   "cell_type": "code",
   "execution_count": 31,
   "outputs": [
    {
     "name": "stdout",
     "output_type": "stream",
     "text": [
      "{'weighted_jaccard': 0.26, 'hamming_loss': 0.047, 'precision_micro_avg': 0.787, 'recall_micro_avg': 0.289, 'f1_micro_avg': 0.422, 'precision_macro_avg': 0.641, 'recall_macro_avg': 0.203, 'f1_macro_avg': 0.268, 'precision_weighted_avg': 0.722, 'recall_weighted_avg': 0.289, 'f1_weighted_avg': 0.373, 'precision_samples_avg': 0.385, 'recall_samples_avg': 0.336, 'f1_samples_avg': 0.35}\n"
     ]
    }
   ],
   "source": [
    "print(average_cv_metrics(baseline_rf_50_est_10_depth_experiments, 'cc_baseline_rf_50_est_10_depth'))"
   ],
   "metadata": {
    "collapsed": false,
    "ExecuteTime": {
     "end_time": "2024-04-02T23:46:33.527395400Z",
     "start_time": "2024-04-02T23:46:33.452416Z"
    }
   },
   "id": "a44751e6fa3180a8"
  },
  {
   "cell_type": "code",
   "execution_count": 32,
   "outputs": [
    {
     "name": "stdout",
     "output_type": "stream",
     "text": [
      "{'weighted_jaccard': 0.327, 'hamming_loss': 0.052, 'precision_micro_avg': 0.58, 'recall_micro_avg': 0.437, 'f1_micro_avg': 0.498, 'precision_macro_avg': 0.514, 'recall_macro_avg': 0.331, 'f1_macro_avg': 0.363, 'precision_weighted_avg': 0.574, 'recall_weighted_avg': 0.437, 'f1_weighted_avg': 0.465, 'precision_samples_avg': 0.58, 'recall_samples_avg': 0.497, 'f1_samples_avg': 0.521}\n"
     ]
    }
   ],
   "source": [
    "print(average_cv_metrics(baseline_rf_50_est_10_depth_experiments, 'lp_baseline_rf_50_est_10_depth'))"
   ],
   "metadata": {
    "collapsed": false,
    "ExecuteTime": {
     "end_time": "2024-04-02T23:46:33.923638Z",
     "start_time": "2024-04-02T23:46:33.860032200Z"
    }
   },
   "id": "637fc47843b8f894"
  },
  {
   "cell_type": "code",
   "execution_count": 33,
   "outputs": [
    {
     "name": "stdout",
     "output_type": "stream",
     "text": [
      "{'weighted_jaccard': 0.262, 'hamming_loss': 0.047, 'precision_micro_avg': 0.754, 'recall_micro_avg': 0.296, 'f1_micro_avg': 0.425, 'precision_macro_avg': 0.665, 'recall_macro_avg': 0.216, 'f1_macro_avg': 0.287, 'precision_weighted_avg': 0.714, 'recall_weighted_avg': 0.296, 'f1_weighted_avg': 0.379, 'precision_samples_avg': 0.38, 'recall_samples_avg': 0.341, 'f1_samples_avg': 0.349}\n"
     ]
    }
   ],
   "source": [
    "print(average_cv_metrics(baseline_rf_10_est_10_depth_experiments, 'br_baseline_rf_10_est_10_depth'))"
   ],
   "metadata": {
    "collapsed": false,
    "ExecuteTime": {
     "end_time": "2024-04-02T23:46:34.617823Z",
     "start_time": "2024-04-02T23:46:34.552230700Z"
    }
   },
   "id": "21bb1ae45d9f95b5"
  },
  {
   "cell_type": "code",
   "execution_count": 34,
   "outputs": [
    {
     "name": "stdout",
     "output_type": "stream",
     "text": [
      "{'weighted_jaccard': 0.263, 'hamming_loss': 0.048, 'precision_micro_avg': 0.737, 'recall_micro_avg': 0.3, 'f1_micro_avg': 0.426, 'precision_macro_avg': 0.621, 'recall_macro_avg': 0.207, 'f1_macro_avg': 0.271, 'precision_weighted_avg': 0.686, 'recall_weighted_avg': 0.3, 'f1_weighted_avg': 0.381, 'precision_samples_avg': 0.393, 'recall_samples_avg': 0.342, 'f1_samples_avg': 0.356}\n"
     ]
    }
   ],
   "source": [
    "print(average_cv_metrics(baseline_rf_10_est_10_depth_experiments, 'cc_baseline_rf_10_est_10_depth'))"
   ],
   "metadata": {
    "collapsed": false,
    "ExecuteTime": {
     "end_time": "2024-04-02T23:46:34.973299100Z",
     "start_time": "2024-04-02T23:46:34.921899100Z"
    }
   },
   "id": "1e0f2fdda5dbe464"
  },
  {
   "cell_type": "code",
   "execution_count": 35,
   "outputs": [
    {
     "name": "stdout",
     "output_type": "stream",
     "text": [
      "{'weighted_jaccard': 0.315, 'hamming_loss': 0.054, 'precision_micro_avg': 0.552, 'recall_micro_avg': 0.426, 'f1_micro_avg': 0.481, 'precision_macro_avg': 0.472, 'recall_macro_avg': 0.325, 'f1_macro_avg': 0.355, 'precision_weighted_avg': 0.525, 'recall_weighted_avg': 0.426, 'f1_weighted_avg': 0.454, 'precision_samples_avg': 0.559, 'recall_samples_avg': 0.481, 'f1_samples_avg': 0.502}\n"
     ]
    }
   ],
   "source": [
    "print(average_cv_metrics(baseline_rf_10_est_10_depth_experiments, 'lp_baseline_rf_10_est_10_depth'))"
   ],
   "metadata": {
    "collapsed": false,
    "ExecuteTime": {
     "end_time": "2024-04-02T23:46:35.669361100Z",
     "start_time": "2024-04-02T23:46:35.543481700Z"
    }
   },
   "id": "51ef1f9945390a6b"
  },
  {
   "cell_type": "code",
   "execution_count": 21,
   "outputs": [],
   "source": [
    "baseline_gb_0_05_lr_200_est_names = ['br_baseline_gb_0_05_lr_200_est_depth', 'cc_baseline_gb_0_05_lr_200_est_depth', 'lp_baseline_gb_0_05_lr_200_est_depth']\n",
    "baseline_gb_0_05_lr_200_est_tags = {\n",
    "    name: {\n",
    "        'Comments': ['Baseline', 'Time signatures mapped to 4/4', 'No Keys'],\n",
    "        'Label Threshold': '10',\n",
    "        'learning_rate': '0.05',\n",
    "        'n_estimators': '200'\n",
    "    }\n",
    "    for name in baseline_gb_0_05_lr_200_est_names\n",
    "}\n",
    "\n",
    "baseline_gb_0_2_lr_50_est_names = ['br_baseline_gb_0_2_lr_50_est_depth', 'cc_baseline_gb_0_2_lr_50_est_depth', 'lp_baseline_gb_0_2_lr_50_est_depth']\n",
    "baseline_gb_0_2_lr_50_est_tags = {\n",
    "    name: {\n",
    "        'Comments': ['Baseline', 'Time signatures mapped to 4/4', 'No Keys'],\n",
    "        'Label Threshold': '10',\n",
    "        'learning_rate': '0.2',\n",
    "        'n_estimators': '50'\n",
    "    }\n",
    "    for name in baseline_gb_0_2_lr_50_est_names\n",
    "}"
   ],
   "metadata": {
    "collapsed": false,
    "ExecuteTime": {
     "end_time": "2024-04-05T20:31:55.232688700Z",
     "start_time": "2024-04-05T20:31:55.211442Z"
    }
   },
   "id": "9e86c665a2181785"
  },
  {
   "cell_type": "code",
   "execution_count": 9,
   "outputs": [],
   "source": [
    "# baseline_gb_0_05_lr_200_est_experiments = build_cv_experiments(n_splits=N_SPLITS, dataset=track_dataset, random_state=SEED)\n",
    "# baseline_gb_0_2_lr_50_est_experiments = build_cv_experiments(n_splits=N_SPLITS, dataset=track_dataset, random_state=SEED)"
   ],
   "metadata": {
    "collapsed": false,
    "ExecuteTime": {
     "end_time": "2024-04-10T20:17:40.483255700Z",
     "start_time": "2024-04-10T20:17:40.426776300Z"
    }
   },
   "id": "7e94db52592a556c"
  },
  {
   "cell_type": "code",
   "execution_count": 10,
   "outputs": [],
   "source": [
    "# run_cv_experiments(baseline_gb_0_05_lr_200_est_experiments, baseline_gb_0_05_lr_200_est_experiment_configs, baseline_gb_0_05_lr_200_est_names, baseline_gb_0_05_lr_200_est_tags, save_models=False, log_results=True)"
   ],
   "metadata": {
    "collapsed": false,
    "ExecuteTime": {
     "end_time": "2024-04-10T20:17:42.013304500Z",
     "start_time": "2024-04-10T20:17:41.954768100Z"
    }
   },
   "id": "adc0901fdaf18b7a"
  },
  {
   "cell_type": "code",
   "execution_count": 11,
   "outputs": [],
   "source": [
    "# run_cv_experiments(baseline_gb_0_2_lr_50_est_experiments, baseline_gb_0_2_lr_50_est_experiment_configs, baseline_gb_0_2_lr_50_est_names, baseline_gb_0_2_lr_50_est_tags, save_models=False, log_results=True)"
   ],
   "metadata": {
    "collapsed": false,
    "ExecuteTime": {
     "end_time": "2024-04-10T20:17:43.313941700Z",
     "start_time": "2024-04-10T20:17:43.248092600Z"
    }
   },
   "id": "a27374a524dc983"
  },
  {
   "cell_type": "code",
   "execution_count": 24,
   "outputs": [],
   "source": [
    "# save_experiments(baseline_gb_0_05_lr_200_est_experiments, 'baseline_gb_0_05_lr_200_est_experiments')\n",
    "# save_experiments(baseline_gb_0_2_lr_50_est_experiments, 'baseline_gb_0_2_lr_50_est_experiments')\n",
    "\n",
    "baseline_gb_0_05_lr_200_est_experiments = load_experiments('baseline_gb_0_05_lr_200_est_experiments')\n",
    "baseline_gb_0_2_lr_50_est_experiments = load_experiments('baseline_gb_0_2_lr_50_est_experiments')"
   ],
   "metadata": {
    "collapsed": false,
    "ExecuteTime": {
     "end_time": "2024-04-06T19:12:31.070197700Z",
     "start_time": "2024-04-06T19:12:21.576702100Z"
    }
   },
   "id": "5f08e9a4c3001ca8"
  },
  {
   "cell_type": "code",
   "execution_count": 20,
   "outputs": [
    {
     "name": "stdout",
     "output_type": "stream",
     "text": [
      "{'weighted_jaccard': 0.292, 'hamming_loss': 0.047, 'precision_micro_avg': 0.729, 'recall_micro_avg': 0.336, 'f1_micro_avg': 0.46, 'precision_macro_avg': 0.62, 'recall_macro_avg': 0.264, 'f1_macro_avg': 0.336, 'precision_weighted_avg': 0.685, 'recall_weighted_avg': 0.336, 'f1_weighted_avg': 0.42, 'precision_samples_avg': 0.423, 'recall_samples_avg': 0.386, 'f1_samples_avg': 0.391}\n"
     ]
    }
   ],
   "source": [
    "print(average_cv_metrics(baseline_gb_0_05_lr_200_est_experiments, 'br_baseline_gb_0_05_lr_200_est_depth'))"
   ],
   "metadata": {
    "collapsed": false,
    "ExecuteTime": {
     "end_time": "2024-04-04T03:37:55.976321800Z",
     "start_time": "2024-04-04T03:37:55.927037800Z"
    }
   },
   "id": "b1f54df8af2088c2"
  },
  {
   "cell_type": "code",
   "execution_count": 15,
   "outputs": [
    {
     "name": "stdout",
     "output_type": "stream",
     "text": [
      "{'weighted_jaccard': 0.31, 'hamming_loss': 0.048, 'precision_micro_avg': 0.675, 'recall_micro_avg': 0.369, 'f1_micro_avg': 0.477, 'precision_macro_avg': 0.571, 'recall_macro_avg': 0.286, 'f1_macro_avg': 0.353, 'precision_weighted_avg': 0.638, 'recall_weighted_avg': 0.369, 'f1_weighted_avg': 0.445, 'precision_samples_avg': 0.47, 'recall_samples_avg': 0.419, 'f1_samples_avg': 0.43}\n"
     ]
    }
   ],
   "source": [
    "print(average_cv_metrics(baseline_gb_0_05_lr_200_est_experiments, 'cc_baseline_gb_0_05_lr_200_est_depth'))"
   ],
   "metadata": {
    "collapsed": false,
    "ExecuteTime": {
     "end_time": "2024-04-04T03:37:36.639786100Z",
     "start_time": "2024-04-04T03:37:36.603147500Z"
    }
   },
   "id": "fca41873c122f03f"
  },
  {
   "cell_type": "code",
   "execution_count": 16,
   "outputs": [
    {
     "name": "stdout",
     "output_type": "stream",
     "text": [
      "{'weighted_jaccard': 0.33, 'hamming_loss': 0.058, 'precision_micro_avg': 0.507, 'recall_micro_avg': 0.463, 'f1_micro_avg': 0.484, 'precision_macro_avg': 0.432, 'recall_macro_avg': 0.371, 'f1_macro_avg': 0.391, 'precision_weighted_avg': 0.505, 'recall_weighted_avg': 0.463, 'f1_weighted_avg': 0.478, 'precision_samples_avg': 0.558, 'recall_samples_avg': 0.511, 'f1_samples_avg': 0.515}\n"
     ]
    }
   ],
   "source": [
    "print(average_cv_metrics(baseline_gb_0_05_lr_200_est_experiments, 'lp_baseline_gb_0_05_lr_200_est_depth'))"
   ],
   "metadata": {
    "collapsed": false,
    "ExecuteTime": {
     "end_time": "2024-04-04T03:37:37.318713600Z",
     "start_time": "2024-04-04T03:37:37.277861600Z"
    }
   },
   "id": "8dcc767eb579f41c"
  },
  {
   "cell_type": "code",
   "execution_count": 25,
   "outputs": [
    {
     "name": "stdout",
     "output_type": "stream",
     "text": [
      "{'weighted_jaccard': 0.3, 'hamming_loss': 0.048, 'precision_micro_avg': 0.691, 'recall_micro_avg': 0.35, 'f1_micro_avg': 0.464, 'precision_macro_avg': 0.527, 'recall_macro_avg': 0.271, 'f1_macro_avg': 0.339, 'precision_weighted_avg': 0.641, 'recall_weighted_avg': 0.35, 'f1_weighted_avg': 0.432, 'precision_samples_avg': 0.43, 'recall_samples_avg': 0.396, 'f1_samples_avg': 0.398}\n"
     ]
    }
   ],
   "source": [
    "print(average_cv_metrics(baseline_gb_0_2_lr_50_est_experiments, 'br_baseline_gb_0_2_lr_50_est_depth'))"
   ],
   "metadata": {
    "collapsed": false,
    "ExecuteTime": {
     "end_time": "2024-04-06T19:13:57.590182500Z",
     "start_time": "2024-04-06T19:13:57.524855400Z"
    }
   },
   "id": "80272512ef318de3"
  },
  {
   "cell_type": "code",
   "execution_count": 26,
   "outputs": [
    {
     "name": "stdout",
     "output_type": "stream",
     "text": [
      "{'weighted_jaccard': 0.312, 'hamming_loss': 0.049, 'precision_micro_avg': 0.643, 'recall_micro_avg': 0.377, 'f1_micro_avg': 0.476, 'precision_macro_avg': 0.5, 'recall_macro_avg': 0.288, 'f1_macro_avg': 0.347, 'precision_weighted_avg': 0.607, 'recall_weighted_avg': 0.377, 'f1_weighted_avg': 0.449, 'precision_samples_avg': 0.472, 'recall_samples_avg': 0.426, 'f1_samples_avg': 0.433}\n"
     ]
    }
   ],
   "source": [
    "print(average_cv_metrics(baseline_gb_0_2_lr_50_est_experiments, 'cc_baseline_gb_0_2_lr_50_est_depth'))"
   ],
   "metadata": {
    "collapsed": false,
    "ExecuteTime": {
     "end_time": "2024-04-06T19:14:08.946055500Z",
     "start_time": "2024-04-06T19:14:08.882958500Z"
    }
   },
   "id": "27b202ec70b06d28"
  },
  {
   "cell_type": "code",
   "execution_count": 27,
   "outputs": [
    {
     "name": "stdout",
     "output_type": "stream",
     "text": [
      "{'weighted_jaccard': 0.11, 'hamming_loss': 0.118, 'precision_micro_avg': 0.176, 'recall_micro_avg': 0.226, 'f1_micro_avg': 0.195, 'precision_macro_avg': 0.141, 'recall_macro_avg': 0.163, 'f1_macro_avg': 0.13, 'precision_weighted_avg': 0.189, 'recall_weighted_avg': 0.226, 'f1_weighted_avg': 0.183, 'precision_samples_avg': 0.191, 'recall_samples_avg': 0.227, 'f1_samples_avg': 0.195}\n"
     ]
    }
   ],
   "source": [
    "print(average_cv_metrics(baseline_gb_0_2_lr_50_est_experiments, 'lp_baseline_gb_0_2_lr_50_est_depth'))"
   ],
   "metadata": {
    "collapsed": false,
    "ExecuteTime": {
     "end_time": "2024-04-06T19:14:10.447005600Z",
     "start_time": "2024-04-06T19:14:10.269245Z"
    }
   },
   "id": "d8fee1360d9f667f"
  },
  {
   "cell_type": "code",
   "execution_count": 12,
   "outputs": [],
   "source": [
    "baseline_gb_0_05_lr_500_est_names = ['br_baseline_gb_0_05_lr_500_est', 'cc_baseline_gb_0_05_lr_500_est', 'lp_baseline_gb_0_05_lr_500_est']\n",
    "baseline_gb_0_05_lr_500_est_tags = {\n",
    "    name: {\n",
    "        'Comments': ['Baseline', 'Time signatures mapped to 4/4', 'No Keys'],\n",
    "        'Label Threshold': '10',\n",
    "        'learning_rate': '0.05',\n",
    "        'n_estimators': '500'\n",
    "    }\n",
    "    for name in baseline_gb_0_05_lr_500_est_names\n",
    "}\n",
    "\n",
    "baseline_gb_0_03_lr_500_est_names = ['br_baseline_gb_0_03_lr_500_est', 'cc_baseline_gb_0_03_lr_500_est', 'lp_baseline_gb_0_03_lr_500_est']\n",
    "baseline_gb_0_03_lr_500_est_tags = {\n",
    "    name: {\n",
    "        'Comments': ['Baseline', 'Time signatures mapped to 4/4', 'No Keys'],\n",
    "        'Label Threshold': '10',\n",
    "        'learning_rate': '0.03',\n",
    "        'n_estimators': '500'\n",
    "    }\n",
    "    for name in baseline_gb_0_03_lr_500_est_names\n",
    "}\n",
    "\n",
    "baseline_gb_0_01_lr_500_est_names = ['br_baseline_gb_0_01_lr_500_est', 'cc_baseline_gb_0_01_lr_500_est', 'lp_baseline_gb_0_01_lr_500_est']\n",
    "baseline_gb_0_01_lr_500_est_tags = {\n",
    "    name: {\n",
    "        'Comments': ['Baseline', 'Time signatures mapped to 4/4', 'No Keys'],\n",
    "        'Label Threshold': '10',\n",
    "        'learning_rate': '0.01',\n",
    "        'n_estimators': '500'\n",
    "    }\n",
    "    for name in baseline_gb_0_01_lr_500_est_names\n",
    "}"
   ],
   "metadata": {
    "collapsed": false,
    "ExecuteTime": {
     "end_time": "2024-04-10T20:17:52.299439100Z",
     "start_time": "2024-04-10T20:17:52.237647500Z"
    }
   },
   "id": "da526f480c08f30f"
  },
  {
   "cell_type": "code",
   "execution_count": 29,
   "outputs": [],
   "source": [
    "# baseline_gb_0_05_lr_500_est_experiments = build_cv_experiments(n_splits=N_SPLITS, dataset=track_dataset, random_state=SEED)\n",
    "# baseline_gb_0_03_lr_500_est_experiments = build_cv_experiments(n_splits=N_SPLITS, dataset=track_dataset, random_state=SEED)\n",
    "# baseline_gb_0_01_lr_500_est_experiments = build_cv_experiments(n_splits=N_SPLITS, dataset=track_dataset, random_state=SEED)"
   ],
   "metadata": {
    "collapsed": false,
    "ExecuteTime": {
     "end_time": "2024-04-11T20:43:45.652214200Z",
     "start_time": "2024-04-11T20:43:45.597303900Z"
    }
   },
   "id": "28e1cabaebd2f6d8"
  },
  {
   "cell_type": "code",
   "execution_count": 30,
   "outputs": [],
   "source": [
    "# run_cv_experiments(baseline_gb_0_05_lr_500_est_experiments, baseline_gb_0_05_lr_500_est_experiment_configs, baseline_gb_0_05_lr_500_est_names, baseline_gb_0_05_lr_500_est_tags, save_models=False, log_results=True)"
   ],
   "metadata": {
    "collapsed": false,
    "ExecuteTime": {
     "end_time": "2024-04-11T20:43:46.232445700Z",
     "start_time": "2024-04-11T20:43:46.149173200Z"
    }
   },
   "id": "8f9770e310b170c6"
  },
  {
   "cell_type": "code",
   "execution_count": 31,
   "outputs": [],
   "source": [
    "# run_cv_experiments(baseline_gb_0_03_lr_500_est_experiments, baseline_gb_0_03_lr_500_est_experiment_configs, baseline_gb_0_03_lr_500_est_names, baseline_gb_0_03_lr_500_est_tags, save_models=False, log_results=True)"
   ],
   "metadata": {
    "collapsed": false,
    "ExecuteTime": {
     "end_time": "2024-04-11T20:43:47.528408900Z",
     "start_time": "2024-04-11T20:43:47.440580400Z"
    }
   },
   "id": "a3adceb3c045bba1"
  },
  {
   "cell_type": "code",
   "execution_count": 32,
   "outputs": [],
   "source": [
    "# run_cv_experiments(baseline_gb_0_01_lr_500_est_experiments, baseline_gb_0_01_lr_500_est_experiment_configs, baseline_gb_0_01_lr_500_est_names, baseline_gb_0_01_lr_500_est_tags, save_models=False, log_results=True)"
   ],
   "metadata": {
    "collapsed": false,
    "ExecuteTime": {
     "end_time": "2024-04-11T20:43:48.573366900Z",
     "start_time": "2024-04-11T20:43:48.514077400Z"
    }
   },
   "id": "f7d758fca0801e7b"
  },
  {
   "cell_type": "code",
   "execution_count": 17,
   "outputs": [],
   "source": [
    "# save_experiments(baseline_gb_0_05_lr_500_est_experiments, 'baseline_gb_0_05_lr_500_est_experiments')\n",
    "# save_experiments(baseline_gb_0_03_lr_500_est_experiments, 'baseline_gb_0_03_lr_500_est_experiments')\n",
    "# save_experiments(baseline_gb_0_01_lr_500_est_experiments, 'baseline_gb_0_01_lr_500_est_experiments')\n",
    "\n",
    "baseline_gb_0_05_lr_500_est_experiments = load_experiments('baseline_gb_0_05_lr_500_est_experiments')\n",
    "baseline_gb_0_03_lr_500_est_experiments = load_experiments('baseline_gb_0_03_lr_500_est_experiments')\n",
    "baseline_gb_0_01_lr_500_est_experiments = load_experiments('baseline_gb_0_01_lr_500_est_experiments')"
   ],
   "metadata": {
    "collapsed": false,
    "ExecuteTime": {
     "end_time": "2024-04-11T17:36:49.234282Z",
     "start_time": "2024-04-11T17:35:51.899513200Z"
    }
   },
   "id": "3e5120284edf5369"
  },
  {
   "cell_type": "code",
   "execution_count": 18,
   "outputs": [
    {
     "name": "stdout",
     "output_type": "stream",
     "text": [
      "{'weighted_jaccard': 0.316, 'hamming_loss': 0.046, 'precision_micro_avg': 0.704, 'recall_micro_avg': 0.369, 'f1_micro_avg': 0.484, 'precision_macro_avg': 0.576, 'recall_macro_avg': 0.285, 'f1_macro_avg': 0.357, 'precision_weighted_avg': 0.655, 'recall_weighted_avg': 0.369, 'f1_weighted_avg': 0.451, 'precision_samples_avg': 0.454, 'recall_samples_avg': 0.418, 'f1_samples_avg': 0.421}\n"
     ]
    }
   ],
   "source": [
    "print(average_cv_metrics(baseline_gb_0_05_lr_500_est_experiments, 'br_baseline_gb_0_05_lr_500_est'))"
   ],
   "metadata": {
    "collapsed": false,
    "ExecuteTime": {
     "end_time": "2024-04-11T19:26:15.204447500Z",
     "start_time": "2024-04-11T19:26:15.152317900Z"
    }
   },
   "id": "b19c08c5f6c05593"
  },
  {
   "cell_type": "code",
   "execution_count": 19,
   "outputs": [
    {
     "name": "stdout",
     "output_type": "stream",
     "text": [
      "{'weighted_jaccard': 0.34, 'hamming_loss': 0.048, 'precision_micro_avg': 0.636, 'recall_micro_avg': 0.422, 'f1_micro_avg': 0.507, 'precision_macro_avg': 0.552, 'recall_macro_avg': 0.334, 'f1_macro_avg': 0.392, 'precision_weighted_avg': 0.616, 'recall_weighted_avg': 0.422, 'f1_weighted_avg': 0.483, 'precision_samples_avg': 0.529, 'recall_samples_avg': 0.472, 'f1_samples_avg': 0.484}\n"
     ]
    }
   ],
   "source": [
    "print(average_cv_metrics(baseline_gb_0_05_lr_500_est_experiments, 'cc_baseline_gb_0_05_lr_500_est'))"
   ],
   "metadata": {
    "collapsed": false,
    "ExecuteTime": {
     "end_time": "2024-04-11T19:26:16.100651100Z",
     "start_time": "2024-04-11T19:26:16.024112600Z"
    }
   },
   "id": "f454869739a35bbc"
  },
  {
   "cell_type": "code",
   "execution_count": 20,
   "outputs": [
    {
     "name": "stdout",
     "output_type": "stream",
     "text": [
      "{'weighted_jaccard': 0.288, 'hamming_loss': 0.08, 'precision_micro_avg': 0.443, 'recall_micro_avg': 0.436, 'f1_micro_avg': 0.431, 'precision_macro_avg': 0.359, 'recall_macro_avg': 0.345, 'f1_macro_avg': 0.335, 'precision_weighted_avg': 0.43, 'recall_weighted_avg': 0.436, 'f1_weighted_avg': 0.419, 'precision_samples_avg': 0.478, 'recall_samples_avg': 0.471, 'f1_samples_avg': 0.451}\n"
     ]
    }
   ],
   "source": [
    "print(average_cv_metrics(baseline_gb_0_05_lr_500_est_experiments, 'lp_baseline_gb_0_05_lr_500_est'))"
   ],
   "metadata": {
    "collapsed": false,
    "ExecuteTime": {
     "end_time": "2024-04-11T19:26:16.572822700Z",
     "start_time": "2024-04-11T19:26:16.510355300Z"
    }
   },
   "id": "4b5b962fd15e1b6b"
  },
  {
   "cell_type": "code",
   "execution_count": 23,
   "outputs": [
    {
     "name": "stdout",
     "output_type": "stream",
     "text": [
      "{'weighted_jaccard': 0.305, 'hamming_loss': 0.046, 'precision_micro_avg': 0.725, 'recall_micro_avg': 0.352, 'f1_micro_avg': 0.474, 'precision_macro_avg': 0.612, 'recall_macro_avg': 0.275, 'f1_macro_avg': 0.351, 'precision_weighted_avg': 0.674, 'recall_weighted_avg': 0.352, 'f1_weighted_avg': 0.437, 'precision_samples_avg': 0.439, 'recall_samples_avg': 0.4, 'f1_samples_avg': 0.406}\n"
     ]
    }
   ],
   "source": [
    "print(average_cv_metrics(baseline_gb_0_03_lr_500_est_experiments, 'br_baseline_gb_0_03_lr_500_est'))"
   ],
   "metadata": {
    "collapsed": false,
    "ExecuteTime": {
     "end_time": "2024-04-11T19:27:20.110999600Z",
     "start_time": "2024-04-11T19:27:20.063588400Z"
    }
   },
   "id": "623ef3c020ec6b2"
  },
  {
   "cell_type": "code",
   "execution_count": 24,
   "outputs": [
    {
     "name": "stdout",
     "output_type": "stream",
     "text": [
      "{'weighted_jaccard': 0.327, 'hamming_loss': 0.048, 'precision_micro_avg': 0.66, 'recall_micro_avg': 0.396, 'f1_micro_avg': 0.495, 'precision_macro_avg': 0.582, 'recall_macro_avg': 0.31, 'f1_macro_avg': 0.378, 'precision_weighted_avg': 0.633, 'recall_weighted_avg': 0.396, 'f1_weighted_avg': 0.467, 'precision_samples_avg': 0.5, 'recall_samples_avg': 0.445, 'f1_samples_avg': 0.457}\n"
     ]
    }
   ],
   "source": [
    "print(average_cv_metrics(baseline_gb_0_03_lr_500_est_experiments, 'cc_baseline_gb_0_03_lr_500_est'))"
   ],
   "metadata": {
    "collapsed": false,
    "ExecuteTime": {
     "end_time": "2024-04-11T19:27:20.838032200Z",
     "start_time": "2024-04-11T19:27:20.777714700Z"
    }
   },
   "id": "466bdf94e8f8d8f5"
  },
  {
   "cell_type": "code",
   "execution_count": 25,
   "outputs": [
    {
     "name": "stdout",
     "output_type": "stream",
     "text": [
      "{'weighted_jaccard': 0.347, 'hamming_loss': 0.055, 'precision_micro_avg': 0.54, 'recall_micro_avg': 0.476, 'f1_micro_avg': 0.506, 'precision_macro_avg': 0.463, 'recall_macro_avg': 0.394, 'f1_macro_avg': 0.42, 'precision_weighted_avg': 0.528, 'recall_weighted_avg': 0.476, 'f1_weighted_avg': 0.498, 'precision_samples_avg': 0.577, 'recall_samples_avg': 0.524, 'f1_samples_avg': 0.532}\n"
     ]
    }
   ],
   "source": [
    "print(average_cv_metrics(baseline_gb_0_03_lr_500_est_experiments, 'lp_baseline_gb_0_03_lr_500_est'))"
   ],
   "metadata": {
    "collapsed": false,
    "ExecuteTime": {
     "end_time": "2024-04-11T19:27:21.608545900Z",
     "start_time": "2024-04-11T19:27:21.561940200Z"
    }
   },
   "id": "239522227d06dfe1"
  },
  {
   "cell_type": "code",
   "execution_count": 26,
   "outputs": [
    {
     "name": "stdout",
     "output_type": "stream",
     "text": [
      "{'weighted_jaccard': 0.254, 'hamming_loss': 0.047, 'precision_micro_avg': 0.76, 'recall_micro_avg': 0.287, 'f1_micro_avg': 0.417, 'precision_macro_avg': 0.623, 'recall_macro_avg': 0.227, 'f1_macro_avg': 0.297, 'precision_weighted_avg': 0.696, 'recall_weighted_avg': 0.287, 'f1_weighted_avg': 0.368, 'precision_samples_avg': 0.37, 'recall_samples_avg': 0.335, 'f1_samples_avg': 0.341}\n"
     ]
    }
   ],
   "source": [
    "print(average_cv_metrics(baseline_gb_0_01_lr_500_est_experiments, 'br_baseline_gb_0_01_lr_500_est'))"
   ],
   "metadata": {
    "collapsed": false,
    "ExecuteTime": {
     "end_time": "2024-04-11T19:27:35.775748100Z",
     "start_time": "2024-04-11T19:27:35.721755200Z"
    }
   },
   "id": "47a8383152762178"
  },
  {
   "cell_type": "code",
   "execution_count": 27,
   "outputs": [
    {
     "name": "stdout",
     "output_type": "stream",
     "text": [
      "{'weighted_jaccard': 0.267, 'hamming_loss': 0.048, 'precision_micro_avg': 0.727, 'recall_micro_avg': 0.306, 'f1_micro_avg': 0.431, 'precision_macro_avg': 0.604, 'recall_macro_avg': 0.237, 'f1_macro_avg': 0.305, 'precision_weighted_avg': 0.668, 'recall_weighted_avg': 0.306, 'f1_weighted_avg': 0.388, 'precision_samples_avg': 0.399, 'recall_samples_avg': 0.353, 'f1_samples_avg': 0.365}\n"
     ]
    }
   ],
   "source": [
    "print(average_cv_metrics(baseline_gb_0_01_lr_500_est_experiments, 'cc_baseline_gb_0_01_lr_500_est'))"
   ],
   "metadata": {
    "collapsed": false,
    "ExecuteTime": {
     "end_time": "2024-04-11T19:27:36.530694300Z",
     "start_time": "2024-04-11T19:27:36.469376900Z"
    }
   },
   "id": "4ed9bcd3a7aa7862"
  },
  {
   "cell_type": "code",
   "execution_count": 28,
   "outputs": [
    {
     "name": "stdout",
     "output_type": "stream",
     "text": [
      "{'weighted_jaccard': 0.339, 'hamming_loss': 0.055, 'precision_micro_avg': 0.539, 'recall_micro_avg': 0.465, 'f1_micro_avg': 0.499, 'precision_macro_avg': 0.455, 'recall_macro_avg': 0.386, 'f1_macro_avg': 0.411, 'precision_weighted_avg': 0.527, 'recall_weighted_avg': 0.465, 'f1_weighted_avg': 0.489, 'precision_samples_avg': 0.572, 'recall_samples_avg': 0.514, 'f1_samples_avg': 0.524}\n"
     ]
    }
   ],
   "source": [
    "print(average_cv_metrics(baseline_gb_0_01_lr_500_est_experiments, 'lp_baseline_gb_0_01_lr_500_est'))"
   ],
   "metadata": {
    "collapsed": false,
    "ExecuteTime": {
     "end_time": "2024-04-11T19:27:37.225961Z",
     "start_time": "2024-04-11T19:27:37.105180200Z"
    }
   },
   "id": "eeed4dbc79bb73"
  },
  {
   "cell_type": "code",
   "execution_count": 9,
   "outputs": [],
   "source": [
    "non_transform_names = ['decision_tree_default', 'random_forest_default', 'knn_default', 'mlknn_default']\n",
    "non_transform_tags = {\n",
    "    name: {\n",
    "        'Comments': ['Baseline', 'Time signatures mapped to 4/4', 'No Keys', 'All params default']\n",
    "    }\n",
    "    for name in non_transform_names\n",
    "}"
   ],
   "metadata": {
    "collapsed": false,
    "ExecuteTime": {
     "end_time": "2024-04-11T21:58:52.943858900Z",
     "start_time": "2024-04-11T21:58:52.892801800Z"
    }
   },
   "id": "379e3522d32fcf1c"
  },
  {
   "cell_type": "code",
   "execution_count": 10,
   "outputs": [
    {
     "name": "stdout",
     "output_type": "stream",
     "text": [
      "Dataset has already been split, proceeding will overwrite split data.\n",
      "`force_split`=True, Proceeding with new split.\n"
     ]
    }
   ],
   "source": [
    "# non_transform_experiments = build_cv_experiments(n_splits=N_SPLITS, dataset=track_dataset, random_state=SEED)"
   ],
   "metadata": {
    "collapsed": false,
    "ExecuteTime": {
     "end_time": "2024-04-11T21:58:53.735292500Z",
     "start_time": "2024-04-11T21:58:53.230556500Z"
    }
   },
   "id": "3d53a827da986305"
  },
  {
   "cell_type": "code",
   "execution_count": 11,
   "outputs": [
    {
     "name": "stdout",
     "output_type": "stream",
     "text": [
      "Running model: decision_tree_default_1\n",
      "decision_tree_default_1 complete.\n",
      "Running model: random_forest_default_1\n",
      "random_forest_default_1 complete.\n",
      "Running model: knn_default_1\n",
      "knn_default_1 complete.\n",
      "Running model: mlknn_default_1\n",
      "mlknn_default_1 complete.\n",
      "Running model: decision_tree_default_2\n",
      "decision_tree_default_2 complete.\n",
      "Running model: random_forest_default_2\n",
      "random_forest_default_2 complete.\n",
      "Running model: knn_default_2\n",
      "knn_default_2 complete.\n",
      "Running model: mlknn_default_2\n",
      "mlknn_default_2 complete.\n",
      "Running model: decision_tree_default_3\n",
      "decision_tree_default_3 complete.\n",
      "Running model: random_forest_default_3\n",
      "random_forest_default_3 complete.\n",
      "Running model: knn_default_3\n",
      "knn_default_3 complete.\n",
      "Running model: mlknn_default_3\n",
      "mlknn_default_3 complete.\n",
      "Running model: decision_tree_default_4\n",
      "decision_tree_default_4 complete.\n",
      "Running model: random_forest_default_4\n",
      "random_forest_default_4 complete.\n",
      "Running model: knn_default_4\n",
      "knn_default_4 complete.\n",
      "Running model: mlknn_default_4\n",
      "mlknn_default_4 complete.\n",
      "Running model: decision_tree_default_5\n",
      "decision_tree_default_5 complete.\n",
      "Running model: random_forest_default_5\n",
      "random_forest_default_5 complete.\n",
      "Running model: knn_default_5\n",
      "knn_default_5 complete.\n",
      "Running model: mlknn_default_5\n",
      "mlknn_default_5 complete.\n"
     ]
    }
   ],
   "source": [
    "# run_cv_experiments(non_transform_experiments, non_transform_experiment_configs, non_transform_names, non_transform_tags, save_models=False, log_results=True)"
   ],
   "metadata": {
    "collapsed": false,
    "ExecuteTime": {
     "end_time": "2024-04-11T22:00:55.347182900Z",
     "start_time": "2024-04-11T21:58:54.698613100Z"
    }
   },
   "id": "152993759313c5cc"
  },
  {
   "cell_type": "code",
   "execution_count": 12,
   "outputs": [],
   "source": [
    "# save_experiments(non_transform_experiments, 'non_transform_experiments')\n",
    "\n",
    "non_transform_experiments = load_experiments('non_transform_experiments')"
   ],
   "metadata": {
    "collapsed": false,
    "ExecuteTime": {
     "end_time": "2024-04-11T22:00:57.504116800Z",
     "start_time": "2024-04-11T22:00:55.336568900Z"
    }
   },
   "id": "63d7d66f6ba804a"
  },
  {
   "cell_type": "code",
   "execution_count": 13,
   "outputs": [
    {
     "name": "stdout",
     "output_type": "stream",
     "text": [
      "{'weighted_jaccard': 0.28, 'hamming_loss': 0.069, 'precision_micro_avg': 0.418, 'recall_micro_avg': 0.427, 'f1_micro_avg': 0.422, 'precision_macro_avg': 0.343, 'recall_macro_avg': 0.345, 'f1_macro_avg': 0.342, 'precision_weighted_avg': 0.421, 'recall_weighted_avg': 0.427, 'f1_weighted_avg': 0.423, 'precision_samples_avg': 0.451, 'recall_samples_avg': 0.456, 'f1_samples_avg': 0.435}\n"
     ]
    }
   ],
   "source": [
    "print(average_cv_metrics(non_transform_experiments, 'decision_tree_default'))"
   ],
   "metadata": {
    "collapsed": false,
    "ExecuteTime": {
     "end_time": "2024-04-11T22:00:57.534843400Z",
     "start_time": "2024-04-11T22:00:57.504116800Z"
    }
   },
   "id": "7b178e5ab787b216"
  },
  {
   "cell_type": "code",
   "execution_count": 14,
   "outputs": [
    {
     "name": "stdout",
     "output_type": "stream",
     "text": [
      "{'weighted_jaccard': 0.291, 'hamming_loss': 0.044, 'precision_micro_avg': 0.821, 'recall_micro_avg': 0.319, 'f1_micro_avg': 0.46, 'precision_macro_avg': 0.718, 'recall_macro_avg': 0.215, 'f1_macro_avg': 0.285, 'precision_weighted_avg': 0.801, 'recall_weighted_avg': 0.319, 'f1_weighted_avg': 0.415, 'precision_samples_avg': 0.406, 'recall_samples_avg': 0.36, 'f1_samples_avg': 0.372}\n"
     ]
    }
   ],
   "source": [
    "print(average_cv_metrics(non_transform_experiments, 'random_forest_default'))"
   ],
   "metadata": {
    "collapsed": false,
    "ExecuteTime": {
     "end_time": "2024-04-11T22:00:57.534843400Z",
     "start_time": "2024-04-11T22:00:57.512891900Z"
    }
   },
   "id": "d5e80cb55630b0d1"
  },
  {
   "cell_type": "code",
   "execution_count": 15,
   "outputs": [
    {
     "name": "stdout",
     "output_type": "stream",
     "text": [
      "{'weighted_jaccard': 0.241, 'hamming_loss': 0.055, 'precision_micro_avg': 0.563, 'recall_micro_avg': 0.299, 'f1_micro_avg': 0.39, 'precision_macro_avg': 0.477, 'recall_macro_avg': 0.228, 'f1_macro_avg': 0.289, 'precision_weighted_avg': 0.521, 'recall_weighted_avg': 0.299, 'f1_weighted_avg': 0.368, 'precision_samples_avg': 0.369, 'recall_samples_avg': 0.333, 'f1_samples_avg': 0.338}\n"
     ]
    }
   ],
   "source": [
    "print(average_cv_metrics(non_transform_experiments, 'knn_default'))"
   ],
   "metadata": {
    "collapsed": false,
    "ExecuteTime": {
     "end_time": "2024-04-11T22:00:57.549874400Z",
     "start_time": "2024-04-11T22:00:57.519062600Z"
    }
   },
   "id": "3314ad363a963cde"
  },
  {
   "cell_type": "code",
   "execution_count": 16,
   "outputs": [
    {
     "name": "stdout",
     "output_type": "stream",
     "text": [
      "{'weighted_jaccard': 0.232, 'hamming_loss': 0.054, 'precision_micro_avg': 0.597, 'recall_micro_avg': 0.28, 'f1_micro_avg': 0.381, 'precision_macro_avg': 0.504, 'recall_macro_avg': 0.213, 'f1_macro_avg': 0.275, 'precision_weighted_avg': 0.539, 'recall_weighted_avg': 0.28, 'f1_weighted_avg': 0.353, 'precision_samples_avg': 0.354, 'recall_samples_avg': 0.318, 'f1_samples_avg': 0.324}\n"
     ]
    }
   ],
   "source": [
    "print(average_cv_metrics(non_transform_experiments, 'mlknn_default'))"
   ],
   "metadata": {
    "collapsed": false,
    "ExecuteTime": {
     "end_time": "2024-04-11T22:00:57.692000500Z",
     "start_time": "2024-04-11T22:00:57.524738900Z"
    }
   },
   "id": "9c159df0d38b9970"
  }
 ],
 "metadata": {
  "kernelspec": {
   "display_name": "Python 3",
   "language": "python",
   "name": "python3"
  },
  "language_info": {
   "codemirror_mode": {
    "name": "ipython",
    "version": 2
   },
   "file_extension": ".py",
   "mimetype": "text/x-python",
   "name": "python",
   "nbconvert_exporter": "python",
   "pygments_lexer": "ipython2",
   "version": "2.7.6"
  }
 },
 "nbformat": 4,
 "nbformat_minor": 5
}
