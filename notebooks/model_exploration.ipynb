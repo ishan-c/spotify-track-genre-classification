{
 "cells": [
  {
   "cell_type": "markdown",
   "source": [
    "# Model Exploration"
   ],
   "metadata": {
    "collapsed": false
   },
   "id": "855cbdfb6403c271"
  },
  {
   "cell_type": "code",
   "execution_count": 1,
   "outputs": [],
   "source": [
    "import os\n",
    "import pickle\n",
    "import warnings\n",
    "from pathlib import Path\n",
    "\n",
    "import numpy as np\n",
    "import pandas as pd\n",
    "from dotenv import load_dotenv\n",
    "from sklearn.preprocessing import StandardScaler\n",
    "\n",
    "from evaluation.experiment import Experiment\n",
    "from integrations.databricks.auth import setup_mlflow\n",
    "from models.config import baseline_experiment_configs\n",
    "from models.setup import experiment_setup\n",
    "from utils.dataset import Dataset\n",
    "\n",
    "load_dotenv()\n",
    "\n",
    "setup_mlflow()\n",
    "mlflow_path = os.getenv('MLFLOW_MODEL_EXP')\n",
    "warnings.simplefilter(action='ignore', category=UserWarning)\n",
    "\n",
    "SEED = 42"
   ],
   "metadata": {
    "collapsed": false,
    "ExecuteTime": {
     "end_time": "2024-03-29T22:03:42.155247800Z",
     "start_time": "2024-03-29T22:03:37.668926800Z"
    }
   },
   "id": "409e2390f7b8e4d"
  },
  {
   "cell_type": "code",
   "execution_count": 2,
   "outputs": [],
   "source": [
    "DATA_PATH = Path(os.getenv('PROJECT_ROOT'), '.') / 'data'\n",
    "TRACK_DATASET_FILE = DATA_PATH / 'track_dataset_nk.pkl'\n",
    "\n",
    "with open(TRACK_DATASET_FILE, 'rb') as file:\n",
    "    track_dataset = pickle.load(file)"
   ],
   "metadata": {
    "collapsed": false,
    "ExecuteTime": {
     "end_time": "2024-03-29T22:03:42.167857600Z",
     "start_time": "2024-03-29T22:03:42.155247800Z"
    }
   },
   "id": "c491fde143eefbeb"
  },
  {
   "cell_type": "code",
   "execution_count": 3,
   "outputs": [],
   "source": [
    "def scale_numeric_data(train_array: np.ndarray, test_array: np.ndarray, feature_names: list, scaled_feature_names: list = None) -> tuple:\n",
    "    \n",
    "    scaler = StandardScaler()\n",
    "    train_df = pd.DataFrame(train_array, columns=feature_names)\n",
    "    test_df = pd.DataFrame(test_array, columns=feature_names)\n",
    "    \n",
    "    if scaled_feature_names is None:\n",
    "        scaled_feature_names = ['duration_ms', 'tempo', 'loudness']\n",
    "    \n",
    "    train_df[scaled_feature_names] = scaler.fit_transform(train_df[scaled_feature_names])\n",
    "    test_df[scaled_feature_names] = scaler.transform(test_df[scaled_feature_names])\n",
    "    \n",
    "    return train_df.to_numpy(), test_df.to_numpy()"
   ],
   "metadata": {
    "collapsed": false,
    "ExecuteTime": {
     "end_time": "2024-03-29T22:03:42.174147400Z",
     "start_time": "2024-03-29T22:03:42.167857600Z"
    }
   },
   "id": "bc9e1a1c2da2925f"
  },
  {
   "cell_type": "code",
   "execution_count": 4,
   "outputs": [],
   "source": [
    "def build_cv_experiments(n_splits: int, dataset: Dataset, random_state=SEED):\n",
    "    train_data, train_labels, _, test_data, test_labels, _ = dataset.split_data(cross_val=True, n_splits=n_splits, iterative=True, random_state=random_state, force_split=True)\n",
    "    \n",
    "    fold_experiments= []\n",
    "    for i in range(n_splits):\n",
    "        train_data[i], test_data[i] = scale_numeric_data(train_data[i], test_data[i], dataset.feature_names)    \n",
    "        fold_characteristics = dataset.get_dataset_characteristics(i)\n",
    "        fold_experiment = Experiment(train_data[i], train_labels[i], test_data[i], test_labels[i], fold_characteristics)\n",
    "        fold_experiments.append(fold_experiment)\n",
    "        \n",
    "    return fold_experiments"
   ],
   "metadata": {
    "collapsed": false,
    "ExecuteTime": {
     "end_time": "2024-03-29T22:03:42.180893300Z",
     "start_time": "2024-03-29T22:03:42.174147400Z"
    }
   },
   "id": "1110bb87922c697e"
  },
  {
   "cell_type": "code",
   "execution_count": 5,
   "outputs": [],
   "source": [
    "def run_cv_experiments(experiments, experiment_configs, model_names, tags, save_models, log_results):\n",
    "    for i, experiment in enumerate(experiments):\n",
    "        fold_names = [model_name + f'_{i + 1}' for model_name in model_names]\n",
    "        fold_tags = {model_name + f'_{i + 1}': tags[model_name] for model_name in model_names}\n",
    "        for model_name in fold_tags:\n",
    "            fold_tags[model_name]['Fold'] = f'{i+ 1} / {len(experiments)}'\n",
    "        \n",
    "        fold_models, fold_configs = experiment_setup(experiment_configs, fold_names)\n",
    "        experiment.run_experiment(fold_models, fold_configs, mlflow_path, fold_tags, save_models=save_models, log_results=log_results)"
   ],
   "metadata": {
    "collapsed": false,
    "ExecuteTime": {
     "end_time": "2024-03-29T22:03:42.199197300Z",
     "start_time": "2024-03-29T22:03:42.186321800Z"
    }
   },
   "id": "46628d91a8024cb"
  },
  {
   "cell_type": "code",
   "execution_count": 6,
   "outputs": [],
   "source": [
    "baseline_names = ['br_baseline', 'cc_baseline', 'lp_baseline']\n",
    "baseline_tags = {\n",
    "    name: {\n",
    "        'Comments': ['Baseline', 'Time signatures mapped to 4/4', 'No Keys'],\n",
    "        'Label Threshold': '10'\n",
    "    }\n",
    "    for name in baseline_names\n",
    "}"
   ],
   "metadata": {
    "collapsed": false,
    "ExecuteTime": {
     "end_time": "2024-03-29T22:03:42.199197300Z",
     "start_time": "2024-03-29T22:03:42.189989Z"
    }
   },
   "id": "da8b0f9d1c8506ba"
  },
  {
   "cell_type": "code",
   "execution_count": 7,
   "outputs": [
    {
     "name": "stdout",
     "output_type": "stream",
     "text": [
      "Dataset has already been split, proceeding will overwrite split data.\n",
      "`force_split`=True, Proceeding with new split.\n"
     ]
    }
   ],
   "source": [
    "N_SPLITS = 5\n",
    "baseline_experiments = build_cv_experiments(n_splits=N_SPLITS, dataset=track_dataset, random_state=SEED)"
   ],
   "metadata": {
    "collapsed": false,
    "ExecuteTime": {
     "end_time": "2024-03-29T22:03:42.629784400Z",
     "start_time": "2024-03-29T22:03:42.192681600Z"
    }
   },
   "id": "c362d22188de8609"
  },
  {
   "cell_type": "code",
   "execution_count": 8,
   "outputs": [
    {
     "name": "stderr",
     "output_type": "stream",
     "text": [
      "2024/03/29 15:03:47 INFO mlflow.tracking.fluent: Experiment with name '/Users/ishanchowdhur@gmail.com/model_exploration' does not exist. Creating a new experiment.\n"
     ]
    },
    {
     "name": "stdout",
     "output_type": "stream",
     "text": [
      "Running model: br_baseline_1\n"
     ]
    },
    {
     "data": {
      "text/plain": "Uploading artifacts:   0%|          | 0/5 [00:00<?, ?it/s]",
      "application/vnd.jupyter.widget-view+json": {
       "version_major": 2,
       "version_minor": 0,
       "model_id": "762daff6566a4bdf8daa6a9def27f6e6"
      }
     },
     "metadata": {},
     "output_type": "display_data"
    },
    {
     "name": "stdout",
     "output_type": "stream",
     "text": [
      "br_baseline_1 complete.\n",
      "Running model: cc_baseline_1\n"
     ]
    },
    {
     "data": {
      "text/plain": "Uploading artifacts:   0%|          | 0/5 [00:00<?, ?it/s]",
      "application/vnd.jupyter.widget-view+json": {
       "version_major": 2,
       "version_minor": 0,
       "model_id": "516430922dd14e2cadb82f0759a7e112"
      }
     },
     "metadata": {},
     "output_type": "display_data"
    },
    {
     "name": "stdout",
     "output_type": "stream",
     "text": [
      "cc_baseline_1 complete.\n",
      "Running model: lp_baseline_1\n"
     ]
    },
    {
     "data": {
      "text/plain": "Uploading artifacts:   0%|          | 0/5 [00:00<?, ?it/s]",
      "application/vnd.jupyter.widget-view+json": {
       "version_major": 2,
       "version_minor": 0,
       "model_id": "286428e49dd741fbbe223122262663a6"
      }
     },
     "metadata": {},
     "output_type": "display_data"
    },
    {
     "name": "stdout",
     "output_type": "stream",
     "text": [
      "lp_baseline_1 complete.\n",
      "Running model: br_baseline_2\n"
     ]
    },
    {
     "data": {
      "text/plain": "Uploading artifacts:   0%|          | 0/5 [00:00<?, ?it/s]",
      "application/vnd.jupyter.widget-view+json": {
       "version_major": 2,
       "version_minor": 0,
       "model_id": "93925b31c9db47f3b725e7267ae4cbcd"
      }
     },
     "metadata": {},
     "output_type": "display_data"
    },
    {
     "name": "stdout",
     "output_type": "stream",
     "text": [
      "br_baseline_2 complete.\n",
      "Running model: cc_baseline_2\n"
     ]
    },
    {
     "data": {
      "text/plain": "Uploading artifacts:   0%|          | 0/5 [00:00<?, ?it/s]",
      "application/vnd.jupyter.widget-view+json": {
       "version_major": 2,
       "version_minor": 0,
       "model_id": "934edf151b8e44359ac9a67aa6cd88f6"
      }
     },
     "metadata": {},
     "output_type": "display_data"
    },
    {
     "name": "stdout",
     "output_type": "stream",
     "text": [
      "cc_baseline_2 complete.\n",
      "Running model: lp_baseline_2\n"
     ]
    },
    {
     "data": {
      "text/plain": "Uploading artifacts:   0%|          | 0/5 [00:00<?, ?it/s]",
      "application/vnd.jupyter.widget-view+json": {
       "version_major": 2,
       "version_minor": 0,
       "model_id": "912a48d79bad477a91c733c86b6ef71c"
      }
     },
     "metadata": {},
     "output_type": "display_data"
    },
    {
     "name": "stdout",
     "output_type": "stream",
     "text": [
      "lp_baseline_2 complete.\n",
      "Running model: br_baseline_3\n"
     ]
    },
    {
     "data": {
      "text/plain": "Uploading artifacts:   0%|          | 0/5 [00:00<?, ?it/s]",
      "application/vnd.jupyter.widget-view+json": {
       "version_major": 2,
       "version_minor": 0,
       "model_id": "693f6b3b42844f02b90b282031724361"
      }
     },
     "metadata": {},
     "output_type": "display_data"
    },
    {
     "name": "stdout",
     "output_type": "stream",
     "text": [
      "br_baseline_3 complete.\n",
      "Running model: cc_baseline_3\n"
     ]
    },
    {
     "data": {
      "text/plain": "Uploading artifacts:   0%|          | 0/5 [00:00<?, ?it/s]",
      "application/vnd.jupyter.widget-view+json": {
       "version_major": 2,
       "version_minor": 0,
       "model_id": "c09cc80463eb4b3289d0aff61a9247cd"
      }
     },
     "metadata": {},
     "output_type": "display_data"
    },
    {
     "name": "stdout",
     "output_type": "stream",
     "text": [
      "cc_baseline_3 complete.\n",
      "Running model: lp_baseline_3\n"
     ]
    },
    {
     "data": {
      "text/plain": "Uploading artifacts:   0%|          | 0/5 [00:00<?, ?it/s]",
      "application/vnd.jupyter.widget-view+json": {
       "version_major": 2,
       "version_minor": 0,
       "model_id": "e48f781c8f114df2947c2f39c623f25b"
      }
     },
     "metadata": {},
     "output_type": "display_data"
    },
    {
     "name": "stdout",
     "output_type": "stream",
     "text": [
      "lp_baseline_3 complete.\n",
      "Running model: br_baseline_4\n"
     ]
    },
    {
     "data": {
      "text/plain": "Uploading artifacts:   0%|          | 0/5 [00:00<?, ?it/s]",
      "application/vnd.jupyter.widget-view+json": {
       "version_major": 2,
       "version_minor": 0,
       "model_id": "fde649450fb54765ac3a1547cc711b43"
      }
     },
     "metadata": {},
     "output_type": "display_data"
    },
    {
     "name": "stdout",
     "output_type": "stream",
     "text": [
      "br_baseline_4 complete.\n",
      "Running model: cc_baseline_4\n"
     ]
    },
    {
     "data": {
      "text/plain": "Uploading artifacts:   0%|          | 0/5 [00:00<?, ?it/s]",
      "application/vnd.jupyter.widget-view+json": {
       "version_major": 2,
       "version_minor": 0,
       "model_id": "e06da59720c347f3b0fc99349adc14de"
      }
     },
     "metadata": {},
     "output_type": "display_data"
    },
    {
     "name": "stdout",
     "output_type": "stream",
     "text": [
      "cc_baseline_4 complete.\n",
      "Running model: lp_baseline_4\n"
     ]
    },
    {
     "data": {
      "text/plain": "Uploading artifacts:   0%|          | 0/5 [00:00<?, ?it/s]",
      "application/vnd.jupyter.widget-view+json": {
       "version_major": 2,
       "version_minor": 0,
       "model_id": "2cfc5bdecf004fa79375b3b614958036"
      }
     },
     "metadata": {},
     "output_type": "display_data"
    },
    {
     "name": "stdout",
     "output_type": "stream",
     "text": [
      "lp_baseline_4 complete.\n",
      "Running model: br_baseline_5\n"
     ]
    },
    {
     "data": {
      "text/plain": "Uploading artifacts:   0%|          | 0/5 [00:00<?, ?it/s]",
      "application/vnd.jupyter.widget-view+json": {
       "version_major": 2,
       "version_minor": 0,
       "model_id": "43536a21a3cd47b58ca54fa681758aa2"
      }
     },
     "metadata": {},
     "output_type": "display_data"
    },
    {
     "name": "stdout",
     "output_type": "stream",
     "text": [
      "br_baseline_5 complete.\n",
      "Running model: cc_baseline_5\n"
     ]
    },
    {
     "data": {
      "text/plain": "Uploading artifacts:   0%|          | 0/5 [00:00<?, ?it/s]",
      "application/vnd.jupyter.widget-view+json": {
       "version_major": 2,
       "version_minor": 0,
       "model_id": "5c96a34c477e4bb8a16a86bbbcc972a1"
      }
     },
     "metadata": {},
     "output_type": "display_data"
    },
    {
     "name": "stdout",
     "output_type": "stream",
     "text": [
      "cc_baseline_5 complete.\n",
      "Running model: lp_baseline_5\n"
     ]
    },
    {
     "data": {
      "text/plain": "Uploading artifacts:   0%|          | 0/5 [00:00<?, ?it/s]",
      "application/vnd.jupyter.widget-view+json": {
       "version_major": 2,
       "version_minor": 0,
       "model_id": "d2e6908e0be84fc78deb5d723730eea3"
      }
     },
     "metadata": {},
     "output_type": "display_data"
    },
    {
     "name": "stdout",
     "output_type": "stream",
     "text": [
      "lp_baseline_5 complete.\n"
     ]
    }
   ],
   "source": [
    "run_cv_experiments(baseline_experiments, baseline_experiment_configs, baseline_names, baseline_tags, save_models=True, log_results=True)"
   ],
   "metadata": {
    "collapsed": false,
    "ExecuteTime": {
     "end_time": "2024-03-29T22:06:01.822621200Z",
     "start_time": "2024-03-29T22:03:46.586557700Z"
    }
   },
   "id": "61ab029a7fb5bdef"
  },
  {
   "cell_type": "markdown",
   "source": [],
   "metadata": {
    "collapsed": false
   },
   "id": "5003440d09a522ec"
  },
  {
   "cell_type": "code",
   "execution_count": 24,
   "outputs": [],
   "source": [
    "def average_cv_metrics(experiments, model_name_root):\n",
    "    sum_metrics = None\n",
    "    for i, experiment in enumerate(experiments):\n",
    "        fold_model_name = model_name_root + f'_{i + 1}'\n",
    "        fold_metrics = experiment.results[fold_model_name].metrics\n",
    "        if sum_metrics is None:\n",
    "            sum_metrics = fold_metrics.copy()\n",
    "        else:\n",
    "            for key in sum_metrics.keys():\n",
    "                sum_metrics[key] += fold_metrics[key]\n",
    "    \n",
    "    return {key: float(f'{value / len(experiments):.3f}') for key, value in sum_metrics.items()}"
   ],
   "metadata": {
    "collapsed": false,
    "ExecuteTime": {
     "end_time": "2024-03-29T22:26:22.153250600Z",
     "start_time": "2024-03-29T22:26:22.129263100Z"
    }
   },
   "id": "64c9d61ed6781631"
  },
  {
   "cell_type": "code",
   "execution_count": 26,
   "outputs": [
    {
     "name": "stdout",
     "output_type": "stream",
     "text": [
      "{'weighted_jaccard': 0.177, 'hamming_loss': 0.052, 'precision_micro_avg': 0.717, 'recall_micro_avg': 0.203, 'f1_micro_avg': 0.316, 'precision_macro_avg': 0.406, 'recall_macro_avg': 0.145, 'f1_macro_avg': 0.19, 'precision_weighted_avg': 0.527, 'recall_weighted_avg': 0.203, 'f1_weighted_avg': 0.263, 'precision_samples_avg': 0.255, 'recall_samples_avg': 0.24, 'f1_samples_avg': 0.24}\n"
     ]
    }
   ],
   "source": [
    "print(average_cv_metrics(baseline_experiments, 'br_baseline'))"
   ],
   "metadata": {
    "collapsed": false,
    "ExecuteTime": {
     "end_time": "2024-03-29T22:26:47.306391300Z",
     "start_time": "2024-03-29T22:26:47.274441700Z"
    }
   },
   "id": "2f4378ae1d9888d4"
  },
  {
   "cell_type": "code",
   "execution_count": 27,
   "outputs": [
    {
     "name": "stdout",
     "output_type": "stream",
     "text": [
      "{'weighted_jaccard': 0.234, 'hamming_loss': 0.056, 'precision_micro_avg': 0.553, 'recall_micro_avg': 0.312, 'f1_micro_avg': 0.399, 'precision_macro_avg': 0.406, 'recall_macro_avg': 0.22, 'f1_macro_avg': 0.25, 'precision_weighted_avg': 0.512, 'recall_weighted_avg': 0.312, 'f1_weighted_avg': 0.344, 'precision_samples_avg': 0.407, 'recall_samples_avg': 0.35, 'f1_samples_avg': 0.364}\n"
     ]
    }
   ],
   "source": [
    "print(average_cv_metrics(baseline_experiments, 'cc_baseline'))"
   ],
   "metadata": {
    "collapsed": false,
    "ExecuteTime": {
     "end_time": "2024-03-29T22:26:47.856582700Z",
     "start_time": "2024-03-29T22:26:47.825595200Z"
    }
   },
   "id": "7c9504e1e2cc488c"
  },
  {
   "cell_type": "code",
   "execution_count": 25,
   "outputs": [
    {
     "name": "stdout",
     "output_type": "stream",
     "text": [
      "{'weighted_jaccard': 0.303, 'hamming_loss': 0.055, 'precision_micro_avg': 0.548, 'recall_micro_avg': 0.412, 'f1_micro_avg': 0.47, 'precision_macro_avg': 0.433, 'recall_macro_avg': 0.316, 'f1_macro_avg': 0.34, 'precision_weighted_avg': 0.509, 'recall_weighted_avg': 0.412, 'f1_weighted_avg': 0.439, 'precision_samples_avg': 0.551, 'recall_samples_avg': 0.466, 'f1_samples_avg': 0.49}\n"
     ]
    }
   ],
   "source": [
    "print(average_cv_metrics(baseline_experiments, 'lp_baseline'))"
   ],
   "metadata": {
    "collapsed": false,
    "ExecuteTime": {
     "end_time": "2024-03-29T22:26:23.456659600Z",
     "start_time": "2024-03-29T22:26:23.435526100Z"
    }
   },
   "id": "28963f17298aa819"
  },
  {
   "cell_type": "code",
   "execution_count": null,
   "outputs": [],
   "source": [],
   "metadata": {
    "collapsed": false
   },
   "id": "e64c3194ce656a92"
  }
 ],
 "metadata": {
  "kernelspec": {
   "display_name": "Python 3",
   "language": "python",
   "name": "python3"
  },
  "language_info": {
   "codemirror_mode": {
    "name": "ipython",
    "version": 2
   },
   "file_extension": ".py",
   "mimetype": "text/x-python",
   "name": "python",
   "nbconvert_exporter": "python",
   "pygments_lexer": "ipython2",
   "version": "2.7.6"
  }
 },
 "nbformat": 4,
 "nbformat_minor": 5
}
