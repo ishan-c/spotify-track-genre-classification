{
 "cells": [
  {
   "cell_type": "markdown",
   "source": [
    "# Model Exploration"
   ],
   "metadata": {
    "collapsed": false
   },
   "id": "855cbdfb6403c271"
  },
  {
   "cell_type": "code",
   "execution_count": 1,
   "outputs": [],
   "source": [
    "import os\n",
    "import pickle\n",
    "import warnings\n",
    "from pathlib import Path\n",
    "\n",
    "import numpy as np\n",
    "import pandas as pd\n",
    "from dotenv import load_dotenv\n",
    "from sklearn.preprocessing import StandardScaler\n",
    "\n",
    "from evaluation.experiment import Experiment\n",
    "from integrations.databricks.auth import setup_mlflow\n",
    "from models.config import *\n",
    "from models.setup import experiment_setup\n",
    "from utils.dataset import Dataset\n",
    "\n",
    "load_dotenv()\n",
    "\n",
    "setup_mlflow()\n",
    "mlflow_path = os.getenv('MLFLOW_MODEL_EXP')\n",
    "warnings.simplefilter(action='ignore', category=UserWarning)\n",
    "\n",
    "SEED = 42"
   ],
   "metadata": {
    "collapsed": false,
    "ExecuteTime": {
     "end_time": "2024-04-01T22:12:20.086871200Z",
     "start_time": "2024-04-01T22:12:15.397088700Z"
    }
   },
   "id": "409e2390f7b8e4d"
  },
  {
   "cell_type": "code",
   "execution_count": 2,
   "outputs": [],
   "source": [
    "DATA_PATH = Path(os.getenv('PROJECT_ROOT'), '.') / 'data'\n",
    "EXPERIMENT_PATH = Path(os.getenv('PROJECT_ROOT'), '.') / 'experiments'\n",
    "TRACK_DATASET_FILE = DATA_PATH / 'track_dataset_nk.pkl'\n",
    "\n",
    "with open(TRACK_DATASET_FILE, 'rb') as file:\n",
    "    track_dataset = pickle.load(file)"
   ],
   "metadata": {
    "collapsed": false,
    "ExecuteTime": {
     "end_time": "2024-04-01T22:12:20.101730800Z",
     "start_time": "2024-04-01T22:12:20.090825Z"
    }
   },
   "id": "c491fde143eefbeb"
  },
  {
   "cell_type": "code",
   "execution_count": 3,
   "outputs": [],
   "source": [
    "def scale_numeric_data(train_array: np.ndarray, test_array: np.ndarray, feature_names: list, scaled_feature_names: list = None) -> tuple:\n",
    "    \n",
    "    scaler = StandardScaler()\n",
    "    train_df = pd.DataFrame(train_array, columns=feature_names)\n",
    "    test_df = pd.DataFrame(test_array, columns=feature_names)\n",
    "    \n",
    "    if scaled_feature_names is None:\n",
    "        scaled_feature_names = ['duration_ms', 'tempo', 'loudness']\n",
    "    \n",
    "    train_df[scaled_feature_names] = scaler.fit_transform(train_df[scaled_feature_names])\n",
    "    test_df[scaled_feature_names] = scaler.transform(test_df[scaled_feature_names])\n",
    "    \n",
    "    return train_df.to_numpy(), test_df.to_numpy()"
   ],
   "metadata": {
    "collapsed": false,
    "ExecuteTime": {
     "end_time": "2024-04-01T22:12:20.107038300Z",
     "start_time": "2024-04-01T22:12:20.106033900Z"
    }
   },
   "id": "bc9e1a1c2da2925f"
  },
  {
   "cell_type": "code",
   "execution_count": 4,
   "outputs": [],
   "source": [
    "def build_cv_experiments(n_splits: int, dataset: Dataset, random_state=SEED):\n",
    "    train_data, train_labels, _, test_data, test_labels, _ = dataset.split_data(cross_val=True, n_splits=n_splits, iterative=True, random_state=random_state, force_split=True)\n",
    "    \n",
    "    fold_experiments= []\n",
    "    for i in range(n_splits):\n",
    "        train_data[i], test_data[i] = scale_numeric_data(train_data[i], test_data[i], dataset.feature_names)    \n",
    "        fold_characteristics = dataset.get_dataset_characteristics(i)\n",
    "        fold_experiment = Experiment(train_data[i], train_labels[i], test_data[i], test_labels[i], fold_characteristics)\n",
    "        fold_experiments.append(fold_experiment)\n",
    "        \n",
    "    return fold_experiments"
   ],
   "metadata": {
    "collapsed": false,
    "ExecuteTime": {
     "end_time": "2024-04-01T22:12:20.117190Z",
     "start_time": "2024-04-01T22:12:20.112530600Z"
    }
   },
   "id": "1110bb87922c697e"
  },
  {
   "cell_type": "code",
   "execution_count": 5,
   "outputs": [],
   "source": [
    "def run_cv_experiments(experiments, experiment_configs, model_names, tags, save_models, log_results):\n",
    "    for i, experiment in enumerate(experiments):\n",
    "        fold_names = [model_name + f'_{i + 1}' for model_name in model_names]\n",
    "        fold_tags = {model_name + f'_{i + 1}': tags[model_name] for model_name in model_names}\n",
    "        for model_name in fold_tags:\n",
    "            fold_tags[model_name]['Fold'] = f'{i+ 1} / {len(experiments)}'\n",
    "        \n",
    "        fold_models, fold_configs = experiment_setup(experiment_configs, fold_names)\n",
    "        experiment.run_experiment(fold_models, fold_configs, mlflow_path, fold_tags, save_models=save_models, log_results=log_results)"
   ],
   "metadata": {
    "collapsed": false,
    "ExecuteTime": {
     "end_time": "2024-04-01T22:12:20.144083500Z",
     "start_time": "2024-04-01T22:12:20.117190Z"
    }
   },
   "id": "46628d91a8024cb"
  },
  {
   "cell_type": "code",
   "execution_count": 6,
   "outputs": [],
   "source": [
    "baseline_names = ['br_baseline', 'cc_baseline', 'lp_baseline']\n",
    "baseline_tags = {\n",
    "    name: {\n",
    "        'Comments': ['Baseline', 'Time signatures mapped to 4/4', 'No Keys'],\n",
    "        'Label Threshold': '10'\n",
    "    }\n",
    "    for name in baseline_names\n",
    "}"
   ],
   "metadata": {
    "collapsed": false,
    "ExecuteTime": {
     "end_time": "2024-04-01T22:12:20.145105200Z",
     "start_time": "2024-04-01T22:12:20.123446800Z"
    }
   },
   "id": "da8b0f9d1c8506ba"
  },
  {
   "cell_type": "code",
   "execution_count": 7,
   "outputs": [],
   "source": [
    "N_SPLITS = 5"
   ],
   "metadata": {
    "collapsed": false,
    "ExecuteTime": {
     "end_time": "2024-04-01T22:12:20.145105200Z",
     "start_time": "2024-04-01T22:12:20.128614400Z"
    }
   },
   "id": "6c0814cc5192ab4e"
  },
  {
   "cell_type": "code",
   "execution_count": 8,
   "outputs": [],
   "source": [
    "# baseline_experiments = build_cv_experiments(n_splits=N_SPLITS, dataset=track_dataset, random_state=SEED)"
   ],
   "metadata": {
    "collapsed": false,
    "ExecuteTime": {
     "end_time": "2024-04-01T22:12:20.145105200Z",
     "start_time": "2024-04-01T22:12:20.133462400Z"
    }
   },
   "id": "c362d22188de8609"
  },
  {
   "cell_type": "code",
   "execution_count": 9,
   "outputs": [],
   "source": [
    "# run_cv_experiments(baseline_experiments, baseline_experiment_configs, baseline_names, baseline_tags, save_models=True, log_results=True)"
   ],
   "metadata": {
    "collapsed": false,
    "ExecuteTime": {
     "end_time": "2024-04-01T22:12:20.145105200Z",
     "start_time": "2024-04-01T22:12:20.137944600Z"
    }
   },
   "id": "61ab029a7fb5bdef"
  },
  {
   "cell_type": "markdown",
   "source": [],
   "metadata": {
    "collapsed": false
   },
   "id": "5003440d09a522ec"
  },
  {
   "cell_type": "code",
   "execution_count": 10,
   "outputs": [],
   "source": [
    "def save_experiments(experiments, filename: str):\n",
    "    filename = filename + '.pkl' if filename[-4:] != '.pkl' else filename\n",
    "    with open(EXPERIMENT_PATH / filename, 'wb') as f:\n",
    "        pickle.dump(experiments, f)\n",
    "        \n",
    "def load_experiments(name: str):\n",
    "    filename = name + '.pkl' if name[-4:] != '.pkl' else name\n",
    "    with open(EXPERIMENT_PATH / filename, 'rb') as f:\n",
    "        experiments = pickle.load(f)\n",
    "    return experiments"
   ],
   "metadata": {
    "collapsed": false,
    "ExecuteTime": {
     "end_time": "2024-04-01T22:12:20.165419800Z",
     "start_time": "2024-04-01T22:12:20.145105200Z"
    }
   },
   "id": "fe8eaabe21ded868"
  },
  {
   "cell_type": "code",
   "execution_count": 11,
   "outputs": [],
   "source": [
    "# save_experiments(baseline_experiments, 'baseline_experiments')\n",
    "baseline_experiments = load_experiments('baseline_experiments')"
   ],
   "metadata": {
    "collapsed": false,
    "ExecuteTime": {
     "end_time": "2024-04-01T22:12:20.411074900Z",
     "start_time": "2024-04-01T22:12:20.148114200Z"
    }
   },
   "id": "da420881b3540543"
  },
  {
   "cell_type": "code",
   "execution_count": 12,
   "outputs": [],
   "source": [
    "def average_cv_metrics(experiments, model_name_root):\n",
    "    sum_metrics = None\n",
    "    for i, experiment in enumerate(experiments):\n",
    "        fold_model_name = model_name_root + f'_{i + 1}'\n",
    "        fold_metrics = experiment.results[fold_model_name].metrics\n",
    "        if sum_metrics is None:\n",
    "            sum_metrics = fold_metrics.copy()\n",
    "        else:\n",
    "            for key in sum_metrics.keys():\n",
    "                sum_metrics[key] += fold_metrics[key]\n",
    "    \n",
    "    return {key: float(f'{value / len(experiments):.3f}') for key, value in sum_metrics.items()}"
   ],
   "metadata": {
    "collapsed": false,
    "ExecuteTime": {
     "end_time": "2024-04-01T22:12:20.421540400Z",
     "start_time": "2024-04-01T22:12:20.414731200Z"
    }
   },
   "id": "64c9d61ed6781631"
  },
  {
   "cell_type": "code",
   "execution_count": 13,
   "outputs": [
    {
     "name": "stdout",
     "output_type": "stream",
     "text": [
      "{'weighted_jaccard': 0.177, 'hamming_loss': 0.052, 'precision_micro_avg': 0.717, 'recall_micro_avg': 0.203, 'f1_micro_avg': 0.316, 'precision_macro_avg': 0.406, 'recall_macro_avg': 0.145, 'f1_macro_avg': 0.19, 'precision_weighted_avg': 0.527, 'recall_weighted_avg': 0.203, 'f1_weighted_avg': 0.263, 'precision_samples_avg': 0.255, 'recall_samples_avg': 0.24, 'f1_samples_avg': 0.24}\n"
     ]
    }
   ],
   "source": [
    "print(average_cv_metrics(baseline_experiments, 'br_baseline'))"
   ],
   "metadata": {
    "collapsed": false,
    "ExecuteTime": {
     "end_time": "2024-04-01T22:12:20.426277Z",
     "start_time": "2024-04-01T22:12:20.421032200Z"
    }
   },
   "id": "2f4378ae1d9888d4"
  },
  {
   "cell_type": "code",
   "execution_count": 14,
   "outputs": [
    {
     "name": "stdout",
     "output_type": "stream",
     "text": [
      "{'weighted_jaccard': 0.234, 'hamming_loss': 0.056, 'precision_micro_avg': 0.553, 'recall_micro_avg': 0.312, 'f1_micro_avg': 0.399, 'precision_macro_avg': 0.406, 'recall_macro_avg': 0.22, 'f1_macro_avg': 0.25, 'precision_weighted_avg': 0.512, 'recall_weighted_avg': 0.312, 'f1_weighted_avg': 0.344, 'precision_samples_avg': 0.407, 'recall_samples_avg': 0.35, 'f1_samples_avg': 0.364}\n"
     ]
    }
   ],
   "source": [
    "print(average_cv_metrics(baseline_experiments, 'cc_baseline'))"
   ],
   "metadata": {
    "collapsed": false,
    "ExecuteTime": {
     "end_time": "2024-04-01T22:12:20.439568700Z",
     "start_time": "2024-04-01T22:12:20.425826300Z"
    }
   },
   "id": "7c9504e1e2cc488c"
  },
  {
   "cell_type": "code",
   "execution_count": 15,
   "outputs": [
    {
     "name": "stdout",
     "output_type": "stream",
     "text": [
      "{'weighted_jaccard': 0.303, 'hamming_loss': 0.055, 'precision_micro_avg': 0.548, 'recall_micro_avg': 0.412, 'f1_micro_avg': 0.47, 'precision_macro_avg': 0.433, 'recall_macro_avg': 0.316, 'f1_macro_avg': 0.34, 'precision_weighted_avg': 0.509, 'recall_weighted_avg': 0.412, 'f1_weighted_avg': 0.439, 'precision_samples_avg': 0.551, 'recall_samples_avg': 0.466, 'f1_samples_avg': 0.49}\n"
     ]
    }
   ],
   "source": [
    "print(average_cv_metrics(baseline_experiments, 'lp_baseline'))"
   ],
   "metadata": {
    "collapsed": false,
    "ExecuteTime": {
     "end_time": "2024-04-01T22:12:20.440427900Z",
     "start_time": "2024-04-01T22:12:20.431888Z"
    }
   },
   "id": "28963f17298aa819"
  },
  {
   "cell_type": "code",
   "execution_count": 16,
   "outputs": [],
   "source": [
    "baseline_0_1_C_names = ['br_baseline_0_1_C', 'cc_baseline_0_1_C', 'lp_baseline_0_1_C']\n",
    "baseline_0_1_C_tags = {\n",
    "    name: {\n",
    "        'Comments': ['Baseline', 'Time signatures mapped to 4/4', 'No Keys'],\n",
    "        'Label Threshold': '10',\n",
    "        'C': '0.1'\n",
    "    }\n",
    "    for name in baseline_0_1_C_names\n",
    "}\n",
    "\n",
    "baseline_10_C_names = ['br_baseline_10_C', 'cc_baseline_10_C', 'lp_baseline_10_C']\n",
    "baseline_10_C_tags = {\n",
    "    name: {\n",
    "        'Comments': ['Baseline', 'Time signatures mapped to 4/4', 'No Keys'],\n",
    "        'Label Threshold': '10',\n",
    "        'C': '10'\n",
    "    }\n",
    "    for name in baseline_10_C_names\n",
    "}"
   ],
   "metadata": {
    "collapsed": false,
    "ExecuteTime": {
     "end_time": "2024-04-01T22:12:20.460091900Z",
     "start_time": "2024-04-01T22:12:20.440427900Z"
    }
   },
   "id": "e64c3194ce656a92"
  },
  {
   "cell_type": "code",
   "execution_count": 17,
   "outputs": [],
   "source": [
    "# baseline_0_1_C_experiments = build_cv_experiments(n_splits=N_SPLITS, dataset=track_dataset, random_state=SEED)\n",
    "# \n",
    "# baseline_10_C_experiments = build_cv_experiments(n_splits=N_SPLITS, dataset=track_dataset, random_state=SEED)"
   ],
   "metadata": {
    "collapsed": false,
    "ExecuteTime": {
     "end_time": "2024-04-01T22:12:20.522607100Z",
     "start_time": "2024-04-01T22:12:20.443972700Z"
    }
   },
   "id": "ff5dee2dfd7ae154"
  },
  {
   "cell_type": "code",
   "execution_count": 18,
   "outputs": [],
   "source": [
    "# run_cv_experiments(baseline_0_1_C_experiments, baseline_0_1_C_experiment_configs, baseline_0_1_C_names, baseline_0_1_C_tags, save_models=True, log_results=True)"
   ],
   "metadata": {
    "collapsed": false,
    "ExecuteTime": {
     "end_time": "2024-04-01T22:12:20.531715700Z",
     "start_time": "2024-04-01T22:12:20.449449200Z"
    }
   },
   "id": "212e307a3f2bacc4"
  },
  {
   "cell_type": "code",
   "execution_count": 19,
   "outputs": [],
   "source": [
    "# run_cv_experiments(baseline_10_C_experiments, baseline_10_C_experiment_configs, baseline_10_C_names, baseline_10_C_tags, save_models=True, log_results=True)"
   ],
   "metadata": {
    "collapsed": false,
    "ExecuteTime": {
     "end_time": "2024-04-01T22:12:20.531715700Z",
     "start_time": "2024-04-01T22:12:20.453888800Z"
    }
   },
   "id": "89585c7d225f93d1"
  },
  {
   "cell_type": "code",
   "execution_count": 20,
   "outputs": [],
   "source": [
    "# save_experiments(baseline_0_1_C_experiments, 'baseline_0_1_C_experiments')\n",
    "# save_experiments(baseline_10_C_experiments, 'baseline_10_C_experiments')\n",
    "\n",
    "baseline_0_1_C_experiments = load_experiments('baseline_0_1_C_experiments')\n",
    "baseline_10_C_experiments = load_experiments('baseline_10_C_experiments')"
   ],
   "metadata": {
    "collapsed": false,
    "ExecuteTime": {
     "end_time": "2024-04-01T22:12:20.588192Z",
     "start_time": "2024-04-01T22:12:20.458095Z"
    }
   },
   "id": "f3283223ee49f3f7"
  },
  {
   "cell_type": "code",
   "execution_count": 21,
   "outputs": [
    {
     "name": "stdout",
     "output_type": "stream",
     "text": [
      "{'weighted_jaccard': 0.104, 'hamming_loss': 0.055, 'precision_micro_avg': 0.737, 'recall_micro_avg': 0.115, 'f1_micro_avg': 0.199, 'precision_macro_avg': 0.319, 'recall_macro_avg': 0.077, 'f1_macro_avg': 0.107, 'precision_weighted_avg': 0.472, 'recall_weighted_avg': 0.115, 'f1_weighted_avg': 0.16, 'precision_samples_avg': 0.148, 'recall_samples_avg': 0.141, 'f1_samples_avg': 0.14}\n"
     ]
    }
   ],
   "source": [
    "print(average_cv_metrics(baseline_0_1_C_experiments, 'br_baseline_0_1_C'))"
   ],
   "metadata": {
    "collapsed": false,
    "ExecuteTime": {
     "end_time": "2024-04-01T22:12:20.593319600Z",
     "start_time": "2024-04-01T22:12:20.590625600Z"
    }
   },
   "id": "43e906e08c294bfe"
  },
  {
   "cell_type": "code",
   "execution_count": 22,
   "outputs": [
    {
     "name": "stdout",
     "output_type": "stream",
     "text": [
      "{'weighted_jaccard': 0.151, 'hamming_loss': 0.054, 'precision_micro_avg': 0.664, 'recall_micro_avg': 0.173, 'f1_micro_avg': 0.274, 'precision_macro_avg': 0.376, 'recall_macro_avg': 0.117, 'f1_macro_avg': 0.155, 'precision_weighted_avg': 0.527, 'recall_weighted_avg': 0.173, 'f1_weighted_avg': 0.231, 'precision_samples_avg': 0.23, 'recall_samples_avg': 0.203, 'f1_samples_avg': 0.21}\n"
     ]
    }
   ],
   "source": [
    "print(average_cv_metrics(baseline_0_1_C_experiments, 'cc_baseline_0_1_C'))"
   ],
   "metadata": {
    "collapsed": false,
    "ExecuteTime": {
     "end_time": "2024-04-01T22:12:20.606624Z",
     "start_time": "2024-04-01T22:12:20.596268300Z"
    }
   },
   "id": "38f4ef54d9a6573f"
  },
  {
   "cell_type": "code",
   "execution_count": 23,
   "outputs": [
    {
     "name": "stdout",
     "output_type": "stream",
     "text": [
      "{'weighted_jaccard': 0.259, 'hamming_loss': 0.058, 'precision_micro_avg': 0.509, 'recall_micro_avg': 0.375, 'f1_micro_avg': 0.432, 'precision_macro_avg': 0.347, 'recall_macro_avg': 0.259, 'f1_macro_avg': 0.27, 'precision_weighted_avg': 0.445, 'recall_weighted_avg': 0.375, 'f1_weighted_avg': 0.382, 'precision_samples_avg': 0.509, 'recall_samples_avg': 0.422, 'f1_samples_avg': 0.448}\n"
     ]
    }
   ],
   "source": [
    "print(average_cv_metrics(baseline_0_1_C_experiments, 'lp_baseline_0_1_C'))"
   ],
   "metadata": {
    "collapsed": false,
    "ExecuteTime": {
     "end_time": "2024-04-01T22:12:20.609138600Z",
     "start_time": "2024-04-01T22:12:20.600779Z"
    }
   },
   "id": "8db858ab9c9b3f70"
  },
  {
   "cell_type": "code",
   "execution_count": 24,
   "outputs": [
    {
     "name": "stdout",
     "output_type": "stream",
     "text": [
      "{'weighted_jaccard': 0.195, 'hamming_loss': 0.051, 'precision_micro_avg': 0.705, 'recall_micro_avg': 0.226, 'f1_micro_avg': 0.342, 'precision_macro_avg': 0.43, 'recall_macro_avg': 0.169, 'f1_macro_avg': 0.216, 'precision_weighted_avg': 0.543, 'recall_weighted_avg': 0.226, 'f1_weighted_avg': 0.287, 'precision_samples_avg': 0.281, 'recall_samples_avg': 0.265, 'f1_samples_avg': 0.264}\n"
     ]
    }
   ],
   "source": [
    "print(average_cv_metrics(baseline_10_C_experiments, 'br_baseline_10_C'))"
   ],
   "metadata": {
    "collapsed": false,
    "ExecuteTime": {
     "end_time": "2024-04-01T22:12:20.614412800Z",
     "start_time": "2024-04-01T22:12:20.606356100Z"
    }
   },
   "id": "dc32951bddec50ce"
  },
  {
   "cell_type": "code",
   "execution_count": 25,
   "outputs": [
    {
     "name": "stdout",
     "output_type": "stream",
     "text": [
      "{'weighted_jaccard': 0.245, 'hamming_loss': 0.063, 'precision_micro_avg': 0.456, 'recall_micro_avg': 0.343, 'f1_micro_avg': 0.391, 'precision_macro_avg': 0.387, 'recall_macro_avg': 0.27, 'f1_macro_avg': 0.266, 'precision_weighted_avg': 0.503, 'recall_weighted_avg': 0.343, 'f1_weighted_avg': 0.362, 'precision_samples_avg': 0.443, 'recall_samples_avg': 0.384, 'f1_samples_avg': 0.397}\n"
     ]
    }
   ],
   "source": [
    "print(average_cv_metrics(baseline_10_C_experiments, 'cc_baseline_10_C'))"
   ],
   "metadata": {
    "collapsed": false,
    "ExecuteTime": {
     "end_time": "2024-04-01T22:12:20.707421400Z",
     "start_time": "2024-04-01T22:12:20.610137100Z"
    }
   },
   "id": "7c0554c20ab63fd"
  },
  {
   "cell_type": "code",
   "execution_count": 26,
   "outputs": [
    {
     "name": "stdout",
     "output_type": "stream",
     "text": [
      "{'weighted_jaccard': 0.315, 'hamming_loss': 0.054, 'precision_micro_avg': 0.553, 'recall_micro_avg': 0.425, 'f1_micro_avg': 0.481, 'precision_macro_avg': 0.438, 'recall_macro_avg': 0.342, 'f1_macro_avg': 0.368, 'precision_weighted_avg': 0.519, 'recall_weighted_avg': 0.425, 'f1_weighted_avg': 0.455, 'precision_samples_avg': 0.559, 'recall_samples_avg': 0.48, 'f1_samples_avg': 0.501}\n"
     ]
    }
   ],
   "source": [
    "print(average_cv_metrics(baseline_10_C_experiments, 'lp_baseline_10_C'))"
   ],
   "metadata": {
    "collapsed": false,
    "ExecuteTime": {
     "end_time": "2024-04-01T22:12:20.718633100Z",
     "start_time": "2024-04-01T22:12:20.617507700Z"
    }
   },
   "id": "7956c0621ba31ead"
  },
  {
   "cell_type": "code",
   "execution_count": 27,
   "outputs": [],
   "source": [
    "baseline_100_C_names = ['br_baseline_100_C', 'cc_baseline_100_C', 'lp_baseline_100_C']\n",
    "baseline_100_C_tags = {\n",
    "    name: {\n",
    "        'Comments': ['Baseline', 'Time signatures mapped to 4/4', 'No Keys'],\n",
    "        'Label Threshold': '10',\n",
    "        'C': '100'\n",
    "    }\n",
    "    for name in baseline_100_C_names\n",
    "}"
   ],
   "metadata": {
    "collapsed": false,
    "ExecuteTime": {
     "end_time": "2024-04-01T22:12:20.718633100Z",
     "start_time": "2024-04-01T22:12:20.622584500Z"
    }
   },
   "id": "7f27411edae37777"
  },
  {
   "cell_type": "code",
   "execution_count": 28,
   "outputs": [],
   "source": [
    "# baseline_100_C_experiments = build_cv_experiments(n_splits=N_SPLITS, dataset=track_dataset, random_state=SEED)"
   ],
   "metadata": {
    "collapsed": false,
    "ExecuteTime": {
     "end_time": "2024-04-01T22:12:20.720633200Z",
     "start_time": "2024-04-01T22:12:20.628222300Z"
    }
   },
   "id": "959919b2be14b4be"
  },
  {
   "cell_type": "code",
   "execution_count": 29,
   "outputs": [],
   "source": [
    "# run_cv_experiments(baseline_100_C_experiments, baseline_100_C_experiment_configs, baseline_100_C_names, baseline_100_C_tags, save_models=True, log_results=True)"
   ],
   "metadata": {
    "collapsed": false,
    "ExecuteTime": {
     "end_time": "2024-04-01T22:12:20.720633200Z",
     "start_time": "2024-04-01T22:12:20.632653500Z"
    }
   },
   "id": "4478ee23da9fb11a"
  },
  {
   "cell_type": "code",
   "execution_count": 30,
   "outputs": [],
   "source": [
    "# save_experiments(baseline_100_C_experiments, 'baseline_100_C_experiments')\n",
    "\n",
    "baseline_100_C_experiments = load_experiments('baseline_100_C_experiments')"
   ],
   "metadata": {
    "collapsed": false,
    "ExecuteTime": {
     "end_time": "2024-04-01T22:12:20.721633100Z",
     "start_time": "2024-04-01T22:12:20.637317400Z"
    }
   },
   "id": "e726edf0c94829df"
  },
  {
   "cell_type": "code",
   "execution_count": 31,
   "outputs": [
    {
     "name": "stdout",
     "output_type": "stream",
     "text": [
      "{'weighted_jaccard': 0.197, 'hamming_loss': 0.051, 'precision_micro_avg': 0.699, 'recall_micro_avg': 0.23, 'f1_micro_avg': 0.346, 'precision_macro_avg': 0.451, 'recall_macro_avg': 0.173, 'f1_macro_avg': 0.221, 'precision_weighted_avg': 0.557, 'recall_weighted_avg': 0.23, 'f1_weighted_avg': 0.291, 'precision_samples_avg': 0.285, 'recall_samples_avg': 0.269, 'f1_samples_avg': 0.267}\n"
     ]
    }
   ],
   "source": [
    "print(average_cv_metrics(baseline_100_C_experiments, 'br_baseline_100_C'))"
   ],
   "metadata": {
    "collapsed": false,
    "ExecuteTime": {
     "end_time": "2024-04-01T22:12:20.721633100Z",
     "start_time": "2024-04-01T22:12:20.659954800Z"
    }
   },
   "id": "33d90d0eac45aa91"
  },
  {
   "cell_type": "code",
   "execution_count": 32,
   "outputs": [
    {
     "name": "stdout",
     "output_type": "stream",
     "text": [
      "{'weighted_jaccard': 0.247, 'hamming_loss': 0.064, 'precision_micro_avg': 0.448, 'recall_micro_avg': 0.346, 'f1_micro_avg': 0.39, 'precision_macro_avg': 0.384, 'recall_macro_avg': 0.278, 'f1_macro_avg': 0.266, 'precision_weighted_avg': 0.504, 'recall_weighted_avg': 0.346, 'f1_weighted_avg': 0.364, 'precision_samples_avg': 0.445, 'recall_samples_avg': 0.386, 'f1_samples_avg': 0.4}\n"
     ]
    }
   ],
   "source": [
    "print(average_cv_metrics(baseline_100_C_experiments, 'cc_baseline_100_C'))"
   ],
   "metadata": {
    "collapsed": false,
    "ExecuteTime": {
     "end_time": "2024-04-01T22:12:20.721633100Z",
     "start_time": "2024-04-01T22:12:20.664895500Z"
    }
   },
   "id": "7300646557990618"
  },
  {
   "cell_type": "code",
   "execution_count": 33,
   "outputs": [
    {
     "name": "stdout",
     "output_type": "stream",
     "text": [
      "{'weighted_jaccard': 0.318, 'hamming_loss': 0.054, 'precision_micro_avg': 0.55, 'recall_micro_avg': 0.429, 'f1_micro_avg': 0.482, 'precision_macro_avg': 0.44, 'recall_macro_avg': 0.348, 'f1_macro_avg': 0.373, 'precision_weighted_avg': 0.523, 'recall_weighted_avg': 0.429, 'f1_weighted_avg': 0.459, 'precision_samples_avg': 0.558, 'recall_samples_avg': 0.482, 'f1_samples_avg': 0.502}\n"
     ]
    }
   ],
   "source": [
    "print(average_cv_metrics(baseline_100_C_experiments, 'lp_baseline_100_C'))"
   ],
   "metadata": {
    "collapsed": false,
    "ExecuteTime": {
     "end_time": "2024-04-01T22:12:20.722761700Z",
     "start_time": "2024-04-01T22:12:20.668900800Z"
    }
   },
   "id": "d4bd941797190a28"
  },
  {
   "cell_type": "code",
   "execution_count": 34,
   "outputs": [],
   "source": [
    "baseline_saga_10_C_names = ['br_baseline_saga_10_C', 'cc_baseline_saga_10_C', 'lp_baseline_saga_10_C']\n",
    "baseline_saga_10_C_tags = {\n",
    "    name: {\n",
    "        'Comments': ['Baseline', 'Time signatures mapped to 4/4', 'No Keys'],\n",
    "        'Label Threshold': '10',\n",
    "        'C': '10',\n",
    "        'solver': 'saga'\n",
    "    }\n",
    "    for name in baseline_saga_10_C_names\n",
    "}"
   ],
   "metadata": {
    "collapsed": false,
    "ExecuteTime": {
     "end_time": "2024-04-01T22:12:20.722861100Z",
     "start_time": "2024-04-01T22:12:20.675223600Z"
    }
   },
   "id": "ce5db446d28515c4"
  },
  {
   "cell_type": "code",
   "execution_count": 35,
   "outputs": [
    {
     "name": "stdout",
     "output_type": "stream",
     "text": [
      "Dataset has already been split, proceeding will overwrite split data.\n",
      "`force_split`=True, Proceeding with new split.\n"
     ]
    }
   ],
   "source": [
    "# baseline_saga_10_C_experiments = build_cv_experiments(n_splits=N_SPLITS, dataset=track_dataset, random_state=SEED)"
   ],
   "metadata": {
    "collapsed": false,
    "ExecuteTime": {
     "end_time": "2024-04-01T22:12:21.147845300Z",
     "start_time": "2024-04-01T22:12:20.680737800Z"
    }
   },
   "id": "fef930478a77fa45"
  },
  {
   "cell_type": "code",
   "execution_count": 36,
   "outputs": [
    {
     "name": "stdout",
     "output_type": "stream",
     "text": [
      "Running model: br_baseline_saga_10_C_1\n"
     ]
    },
    {
     "data": {
      "text/plain": "Uploading artifacts:   0%|          | 0/5 [00:00<?, ?it/s]",
      "application/vnd.jupyter.widget-view+json": {
       "version_major": 2,
       "version_minor": 0,
       "model_id": "2d1fb530eca64bebbb50e24eee924fc1"
      }
     },
     "metadata": {},
     "output_type": "display_data"
    },
    {
     "name": "stdout",
     "output_type": "stream",
     "text": [
      "br_baseline_saga_10_C_1 complete.\n",
      "Running model: cc_baseline_saga_10_C_1\n"
     ]
    },
    {
     "data": {
      "text/plain": "Uploading artifacts:   0%|          | 0/5 [00:00<?, ?it/s]",
      "application/vnd.jupyter.widget-view+json": {
       "version_major": 2,
       "version_minor": 0,
       "model_id": "da062b44525a4d1581b8a0b6fdc159d8"
      }
     },
     "metadata": {},
     "output_type": "display_data"
    },
    {
     "name": "stdout",
     "output_type": "stream",
     "text": [
      "cc_baseline_saga_10_C_1 complete.\n",
      "Running model: lp_baseline_saga_10_C_1\n"
     ]
    },
    {
     "data": {
      "text/plain": "Uploading artifacts:   0%|          | 0/5 [00:00<?, ?it/s]",
      "application/vnd.jupyter.widget-view+json": {
       "version_major": 2,
       "version_minor": 0,
       "model_id": "7f10e71fb80e4dccacee0b504ea6d3ee"
      }
     },
     "metadata": {},
     "output_type": "display_data"
    },
    {
     "name": "stdout",
     "output_type": "stream",
     "text": [
      "lp_baseline_saga_10_C_1 complete.\n",
      "Running model: br_baseline_saga_10_C_2\n"
     ]
    },
    {
     "data": {
      "text/plain": "Uploading artifacts:   0%|          | 0/5 [00:00<?, ?it/s]",
      "application/vnd.jupyter.widget-view+json": {
       "version_major": 2,
       "version_minor": 0,
       "model_id": "fe2b3a9a0a1741d0b8e88d7a24d84d50"
      }
     },
     "metadata": {},
     "output_type": "display_data"
    },
    {
     "name": "stdout",
     "output_type": "stream",
     "text": [
      "br_baseline_saga_10_C_2 complete.\n",
      "Running model: cc_baseline_saga_10_C_2\n"
     ]
    },
    {
     "data": {
      "text/plain": "Uploading artifacts:   0%|          | 0/5 [00:00<?, ?it/s]",
      "application/vnd.jupyter.widget-view+json": {
       "version_major": 2,
       "version_minor": 0,
       "model_id": "17b1d868d50d4cbb994ee0594f8f2516"
      }
     },
     "metadata": {},
     "output_type": "display_data"
    },
    {
     "name": "stdout",
     "output_type": "stream",
     "text": [
      "cc_baseline_saga_10_C_2 complete.\n",
      "Running model: lp_baseline_saga_10_C_2\n"
     ]
    },
    {
     "data": {
      "text/plain": "Uploading artifacts:   0%|          | 0/5 [00:00<?, ?it/s]",
      "application/vnd.jupyter.widget-view+json": {
       "version_major": 2,
       "version_minor": 0,
       "model_id": "914f08e61c654d62824e401af90a4723"
      }
     },
     "metadata": {},
     "output_type": "display_data"
    },
    {
     "name": "stdout",
     "output_type": "stream",
     "text": [
      "lp_baseline_saga_10_C_2 complete.\n",
      "Running model: br_baseline_saga_10_C_3\n"
     ]
    },
    {
     "data": {
      "text/plain": "Uploading artifacts:   0%|          | 0/5 [00:00<?, ?it/s]",
      "application/vnd.jupyter.widget-view+json": {
       "version_major": 2,
       "version_minor": 0,
       "model_id": "93486753e2a54810b3b913fa2ade9ccd"
      }
     },
     "metadata": {},
     "output_type": "display_data"
    },
    {
     "name": "stdout",
     "output_type": "stream",
     "text": [
      "br_baseline_saga_10_C_3 complete.\n",
      "Running model: cc_baseline_saga_10_C_3\n"
     ]
    },
    {
     "data": {
      "text/plain": "Uploading artifacts:   0%|          | 0/5 [00:00<?, ?it/s]",
      "application/vnd.jupyter.widget-view+json": {
       "version_major": 2,
       "version_minor": 0,
       "model_id": "8eb388385cd0490686acfbe201eb10a2"
      }
     },
     "metadata": {},
     "output_type": "display_data"
    },
    {
     "name": "stdout",
     "output_type": "stream",
     "text": [
      "cc_baseline_saga_10_C_3 complete.\n",
      "Running model: lp_baseline_saga_10_C_3\n"
     ]
    },
    {
     "data": {
      "text/plain": "Uploading artifacts:   0%|          | 0/5 [00:00<?, ?it/s]",
      "application/vnd.jupyter.widget-view+json": {
       "version_major": 2,
       "version_minor": 0,
       "model_id": "01e0421f51024be188227be4959456f5"
      }
     },
     "metadata": {},
     "output_type": "display_data"
    },
    {
     "name": "stdout",
     "output_type": "stream",
     "text": [
      "lp_baseline_saga_10_C_3 complete.\n",
      "Running model: br_baseline_saga_10_C_4\n"
     ]
    },
    {
     "data": {
      "text/plain": "Uploading artifacts:   0%|          | 0/5 [00:00<?, ?it/s]",
      "application/vnd.jupyter.widget-view+json": {
       "version_major": 2,
       "version_minor": 0,
       "model_id": "1c23a56696554c18bded9c44ba84cb18"
      }
     },
     "metadata": {},
     "output_type": "display_data"
    },
    {
     "name": "stdout",
     "output_type": "stream",
     "text": [
      "br_baseline_saga_10_C_4 complete.\n",
      "Running model: cc_baseline_saga_10_C_4\n"
     ]
    },
    {
     "data": {
      "text/plain": "Uploading artifacts:   0%|          | 0/5 [00:00<?, ?it/s]",
      "application/vnd.jupyter.widget-view+json": {
       "version_major": 2,
       "version_minor": 0,
       "model_id": "4e205898788649908acf6fa985183a9f"
      }
     },
     "metadata": {},
     "output_type": "display_data"
    },
    {
     "name": "stdout",
     "output_type": "stream",
     "text": [
      "cc_baseline_saga_10_C_4 complete.\n",
      "Running model: lp_baseline_saga_10_C_4\n"
     ]
    },
    {
     "data": {
      "text/plain": "Uploading artifacts:   0%|          | 0/5 [00:00<?, ?it/s]",
      "application/vnd.jupyter.widget-view+json": {
       "version_major": 2,
       "version_minor": 0,
       "model_id": "21f54493b87e4f5aa8df642cc7d10b55"
      }
     },
     "metadata": {},
     "output_type": "display_data"
    },
    {
     "name": "stdout",
     "output_type": "stream",
     "text": [
      "lp_baseline_saga_10_C_4 complete.\n",
      "Running model: br_baseline_saga_10_C_5\n"
     ]
    },
    {
     "data": {
      "text/plain": "Uploading artifacts:   0%|          | 0/5 [00:00<?, ?it/s]",
      "application/vnd.jupyter.widget-view+json": {
       "version_major": 2,
       "version_minor": 0,
       "model_id": "b12baf23baab40199a8a3e5ce9f05ef9"
      }
     },
     "metadata": {},
     "output_type": "display_data"
    },
    {
     "name": "stdout",
     "output_type": "stream",
     "text": [
      "br_baseline_saga_10_C_5 complete.\n",
      "Running model: cc_baseline_saga_10_C_5\n"
     ]
    },
    {
     "data": {
      "text/plain": "Uploading artifacts:   0%|          | 0/5 [00:00<?, ?it/s]",
      "application/vnd.jupyter.widget-view+json": {
       "version_major": 2,
       "version_minor": 0,
       "model_id": "9ff2eb6a5cfd4641b8a5558c283197e2"
      }
     },
     "metadata": {},
     "output_type": "display_data"
    },
    {
     "name": "stdout",
     "output_type": "stream",
     "text": [
      "cc_baseline_saga_10_C_5 complete.\n",
      "Running model: lp_baseline_saga_10_C_5\n"
     ]
    },
    {
     "data": {
      "text/plain": "Uploading artifacts:   0%|          | 0/5 [00:00<?, ?it/s]",
      "application/vnd.jupyter.widget-view+json": {
       "version_major": 2,
       "version_minor": 0,
       "model_id": "dc3803bc3c7e4132acdcbfdf7b2162bd"
      }
     },
     "metadata": {},
     "output_type": "display_data"
    },
    {
     "name": "stdout",
     "output_type": "stream",
     "text": [
      "lp_baseline_saga_10_C_5 complete.\n"
     ]
    }
   ],
   "source": [
    "# run_cv_experiments(baseline_saga_10_C_experiments, baseline_saga_10_C_experiment_configs, baseline_saga_10_C_names, baseline_saga_10_C_tags, save_models=True, log_results=True)"
   ],
   "metadata": {
    "collapsed": false,
    "ExecuteTime": {
     "end_time": "2024-04-01T22:24:08.425764400Z",
     "start_time": "2024-04-01T22:12:21.150785500Z"
    }
   },
   "id": "56fa01740a44177b"
  },
  {
   "cell_type": "code",
   "execution_count": 37,
   "outputs": [],
   "source": [
    "# save_experiments(baseline_saga_10_C_experiments, 'baseline_saga_10_C_experiments')\n",
    "\n",
    "baseline_saga_10_C_experiments = load_experiments('baseline_saga_10_C_experiments')"
   ],
   "metadata": {
    "collapsed": false,
    "ExecuteTime": {
     "end_time": "2024-04-01T22:24:08.451713300Z",
     "start_time": "2024-04-01T22:24:08.429157700Z"
    }
   },
   "id": "c45805600b527307"
  },
  {
   "cell_type": "code",
   "execution_count": 38,
   "outputs": [
    {
     "name": "stdout",
     "output_type": "stream",
     "text": [
      "{'weighted_jaccard': 0.195, 'hamming_loss': 0.051, 'precision_micro_avg': 0.703, 'recall_micro_avg': 0.227, 'f1_micro_avg': 0.343, 'precision_macro_avg': 0.43, 'recall_macro_avg': 0.168, 'f1_macro_avg': 0.215, 'precision_weighted_avg': 0.552, 'recall_weighted_avg': 0.227, 'f1_weighted_avg': 0.288, 'precision_samples_avg': 0.282, 'recall_samples_avg': 0.266, 'f1_samples_avg': 0.265}\n"
     ]
    }
   ],
   "source": [
    "print(average_cv_metrics(baseline_saga_10_C_experiments, 'br_baseline_saga_10_C'))"
   ],
   "metadata": {
    "collapsed": false,
    "ExecuteTime": {
     "end_time": "2024-04-01T22:24:08.459290100Z",
     "start_time": "2024-04-01T22:24:08.454764800Z"
    }
   },
   "id": "fe7b808a2a115960"
  },
  {
   "cell_type": "code",
   "execution_count": 39,
   "outputs": [
    {
     "name": "stdout",
     "output_type": "stream",
     "text": [
      "{'weighted_jaccard': 0.247, 'hamming_loss': 0.063, 'precision_micro_avg': 0.457, 'recall_micro_avg': 0.344, 'f1_micro_avg': 0.393, 'precision_macro_avg': 0.385, 'recall_macro_avg': 0.27, 'f1_macro_avg': 0.265, 'precision_weighted_avg': 0.506, 'recall_weighted_avg': 0.344, 'f1_weighted_avg': 0.364, 'precision_samples_avg': 0.444, 'recall_samples_avg': 0.385, 'f1_samples_avg': 0.399}\n"
     ]
    }
   ],
   "source": [
    "print(average_cv_metrics(baseline_saga_10_C_experiments, 'cc_baseline_saga_10_C'))"
   ],
   "metadata": {
    "collapsed": false,
    "ExecuteTime": {
     "end_time": "2024-04-01T22:24:08.512179100Z",
     "start_time": "2024-04-01T22:24:08.458290700Z"
    }
   },
   "id": "cd0d9163573960e2"
  },
  {
   "cell_type": "code",
   "execution_count": 40,
   "outputs": [
    {
     "name": "stdout",
     "output_type": "stream",
     "text": [
      "{'weighted_jaccard': 0.317, 'hamming_loss': 0.054, 'precision_micro_avg': 0.555, 'recall_micro_avg': 0.426, 'f1_micro_avg': 0.482, 'precision_macro_avg': 0.445, 'recall_macro_avg': 0.342, 'f1_macro_avg': 0.369, 'precision_weighted_avg': 0.523, 'recall_weighted_avg': 0.426, 'f1_weighted_avg': 0.457, 'precision_samples_avg': 0.56, 'recall_samples_avg': 0.48, 'f1_samples_avg': 0.502}\n"
     ]
    }
   ],
   "source": [
    "print(average_cv_metrics(baseline_saga_10_C_experiments, 'lp_baseline_saga_10_C'))"
   ],
   "metadata": {
    "collapsed": false,
    "ExecuteTime": {
     "end_time": "2024-04-01T22:24:08.513170200Z",
     "start_time": "2024-04-01T22:24:08.465615700Z"
    }
   },
   "id": "b900c870313cfc39"
  },
  {
   "cell_type": "code",
   "execution_count": null,
   "outputs": [],
   "source": [
    "baseline_linearsvc_names = ['br_baseline_linearsvc', 'cc_baseline_linearsvc', 'lp_baseline_linearsvc']\n",
    "baseline_linearsvc_tags = {\n",
    "    name: {\n",
    "        'Comments': ['Baseline', 'Time signatures mapped to 4/4', 'No Keys'],\n",
    "        'Label Threshold': '10'\n",
    "    }\n",
    "    for name in baseline_linearsvc_names\n",
    "}\n",
    "\n",
    "baseline_random_forest_names = ['br_baseline_random_forest', 'cc_baseline_random_forest', 'lp_baseline_random_forest']\n",
    "baseline_random_forest_tags = {\n",
    "    name: {\n",
    "        'Comments': ['Baseline', 'Time signatures mapped to 4/4', 'No Keys'],\n",
    "        'Label Threshold': '10',\n",
    "    }\n",
    "    for name in baseline_random_forest_names\n",
    "}\n",
    "\n",
    "baseline_gradient_boost_names = ['br_baseline_gradient_boost', 'cc_baseline_gradient_boost', 'lp_baseline_gradient_boost']\n",
    "baseline_gradient_boost_tags = {\n",
    "    name: {\n",
    "        'Comments': ['Baseline', 'Time signatures mapped to 4/4', 'No Keys'],\n",
    "        'Label Threshold': '10',\n",
    "    }\n",
    "    for name in baseline_gradient_boost_names\n",
    "}"
   ],
   "metadata": {
    "collapsed": false
   },
   "id": "11eaffb9973721de"
  },
  {
   "cell_type": "code",
   "execution_count": null,
   "outputs": [],
   "source": [
    "baseline_linearsvc_experiments = build_cv_experiments(n_splits=N_SPLITS, dataset=track_dataset, random_state=SEED)\n",
    "baseline_random_forest_experiments = build_cv_experiments(n_splits=N_SPLITS, dataset=track_dataset, random_state=SEED)\n",
    "baseline_gradient_boost_experiments = build_cv_experiments(n_splits=N_SPLITS, dataset=track_dataset, random_state=SEED)"
   ],
   "metadata": {
    "collapsed": false
   },
   "id": "e236b87d381c3ceb"
  },
  {
   "cell_type": "code",
   "execution_count": null,
   "outputs": [],
   "source": [
    "run_cv_experiments(baseline_linearsvc_experiments, baseline_linearsvc_experiment_configs, baseline_linearsvc_names, baseline_linearsvc_tags, save_models=True, log_results=True)"
   ],
   "metadata": {
    "collapsed": false
   },
   "id": "a30b89452295e660"
  },
  {
   "cell_type": "code",
   "execution_count": null,
   "outputs": [],
   "source": [
    "run_cv_experiments(baseline_random_forest_experiments, baseline_random_forest_experiment_configs, baseline_saga_10_C_names, baseline_random_forest_tags, save_models=True, log_results=True)"
   ],
   "metadata": {
    "collapsed": false
   },
   "id": "57555deb1187286d"
  },
  {
   "cell_type": "code",
   "execution_count": null,
   "outputs": [],
   "source": [
    "run_cv_experiments(baseline_gradient_boost_experiments, baseline_gradient_boost_experiment_configs, baseline_gradient_boost_names, baseline_gradient_boost_tags, save_models=True, log_results=True)"
   ],
   "metadata": {
    "collapsed": false
   },
   "id": "7647844dbc06185a"
  },
  {
   "cell_type": "code",
   "execution_count": null,
   "outputs": [],
   "source": [
    "save_experiments(baseline_linearsvc_experiments, 'baseline_linearsvc_experiments')\n",
    "save_experiments(baseline_random_forest_experiments, 'baseline_random_forest_experiments')\n",
    "save_experiments(baseline_gradient_boost_experiments, 'baseline_gradient_boost_experiments')\n",
    "\n",
    "# baseline_linearsvc_experiments = load_experiments('baseline_linearsvc_experiments')\n",
    "# baseline_random_forest_experiments = load_experiments('baseline_random_forest_experiments')\n",
    "# baseline_gradient_boost_experiments = load_experiments('baseline_gradient_boost_experiments')"
   ],
   "metadata": {
    "collapsed": false
   },
   "id": "7bddcd271ec9f2ca"
  },
  {
   "cell_type": "code",
   "execution_count": null,
   "outputs": [],
   "source": [
    "print(average_cv_metrics(baseline_saga_10_C_experiments, 'br_baseline_linearsvc'))"
   ],
   "metadata": {
    "collapsed": false
   },
   "id": "79426bdfd79cdaac"
  },
  {
   "cell_type": "code",
   "execution_count": null,
   "outputs": [],
   "source": [
    "print(average_cv_metrics(baseline_saga_10_C_experiments, 'cc_baseline_linearsvc'))"
   ],
   "metadata": {
    "collapsed": false
   },
   "id": "36dc37329854849f"
  },
  {
   "cell_type": "code",
   "execution_count": null,
   "outputs": [],
   "source": [
    "print(average_cv_metrics(baseline_saga_10_C_experiments, 'lp_baseline_linearsvc'))"
   ],
   "metadata": {
    "collapsed": false
   },
   "id": "886c887bea19c65c"
  },
  {
   "cell_type": "code",
   "execution_count": null,
   "outputs": [],
   "source": [
    "print(average_cv_metrics(baseline_saga_10_C_experiments, 'br_baseline_random_forest'))"
   ],
   "metadata": {
    "collapsed": false
   },
   "id": "5dba54132729a19b"
  },
  {
   "cell_type": "code",
   "execution_count": null,
   "outputs": [],
   "source": [
    "print(average_cv_metrics(baseline_saga_10_C_experiments, 'cc_baseline_random_forest'))"
   ],
   "metadata": {
    "collapsed": false
   },
   "id": "9d1fde18f80fa544"
  },
  {
   "cell_type": "code",
   "execution_count": null,
   "outputs": [],
   "source": [
    "print(average_cv_metrics(baseline_saga_10_C_experiments, 'lp_baseline_random_forest'))"
   ],
   "metadata": {
    "collapsed": false
   },
   "id": "301d613bbb0d7bd0"
  },
  {
   "cell_type": "code",
   "execution_count": null,
   "outputs": [],
   "source": [
    "print(average_cv_metrics(baseline_saga_10_C_experiments, 'br_baseline_gradient_boost'))"
   ],
   "metadata": {
    "collapsed": false
   },
   "id": "5ea0bad27916da98"
  },
  {
   "cell_type": "code",
   "execution_count": null,
   "outputs": [],
   "source": [
    "print(average_cv_metrics(baseline_saga_10_C_experiments, 'cc_baseline_gradient_boost'))"
   ],
   "metadata": {
    "collapsed": false
   },
   "id": "c5961c4280d91ac6"
  },
  {
   "cell_type": "code",
   "execution_count": null,
   "outputs": [],
   "source": [
    "print(average_cv_metrics(baseline_saga_10_C_experiments, 'lp_baseline_gradient_boost'))"
   ],
   "metadata": {
    "collapsed": false
   },
   "id": "3824999086f2131a"
  }
 ],
 "metadata": {
  "kernelspec": {
   "display_name": "Python 3",
   "language": "python",
   "name": "python3"
  },
  "language_info": {
   "codemirror_mode": {
    "name": "ipython",
    "version": 2
   },
   "file_extension": ".py",
   "mimetype": "text/x-python",
   "name": "python",
   "nbconvert_exporter": "python",
   "pygments_lexer": "ipython2",
   "version": "2.7.6"
  }
 },
 "nbformat": 4,
 "nbformat_minor": 5
}
