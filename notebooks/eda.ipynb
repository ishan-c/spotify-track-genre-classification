{
 "cells": [
  {
   "cell_type": "markdown",
   "source": [
    "# Exploratory Data Analysis"
   ],
   "metadata": {
    "collapsed": false
   },
   "id": "8775fd8a67056b9"
  },
  {
   "cell_type": "markdown",
   "source": [
    "Placeholder text"
   ],
   "metadata": {
    "collapsed": false
   },
   "id": "726c63dd479cf3cb"
  },
  {
   "cell_type": "markdown",
   "source": [
    "### Load Data"
   ],
   "metadata": {
    "collapsed": false
   },
   "id": "1a638f762817a02a"
  },
  {
   "cell_type": "markdown",
   "source": [
    "#### Import Libraries"
   ],
   "metadata": {
    "collapsed": false
   },
   "id": "d05b7d7492218dfa"
  },
  {
   "cell_type": "code",
   "execution_count": 2,
   "outputs": [],
   "source": [
    "import os\n",
    "from pathlib import Path\n",
    "\n",
    "import matplotlib.pyplot as plt\n",
    "import numpy as np\n",
    "import pandas as pd\n",
    "import seaborn as sns\n",
    "from dotenv import load_dotenv"
   ],
   "metadata": {
    "collapsed": false,
    "ExecuteTime": {
     "end_time": "2024-02-22T23:24:12.373794900Z",
     "start_time": "2024-02-22T23:24:11.329201500Z"
    }
   },
   "id": "d1c4fd83e00a3227"
  },
  {
   "cell_type": "code",
   "execution_count": 3,
   "outputs": [],
   "source": [
    "# Define Data location\n",
    "load_dotenv()\n",
    "\n",
    "DATA_PATH = Path(os.getenv('PROJECT_ROOT'), '.') / 'data'\n",
    "TRACKS_FILE = DATA_PATH / 'spotify_track_features.csv'\n",
    "ARTISTS_FILE = DATA_PATH / 'spotify_artist_features.csv'"
   ],
   "metadata": {
    "collapsed": false,
    "ExecuteTime": {
     "end_time": "2024-02-22T23:24:12.388762700Z",
     "start_time": "2024-02-22T23:24:12.382546800Z"
    }
   },
   "id": "6e0715092f7d24a7"
  },
  {
   "cell_type": "code",
   "execution_count": 4,
   "outputs": [],
   "source": [
    "# Import data\n",
    "tracks = pd.read_csv(TRACKS_FILE)\n",
    "artists = pd.read_csv(ARTISTS_FILE)"
   ],
   "metadata": {
    "collapsed": false,
    "ExecuteTime": {
     "end_time": "2024-02-22T23:24:12.622860700Z",
     "start_time": "2024-02-22T23:24:12.543347Z"
    }
   },
   "id": "c80a5841a8c5f555"
  },
  {
   "cell_type": "markdown",
   "source": [
    "#### Inspect data"
   ],
   "metadata": {
    "collapsed": false
   },
   "id": "a0162211b378c337"
  },
  {
   "cell_type": "code",
   "execution_count": 5,
   "outputs": [
    {
     "data": {
      "text/plain": "                 track_id  duration_ms  \\\n0  0yM3VmM8gHEVGViKvAbQkc       353920   \n1  5yR9jaIJerOKso2maFPU0w       216133   \n2  7FmI3ygVG04KIhikMHKOKB       315013   \n3  3qmB68tGvftnxiomUaNKMW       305373   \n4  5gw8HNcrqliEw0X6pPrPvG       182746   \n\n                                          track_name  track_popularity  \\\n0  Defying Gravity - From \"Wicked\" Original Broad...                56   \n1                                       One Day More                 0   \n2                                    A Little Priest                46   \n3                 And I Am Telling You I'm Not Going                 0   \n4                                    Seasons of Love                60   \n\n                                          artist_ids  acousticness  \\\n0  ['7daPb40K64rRtF36wd3ZOk', '3DgcBA7P0ji5co7Z1G...         0.722   \n1                         ['7EzZtsaDuv0EecScnO7wrh']         0.870   \n2  ['3OsHwkxpSIEqqmYoQxZTT5', '7gX22Ua3mEH2KXTCpI...         0.874   \n3  ['35GL8Cu2GKTcHzKGi75xl5', '0LyfQWJT6nXafLPZqx...         0.206   \n4  ['5gGhRZgP9BJL9fsFdvTzeX', '6jRmwlzMVSICyO97aN...         0.609   \n\n   danceability  energy  instrumentalness  key  liveness  loudness  mode  \\\n0         0.333   0.377          0.000000    6    0.0333    -8.282     1   \n1         0.221   0.477          0.000091    9    0.1730    -7.463     1   \n2         0.537   0.203          0.000000    6    0.0576   -14.700     1   \n3         0.467   0.734          0.000000   10    0.1600    -5.149     1   \n4         0.475   0.579          0.000000    5    0.0756    -4.096     1   \n\n   speechiness    tempo  time_signature  valence  \n0       0.0343   87.613               4    0.245  \n1       0.0316   78.604               4    0.256  \n2       0.0778  105.925               3    0.380  \n3       0.0811  121.351               4    0.345  \n4       0.0334  178.151               4    0.466  ",
      "text/html": "<div>\n<style scoped>\n    .dataframe tbody tr th:only-of-type {\n        vertical-align: middle;\n    }\n\n    .dataframe tbody tr th {\n        vertical-align: top;\n    }\n\n    .dataframe thead th {\n        text-align: right;\n    }\n</style>\n<table border=\"1\" class=\"dataframe\">\n  <thead>\n    <tr style=\"text-align: right;\">\n      <th></th>\n      <th>track_id</th>\n      <th>duration_ms</th>\n      <th>track_name</th>\n      <th>track_popularity</th>\n      <th>artist_ids</th>\n      <th>acousticness</th>\n      <th>danceability</th>\n      <th>energy</th>\n      <th>instrumentalness</th>\n      <th>key</th>\n      <th>liveness</th>\n      <th>loudness</th>\n      <th>mode</th>\n      <th>speechiness</th>\n      <th>tempo</th>\n      <th>time_signature</th>\n      <th>valence</th>\n    </tr>\n  </thead>\n  <tbody>\n    <tr>\n      <th>0</th>\n      <td>0yM3VmM8gHEVGViKvAbQkc</td>\n      <td>353920</td>\n      <td>Defying Gravity - From \"Wicked\" Original Broad...</td>\n      <td>56</td>\n      <td>['7daPb40K64rRtF36wd3ZOk', '3DgcBA7P0ji5co7Z1G...</td>\n      <td>0.722</td>\n      <td>0.333</td>\n      <td>0.377</td>\n      <td>0.000000</td>\n      <td>6</td>\n      <td>0.0333</td>\n      <td>-8.282</td>\n      <td>1</td>\n      <td>0.0343</td>\n      <td>87.613</td>\n      <td>4</td>\n      <td>0.245</td>\n    </tr>\n    <tr>\n      <th>1</th>\n      <td>5yR9jaIJerOKso2maFPU0w</td>\n      <td>216133</td>\n      <td>One Day More</td>\n      <td>0</td>\n      <td>['7EzZtsaDuv0EecScnO7wrh']</td>\n      <td>0.870</td>\n      <td>0.221</td>\n      <td>0.477</td>\n      <td>0.000091</td>\n      <td>9</td>\n      <td>0.1730</td>\n      <td>-7.463</td>\n      <td>1</td>\n      <td>0.0316</td>\n      <td>78.604</td>\n      <td>4</td>\n      <td>0.256</td>\n    </tr>\n    <tr>\n      <th>2</th>\n      <td>7FmI3ygVG04KIhikMHKOKB</td>\n      <td>315013</td>\n      <td>A Little Priest</td>\n      <td>46</td>\n      <td>['3OsHwkxpSIEqqmYoQxZTT5', '7gX22Ua3mEH2KXTCpI...</td>\n      <td>0.874</td>\n      <td>0.537</td>\n      <td>0.203</td>\n      <td>0.000000</td>\n      <td>6</td>\n      <td>0.0576</td>\n      <td>-14.700</td>\n      <td>1</td>\n      <td>0.0778</td>\n      <td>105.925</td>\n      <td>3</td>\n      <td>0.380</td>\n    </tr>\n    <tr>\n      <th>3</th>\n      <td>3qmB68tGvftnxiomUaNKMW</td>\n      <td>305373</td>\n      <td>And I Am Telling You I'm Not Going</td>\n      <td>0</td>\n      <td>['35GL8Cu2GKTcHzKGi75xl5', '0LyfQWJT6nXafLPZqx...</td>\n      <td>0.206</td>\n      <td>0.467</td>\n      <td>0.734</td>\n      <td>0.000000</td>\n      <td>10</td>\n      <td>0.1600</td>\n      <td>-5.149</td>\n      <td>1</td>\n      <td>0.0811</td>\n      <td>121.351</td>\n      <td>4</td>\n      <td>0.345</td>\n    </tr>\n    <tr>\n      <th>4</th>\n      <td>5gw8HNcrqliEw0X6pPrPvG</td>\n      <td>182746</td>\n      <td>Seasons of Love</td>\n      <td>60</td>\n      <td>['5gGhRZgP9BJL9fsFdvTzeX', '6jRmwlzMVSICyO97aN...</td>\n      <td>0.609</td>\n      <td>0.475</td>\n      <td>0.579</td>\n      <td>0.000000</td>\n      <td>5</td>\n      <td>0.0756</td>\n      <td>-4.096</td>\n      <td>1</td>\n      <td>0.0334</td>\n      <td>178.151</td>\n      <td>4</td>\n      <td>0.466</td>\n    </tr>\n  </tbody>\n</table>\n</div>"
     },
     "execution_count": 5,
     "metadata": {},
     "output_type": "execute_result"
    }
   ],
   "source": [
    "tracks.head()"
   ],
   "metadata": {
    "collapsed": false,
    "ExecuteTime": {
     "end_time": "2024-02-22T23:24:14.036224600Z",
     "start_time": "2024-02-22T23:24:14.001038400Z"
    }
   },
   "id": "54a190756ed8ae97"
  },
  {
   "cell_type": "code",
   "execution_count": 6,
   "outputs": [
    {
     "data": {
      "text/plain": "                                       artist_genres               artist_id  \\\n0                         ['orchestral performance']  1C3E8y3WbXJJYWs9Ex11et   \n1                                          ['gogeo']  6Oq5iunq4z5E4yAdNpWAjk   \n2  ['edm', 'electro house', 'pop dance', 'progres...  6TQj5BFPooTa08A7pk8AQ1   \n3                                                 []  68NgHHqc86eozApgpR8ZTz   \n4                              ['nueva ola chilena']  4yBGwLykrZ7TsKLIepDxYJ   \n\n       artist_name  artist_popularity  artist_followers  \n0   José Serebrier                 39              1757  \n1       Susan Díaz                 43              4323  \n2          Kaskade                 65            922955  \n3            Big O                 31               976  \n4  Carlos Gonzalez                 33              1449  ",
      "text/html": "<div>\n<style scoped>\n    .dataframe tbody tr th:only-of-type {\n        vertical-align: middle;\n    }\n\n    .dataframe tbody tr th {\n        vertical-align: top;\n    }\n\n    .dataframe thead th {\n        text-align: right;\n    }\n</style>\n<table border=\"1\" class=\"dataframe\">\n  <thead>\n    <tr style=\"text-align: right;\">\n      <th></th>\n      <th>artist_genres</th>\n      <th>artist_id</th>\n      <th>artist_name</th>\n      <th>artist_popularity</th>\n      <th>artist_followers</th>\n    </tr>\n  </thead>\n  <tbody>\n    <tr>\n      <th>0</th>\n      <td>['orchestral performance']</td>\n      <td>1C3E8y3WbXJJYWs9Ex11et</td>\n      <td>José Serebrier</td>\n      <td>39</td>\n      <td>1757</td>\n    </tr>\n    <tr>\n      <th>1</th>\n      <td>['gogeo']</td>\n      <td>6Oq5iunq4z5E4yAdNpWAjk</td>\n      <td>Susan Díaz</td>\n      <td>43</td>\n      <td>4323</td>\n    </tr>\n    <tr>\n      <th>2</th>\n      <td>['edm', 'electro house', 'pop dance', 'progres...</td>\n      <td>6TQj5BFPooTa08A7pk8AQ1</td>\n      <td>Kaskade</td>\n      <td>65</td>\n      <td>922955</td>\n    </tr>\n    <tr>\n      <th>3</th>\n      <td>[]</td>\n      <td>68NgHHqc86eozApgpR8ZTz</td>\n      <td>Big O</td>\n      <td>31</td>\n      <td>976</td>\n    </tr>\n    <tr>\n      <th>4</th>\n      <td>['nueva ola chilena']</td>\n      <td>4yBGwLykrZ7TsKLIepDxYJ</td>\n      <td>Carlos Gonzalez</td>\n      <td>33</td>\n      <td>1449</td>\n    </tr>\n  </tbody>\n</table>\n</div>"
     },
     "execution_count": 6,
     "metadata": {},
     "output_type": "execute_result"
    }
   ],
   "source": [
    "artists.head()"
   ],
   "metadata": {
    "collapsed": false,
    "ExecuteTime": {
     "end_time": "2024-02-22T23:24:15.152628300Z",
     "start_time": "2024-02-22T23:24:15.144151400Z"
    }
   },
   "id": "126bb285e70130f2"
  },
  {
   "cell_type": "markdown",
   "source": [
    "#### Initial Transforms"
   ],
   "metadata": {
    "collapsed": false
   },
   "id": "623d0a476ca01078"
  },
  {
   "cell_type": "code",
   "execution_count": null,
   "outputs": [],
   "source": [],
   "metadata": {
    "collapsed": false
   },
   "id": "20f18da486c29058"
  }
 ],
 "metadata": {
  "kernelspec": {
   "display_name": "Python 3",
   "language": "python",
   "name": "python3"
  },
  "language_info": {
   "codemirror_mode": {
    "name": "ipython",
    "version": 2
   },
   "file_extension": ".py",
   "mimetype": "text/x-python",
   "name": "python",
   "nbconvert_exporter": "python",
   "pygments_lexer": "ipython2",
   "version": "2.7.6"
  }
 },
 "nbformat": 4,
 "nbformat_minor": 5
}
