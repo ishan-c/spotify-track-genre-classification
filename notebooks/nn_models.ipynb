{
 "cells": [
  {
   "cell_type": "markdown",
   "source": [
    "# Neural Network Model Exploration"
   ],
   "metadata": {
    "collapsed": false
   },
   "id": "bafe4d2b732f94ba"
  },
  {
   "cell_type": "code",
   "execution_count": null,
   "outputs": [],
   "source": [
    "import os\n",
    "import pickle\n",
    "import warnings\n",
    "from pathlib import Path\n",
    "\n",
    "import numpy as np\n",
    "import pandas as pd\n",
    "from dotenv import load_dotenv\n",
    "\n",
    "from integrations.databricks.auth import setup_mlflow\n",
    "from utils.cross_validation_functions import average_cv_metrics, build_cv_experiments, run_cv_experiments\n",
    "from utils.dataset import Dataset\n",
    "from utils.experiment_files import load_experiments, save_experiments\n",
    "from utils.scaling import scale_numeric_data\n",
    "\n",
    "load_dotenv()\n",
    "\n",
    "setup_mlflow()\n",
    "mlflow_path = os.getenv('MLFLOW_NN_EXP')\n",
    "warnings.simplefilter(action='ignore', category=UserWarning)\n",
    "\n",
    "SEED = 42\n",
    "N_SPLITS = 5"
   ],
   "metadata": {
    "collapsed": false
   },
   "id": "cceab4e9eefb1bbe"
  },
  {
   "cell_type": "code",
   "execution_count": null,
   "outputs": [],
   "source": [
    "DATA_PATH = Path(os.getenv('PROJECT_ROOT'), '.') / 'data'\n",
    "EXPERIMENT_PATH = Path(os.getenv('PROJECT_ROOT'), '.') / 'experiments'\n",
    "TRACK_DATASET_FILE = DATA_PATH / 'track_dataset_nk.pkl'\n",
    "\n",
    "with open(TRACK_DATASET_FILE, 'rb') as file:\n",
    "    track_dataset = pickle.load(file)"
   ],
   "metadata": {
    "collapsed": false
   },
   "id": "f3fecd0467833e8"
  },
  {
   "cell_type": "code",
   "execution_count": null,
   "outputs": [],
   "source": [],
   "metadata": {
    "collapsed": false
   },
   "id": "9c3bbb4adbb752d4"
  }
 ],
 "metadata": {
  "kernelspec": {
   "display_name": "Python 3",
   "language": "python",
   "name": "python3"
  },
  "language_info": {
   "codemirror_mode": {
    "name": "ipython",
    "version": 2
   },
   "file_extension": ".py",
   "mimetype": "text/x-python",
   "name": "python",
   "nbconvert_exporter": "python",
   "pygments_lexer": "ipython2",
   "version": "2.7.6"
  }
 },
 "nbformat": 4,
 "nbformat_minor": 5
}
